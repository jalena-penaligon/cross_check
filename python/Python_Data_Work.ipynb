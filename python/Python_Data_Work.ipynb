{
 "cells": [
  {
   "cell_type": "code",
   "execution_count": null,
   "metadata": {
    "collapsed": true
   },
   "outputs": [],
   "source": [
    "!dir ..\\data"
   ]
  },
  {
   "cell_type": "code",
   "execution_count": 1,
   "metadata": {
    "collapsed": true
   },
   "outputs": [],
   "source": [
    "import pandas as pd\n",
    "import numpy as np"
   ]
  },
  {
   "cell_type": "code",
   "execution_count": 2,
   "metadata": {
    "collapsed": true
   },
   "outputs": [],
   "source": [
    "root = \"../data/\"\n",
    "game = root+'game.csv'\n",
    "small_game = root+'game_small.csv'\n",
    "vs_game = root+'game_very_small.csv'\n",
    "\n",
    "gt = root+'game_teams_stats.csv'\n",
    "small_gt = root+'game_teams_stats_small.csv'\n",
    "vs_gt = root+ 'game_teams_stats_very_small.csv'\n",
    "\n",
    "team = root+'team_info.csv'\n",
    "\n",
    "team_df = pd.read_csv(team)\n",
    "team_df.index = team_df.team_id\n",
    "team_ser = team_df['teamName']\n",
    "team_dict = team_ser.to_dict()\n",
    "\n",
    "game_df = pd.read_csv(game)\n",
    "small_game_df = pd.read_csv(small_game)\n",
    "vs_game_df = pd.read_csv(vs_game)\n",
    "\n",
    "for df in [game_df,small_game_df, vs_game_df]:\n",
    "    df['homeTeam'] = df['home_team_id'].map(team_dict)\n",
    "    df['awayTeam'] = df['away_team_id'].map(team_dict)\n",
    "    \n",
    "gt_df = pd.read_csv(gt)\n",
    "small_gt_df = pd.read_csv(small_gt)\n",
    "vs_gt_df = pd.read_csv(vs_gt)\n",
    "\n"
   ]
  },
  {
   "cell_type": "code",
   "execution_count": null,
   "metadata": {
    "collapsed": true
   },
   "outputs": [],
   "source": []
  },
  {
   "cell_type": "code",
   "execution_count": 12,
   "metadata": {},
   "outputs": [
    {
     "data": {
      "text/html": [
       "<div>\n",
       "<style scoped>\n",
       "    .dataframe tbody tr th:only-of-type {\n",
       "        vertical-align: middle;\n",
       "    }\n",
       "\n",
       "    .dataframe tbody tr th {\n",
       "        vertical-align: top;\n",
       "    }\n",
       "\n",
       "    .dataframe thead th {\n",
       "        text-align: right;\n",
       "    }\n",
       "</style>\n",
       "<table border=\"1\" class=\"dataframe\">\n",
       "  <thead>\n",
       "    <tr style=\"text-align: right;\">\n",
       "      <th></th>\n",
       "      <th>Unnamed: 0</th>\n",
       "      <th>game_id</th>\n",
       "      <th>season</th>\n",
       "      <th>type</th>\n",
       "      <th>date_time</th>\n",
       "      <th>away_team_id</th>\n",
       "      <th>home_team_id</th>\n",
       "      <th>away_goals</th>\n",
       "      <th>home_goals</th>\n",
       "      <th>outcome</th>\n",
       "      <th>home_rink_side_start</th>\n",
       "      <th>venue</th>\n",
       "      <th>venue_link</th>\n",
       "      <th>venue_time_zone_id</th>\n",
       "      <th>venue_time_zone_offset</th>\n",
       "      <th>venue_time_zone_tz</th>\n",
       "      <th>homeTeam</th>\n",
       "      <th>awayTeam</th>\n",
       "    </tr>\n",
       "  </thead>\n",
       "  <tbody>\n",
       "    <tr>\n",
       "      <th>0</th>\n",
       "      <td>0</td>\n",
       "      <td>2012030221</td>\n",
       "      <td>20122013</td>\n",
       "      <td>P</td>\n",
       "      <td>2013-05-16</td>\n",
       "      <td>3</td>\n",
       "      <td>6</td>\n",
       "      <td>2</td>\n",
       "      <td>3</td>\n",
       "      <td>home win OT</td>\n",
       "      <td>left</td>\n",
       "      <td>TD Garden</td>\n",
       "      <td>/api/v1/venues/null</td>\n",
       "      <td>America/New_York</td>\n",
       "      <td>-4</td>\n",
       "      <td>EDT</td>\n",
       "      <td>Bruins</td>\n",
       "      <td>Rangers</td>\n",
       "    </tr>\n",
       "    <tr>\n",
       "      <th>1</th>\n",
       "      <td>1</td>\n",
       "      <td>2012030222</td>\n",
       "      <td>20122013</td>\n",
       "      <td>P</td>\n",
       "      <td>2013-05-19</td>\n",
       "      <td>3</td>\n",
       "      <td>6</td>\n",
       "      <td>2</td>\n",
       "      <td>5</td>\n",
       "      <td>home win REG</td>\n",
       "      <td>left</td>\n",
       "      <td>TD Garden</td>\n",
       "      <td>/api/v1/venues/null</td>\n",
       "      <td>America/New_York</td>\n",
       "      <td>-4</td>\n",
       "      <td>EDT</td>\n",
       "      <td>Bruins</td>\n",
       "      <td>Rangers</td>\n",
       "    </tr>\n",
       "  </tbody>\n",
       "</table>\n",
       "</div>"
      ],
      "text/plain": [
       "   Unnamed: 0     game_id    season type   date_time  away_team_id  \\\n",
       "0           0  2012030221  20122013    P  2013-05-16             3   \n",
       "1           1  2012030222  20122013    P  2013-05-19             3   \n",
       "\n",
       "   home_team_id  away_goals  home_goals       outcome home_rink_side_start  \\\n",
       "0             6           2           3   home win OT                 left   \n",
       "1             6           2           5  home win REG                 left   \n",
       "\n",
       "       venue           venue_link venue_time_zone_id  venue_time_zone_offset  \\\n",
       "0  TD Garden  /api/v1/venues/null   America/New_York                      -4   \n",
       "1  TD Garden  /api/v1/venues/null   America/New_York                      -4   \n",
       "\n",
       "  venue_time_zone_tz homeTeam awayTeam  \n",
       "0                EDT   Bruins  Rangers  \n",
       "1                EDT   Bruins  Rangers  "
      ]
     },
     "execution_count": 12,
     "metadata": {},
     "output_type": "execute_result"
    }
   ],
   "source": [
    "vs_game_df"
   ]
  },
  {
   "cell_type": "code",
   "execution_count": 3,
   "metadata": {
    "collapsed": true
   },
   "outputs": [],
   "source": [
    "to_keep = ['game_id', 'team_id', 'HoA', 'won', 'settled_in', 'head_coach', 'goals',\n",
    "       'shots', 'hits', 'pim', 'powerPlayOpportunities', 'powerPlayGoals',\n",
    "       'faceOffWinPercentage', 'giveaways', 'takeaways', 'season', 'type',\n",
    "       'date_time','venue_time_zone_tz','teamName', \"home_goals\",\"away_goals\", 'homeTeam','awayTeam']"
   ]
  },
  {
   "cell_type": "code",
   "execution_count": null,
   "metadata": {
    "collapsed": true
   },
   "outputs": [],
   "source": []
  },
  {
   "cell_type": "code",
   "execution_count": 4,
   "metadata": {
    "collapsed": true
   },
   "outputs": [],
   "source": [
    "# gt_df.merge(game_df, on = \"game_id\"\n",
    "#            ).merge(team_df, on = \"team_id\"\n",
    "#            ).merge(team_df[['team_id','teamName']],\n",
    "#                    left_on = \"home_team_id\", right_on = \"team_id\",\n",
    "#                    suffixes = (\"Home\",\"_\")\n",
    "#            ).merge(team_df[['team_id','teamName']],\n",
    "#                    left_on = \"away_team_id\", right_on = \"team_id\",\n",
    "#                    suffixes = (\"Away\",\"_\"))\n"
   ]
  },
  {
   "cell_type": "code",
   "execution_count": 9,
   "metadata": {},
   "outputs": [
    {
     "name": "stderr",
     "output_type": "stream",
     "text": [
      "C:\\Users\\William\\Anaconda3\\lib\\site-packages\\ipykernel_launcher.py:1: FutureWarning: 'team_id' is both an index level and a column label.\n",
      "Defaulting to column, but this will raise an ambiguity error in a future version\n",
      "  \"\"\"Entry point for launching an IPython kernel.\n",
      "C:\\Users\\William\\Anaconda3\\lib\\site-packages\\ipykernel_launcher.py:2: FutureWarning: 'team_id' is both an index level and a column label.\n",
      "Defaulting to column, but this will raise an ambiguity error in a future version\n",
      "  \n",
      "C:\\Users\\William\\Anaconda3\\lib\\site-packages\\ipykernel_launcher.py:3: FutureWarning: 'team_id' is both an index level and a column label.\n",
      "Defaulting to column, but this will raise an ambiguity error in a future version\n",
      "  This is separate from the ipykernel package so we can avoid doing imports until\n"
     ]
    }
   ],
   "source": [
    "full_df = gt_df.merge(game_df, on = \"game_id\").merge(team_df, on = \"team_id\")[to_keep]\n",
    "small_df = small_gt_df.merge(small_game_df, on = \"game_id\").merge(team_df, on = \"team_id\")[to_keep]\n",
    "vs_df = vs_gt_df.merge(vs_game_df, on = \"game_id\").merge(team_df, on = \"team_id\")[to_keep]\n",
    "\n",
    "df_names = ['full','small', 'vs']\n",
    "dfs = [full_df,small_df, vs_df]\n",
    "\n",
    "for df in dfs:\n",
    "    df['opp_team'] = np.where(df['teamName'] == df['homeTeam'], df['awayTeam'],df['homeTeam'])\n",
    "    df['opp_goal'] = np.where(df.HoA == \"away\", df.home_goals, df.away_goals)\n",
    "    df['margin'] = df['goals'] - df['opp_goal']"
   ]
  },
  {
   "cell_type": "code",
   "execution_count": 10,
   "metadata": {},
   "outputs": [
    {
     "data": {
      "text/html": [
       "<div>\n",
       "<style scoped>\n",
       "    .dataframe tbody tr th:only-of-type {\n",
       "        vertical-align: middle;\n",
       "    }\n",
       "\n",
       "    .dataframe tbody tr th {\n",
       "        vertical-align: top;\n",
       "    }\n",
       "\n",
       "    .dataframe thead th {\n",
       "        text-align: right;\n",
       "    }\n",
       "</style>\n",
       "<table border=\"1\" class=\"dataframe\">\n",
       "  <thead>\n",
       "    <tr style=\"text-align: right;\">\n",
       "      <th></th>\n",
       "      <th>game_id</th>\n",
       "      <th>team_id</th>\n",
       "      <th>HoA</th>\n",
       "      <th>won</th>\n",
       "      <th>settled_in</th>\n",
       "      <th>head_coach</th>\n",
       "      <th>goals</th>\n",
       "      <th>shots</th>\n",
       "      <th>hits</th>\n",
       "      <th>pim</th>\n",
       "      <th>...</th>\n",
       "      <th>date_time</th>\n",
       "      <th>venue_time_zone_tz</th>\n",
       "      <th>teamName</th>\n",
       "      <th>home_goals</th>\n",
       "      <th>away_goals</th>\n",
       "      <th>homeTeam</th>\n",
       "      <th>awayTeam</th>\n",
       "      <th>opp_team</th>\n",
       "      <th>opp_goal</th>\n",
       "      <th>margin</th>\n",
       "    </tr>\n",
       "  </thead>\n",
       "  <tbody>\n",
       "    <tr>\n",
       "      <th>0</th>\n",
       "      <td>2012030221</td>\n",
       "      <td>3</td>\n",
       "      <td>away</td>\n",
       "      <td>False</td>\n",
       "      <td>OT</td>\n",
       "      <td>John Tortorella</td>\n",
       "      <td>2</td>\n",
       "      <td>35</td>\n",
       "      <td>44</td>\n",
       "      <td>8</td>\n",
       "      <td>...</td>\n",
       "      <td>2013-05-16</td>\n",
       "      <td>EDT</td>\n",
       "      <td>Rangers</td>\n",
       "      <td>3</td>\n",
       "      <td>2</td>\n",
       "      <td>Bruins</td>\n",
       "      <td>Rangers</td>\n",
       "      <td>Bruins</td>\n",
       "      <td>3</td>\n",
       "      <td>-1</td>\n",
       "    </tr>\n",
       "    <tr>\n",
       "      <th>1</th>\n",
       "      <td>2012030222</td>\n",
       "      <td>3</td>\n",
       "      <td>away</td>\n",
       "      <td>False</td>\n",
       "      <td>REG</td>\n",
       "      <td>John Tortorella</td>\n",
       "      <td>2</td>\n",
       "      <td>37</td>\n",
       "      <td>33</td>\n",
       "      <td>11</td>\n",
       "      <td>...</td>\n",
       "      <td>2013-05-19</td>\n",
       "      <td>EDT</td>\n",
       "      <td>Rangers</td>\n",
       "      <td>5</td>\n",
       "      <td>2</td>\n",
       "      <td>Bruins</td>\n",
       "      <td>Rangers</td>\n",
       "      <td>Bruins</td>\n",
       "      <td>5</td>\n",
       "      <td>-3</td>\n",
       "    </tr>\n",
       "    <tr>\n",
       "      <th>2</th>\n",
       "      <td>2012030223</td>\n",
       "      <td>3</td>\n",
       "      <td>home</td>\n",
       "      <td>False</td>\n",
       "      <td>REG</td>\n",
       "      <td>John Tortorella</td>\n",
       "      <td>1</td>\n",
       "      <td>24</td>\n",
       "      <td>37</td>\n",
       "      <td>2</td>\n",
       "      <td>...</td>\n",
       "      <td>2013-05-21</td>\n",
       "      <td>EDT</td>\n",
       "      <td>Rangers</td>\n",
       "      <td>1</td>\n",
       "      <td>2</td>\n",
       "      <td>Rangers</td>\n",
       "      <td>Bruins</td>\n",
       "      <td>Bruins</td>\n",
       "      <td>2</td>\n",
       "      <td>-1</td>\n",
       "    </tr>\n",
       "    <tr>\n",
       "      <th>3</th>\n",
       "      <td>2012030224</td>\n",
       "      <td>3</td>\n",
       "      <td>home</td>\n",
       "      <td>True</td>\n",
       "      <td>OT</td>\n",
       "      <td>John Tortorella</td>\n",
       "      <td>4</td>\n",
       "      <td>32</td>\n",
       "      <td>40</td>\n",
       "      <td>8</td>\n",
       "      <td>...</td>\n",
       "      <td>2013-05-23</td>\n",
       "      <td>EDT</td>\n",
       "      <td>Rangers</td>\n",
       "      <td>4</td>\n",
       "      <td>3</td>\n",
       "      <td>Rangers</td>\n",
       "      <td>Bruins</td>\n",
       "      <td>Bruins</td>\n",
       "      <td>3</td>\n",
       "      <td>1</td>\n",
       "    </tr>\n",
       "    <tr>\n",
       "      <th>4</th>\n",
       "      <td>2012030225</td>\n",
       "      <td>3</td>\n",
       "      <td>away</td>\n",
       "      <td>False</td>\n",
       "      <td>REG</td>\n",
       "      <td>John Tortorella</td>\n",
       "      <td>1</td>\n",
       "      <td>29</td>\n",
       "      <td>25</td>\n",
       "      <td>13</td>\n",
       "      <td>...</td>\n",
       "      <td>2013-05-25</td>\n",
       "      <td>EDT</td>\n",
       "      <td>Rangers</td>\n",
       "      <td>3</td>\n",
       "      <td>1</td>\n",
       "      <td>Bruins</td>\n",
       "      <td>Rangers</td>\n",
       "      <td>Bruins</td>\n",
       "      <td>3</td>\n",
       "      <td>-2</td>\n",
       "    </tr>\n",
       "  </tbody>\n",
       "</table>\n",
       "<p>5 rows × 27 columns</p>\n",
       "</div>"
      ],
      "text/plain": [
       "      game_id  team_id   HoA    won settled_in       head_coach  goals  shots  \\\n",
       "0  2012030221        3  away  False         OT  John Tortorella      2     35   \n",
       "1  2012030222        3  away  False        REG  John Tortorella      2     37   \n",
       "2  2012030223        3  home  False        REG  John Tortorella      1     24   \n",
       "3  2012030224        3  home   True         OT  John Tortorella      4     32   \n",
       "4  2012030225        3  away  False        REG  John Tortorella      1     29   \n",
       "\n",
       "   hits  pim  ...     date_time  venue_time_zone_tz  teamName  home_goals  \\\n",
       "0    44    8  ...    2013-05-16                 EDT   Rangers           3   \n",
       "1    33   11  ...    2013-05-19                 EDT   Rangers           5   \n",
       "2    37    2  ...    2013-05-21                 EDT   Rangers           1   \n",
       "3    40    8  ...    2013-05-23                 EDT   Rangers           4   \n",
       "4    25   13  ...    2013-05-25                 EDT   Rangers           3   \n",
       "\n",
       "   away_goals  homeTeam awayTeam opp_team opp_goal margin  \n",
       "0           2    Bruins  Rangers   Bruins        3     -1  \n",
       "1           2    Bruins  Rangers   Bruins        5     -3  \n",
       "2           2   Rangers   Bruins   Bruins        2     -1  \n",
       "3           3   Rangers   Bruins   Bruins        3      1  \n",
       "4           1    Bruins  Rangers   Bruins        3     -2  \n",
       "\n",
       "[5 rows x 27 columns]"
      ]
     },
     "execution_count": 10,
     "metadata": {},
     "output_type": "execute_result"
    }
   ],
   "source": [
    "full_df.head()"
   ]
  },
  {
   "cell_type": "markdown",
   "metadata": {},
   "source": [
    "### highest_total_score"
   ]
  },
  {
   "cell_type": "code",
   "execution_count": 8,
   "metadata": {},
   "outputs": [
    {
     "name": "stdout",
     "output_type": "stream",
     "text": [
      "full \n",
      " game_id\n",
      "2016020661    15\n",
      "Name: goals, dtype: int64 \n",
      "\n",
      "small \n",
      " game_id\n",
      "2012030312    7\n",
      "Name: goals, dtype: int64 \n",
      "\n",
      "vs \n",
      " game_id\n",
      "2012030222    7\n",
      "Name: goals, dtype: int64 \n",
      "\n"
     ]
    }
   ],
   "source": [
    "for name, df in zip(df_names, dfs):\n",
    "    print(name,\"\\n\", df.groupby('game_id')['goals'].sum().sort_values(ascending = False).head(1), '\\n')"
   ]
  },
  {
   "cell_type": "markdown",
   "metadata": {},
   "source": [
    "### lowest_total_score"
   ]
  },
  {
   "cell_type": "code",
   "execution_count": 9,
   "metadata": {},
   "outputs": [
    {
     "name": "stdout",
     "output_type": "stream",
     "text": [
      "full \n",
      " game_id\n",
      "2014020456    0\n",
      "Name: goals, dtype: int64 \n",
      "\n",
      "small \n",
      " game_id\n",
      "2012030314    1\n",
      "Name: goals, dtype: int64 \n",
      "\n",
      "vs \n",
      " game_id\n",
      "2012030221    5\n",
      "Name: goals, dtype: int64 \n",
      "\n"
     ]
    }
   ],
   "source": [
    "for name, df in zip(df_names, dfs):\n",
    "    print(name,\"\\n\", df.groupby('game_id')['goals'].sum().sort_values(ascending = True).head(1), '\\n')"
   ]
  },
  {
   "cell_type": "markdown",
   "metadata": {},
   "source": [
    "### biggest_blowout"
   ]
  },
  {
   "cell_type": "code",
   "execution_count": 10,
   "metadata": {},
   "outputs": [
    {
     "name": "stdout",
     "output_type": "stream",
     "text": [
      "full \n",
      " game_id\n",
      "2016020158    10\n",
      "Name: goals, dtype: int64 \n",
      "\n",
      "small \n",
      " game_id\n",
      "2012030312    5\n",
      "Name: goals, dtype: int64 \n",
      "\n",
      "vs \n",
      " game_id\n",
      "2012030222    3\n",
      "Name: goals, dtype: int64 \n",
      "\n"
     ]
    }
   ],
   "source": [
    "def find_diff(x):\n",
    "    if len(x) == 1: return 0\n",
    "    else: return abs(x[0]-x[1])\n",
    "    \n",
    "    \n",
    "for name, df in zip(df_names, dfs):\n",
    "    print(name,\"\\n\",df.groupby('game_id')['goals'].unique().apply(find_diff).sort_values(ascending = False).head(1), \"\\n\")"
   ]
  },
  {
   "cell_type": "markdown",
   "metadata": {},
   "source": [
    "### count_of_games_by_season"
   ]
  },
  {
   "cell_type": "code",
   "execution_count": 11,
   "metadata": {},
   "outputs": [
    {
     "name": "stdout",
     "output_type": "stream",
     "text": [
      "full \n",
      " season\n",
      "20122013     806.0\n",
      "20132014    1323.0\n",
      "20142015    1319.0\n",
      "20152016    1321.0\n",
      "20162017    1317.0\n",
      "20172018    1355.0\n",
      "Name: goals, dtype: float64 \n",
      "\n",
      "small \n",
      " season\n",
      "20122013    20.0\n",
      "Name: goals, dtype: float64 \n",
      "\n",
      "vs \n",
      " season\n",
      "20122013    2.0\n",
      "Name: goals, dtype: float64 \n",
      "\n"
     ]
    }
   ],
   "source": [
    "for name, df in zip(df_names, dfs):\n",
    "    print(name,\"\\n\",df.groupby('season')['goals'].count()/2, \"\\n\")"
   ]
  },
  {
   "cell_type": "markdown",
   "metadata": {},
   "source": [
    "### percentage_visitor_wins"
   ]
  },
  {
   "cell_type": "code",
   "execution_count": 12,
   "metadata": {},
   "outputs": [
    {
     "name": "stdout",
     "output_type": "stream",
     "text": [
      "full \n",
      " 0.4504770864131165 \n",
      "\n",
      "small \n",
      " 0.3 \n",
      "\n",
      "vs \n",
      " 0.0 \n",
      "\n"
     ]
    }
   ],
   "source": [
    "for name, df in zip(df_names, dfs):\n",
    "    print(name,\"\\n\", df[df.HoA == \"away\"].won.mean(),\"\\n\")"
   ]
  },
  {
   "cell_type": "markdown",
   "metadata": {},
   "source": [
    "### percentage_home_wins"
   ]
  },
  {
   "cell_type": "code",
   "execution_count": 13,
   "metadata": {},
   "outputs": [
    {
     "name": "stdout",
     "output_type": "stream",
     "text": [
      "full \n",
      " 0.5495229135868834 \n",
      "\n",
      "small \n",
      " 0.7 \n",
      "\n",
      "vs \n",
      " 1.0 \n",
      "\n"
     ]
    }
   ],
   "source": [
    "for name, df in zip(df_names, dfs):\n",
    "    print(name,\"\\n\", df[df.HoA == \"home\"].won.mean(),\"\\n\")"
   ]
  },
  {
   "cell_type": "markdown",
   "metadata": {},
   "source": [
    " ### average_goals_per_game"
   ]
  },
  {
   "cell_type": "code",
   "execution_count": 14,
   "metadata": {},
   "outputs": [
    {
     "name": "stdout",
     "output_type": "stream",
     "text": [
      "full \n",
      " 5.44080096761188 \n",
      "\n",
      "small \n",
      " 4.65 \n",
      "\n",
      "vs \n",
      " 6.0 \n",
      "\n"
     ]
    }
   ],
   "source": [
    "for name, df in zip(df_names, dfs):\n",
    "    print(name,\"\\n\", df.groupby('game_id')['goals'].sum().mean(),\"\\n\")"
   ]
  },
  {
   "cell_type": "markdown",
   "metadata": {},
   "source": [
    "### average_goals_by_season"
   ]
  },
  {
   "cell_type": "code",
   "execution_count": 15,
   "metadata": {},
   "outputs": [
    {
     "name": "stdout",
     "output_type": "stream",
     "text": [
      "full \n",
      " season\n",
      "20122013    5.277916\n",
      "20132014    5.361300\n",
      "20142015    5.304776\n",
      "20152016    5.331567\n",
      "20162017    5.431283\n",
      "20172018    5.863469\n",
      "Name: goals, dtype: float64 \n",
      "\n",
      "small \n",
      " season\n",
      "20122013    4.65\n",
      "Name: goals, dtype: float64 \n",
      "\n",
      "vs \n",
      " season\n",
      "20122013    6.0\n",
      "Name: goals, dtype: float64 \n",
      "\n"
     ]
    }
   ],
   "source": [
    "for name, df in zip(df_names, dfs):\n",
    "    print(name,\"\\n\",df.groupby('season')['goals'].sum() /( df.groupby('season')['goals'].count()/2), \"\\n\")"
   ]
  },
  {
   "cell_type": "markdown",
   "metadata": {},
   "source": [
    "# League Stats"
   ]
  },
  {
   "cell_type": "markdown",
   "metadata": {},
   "source": [
    "### count_of_teams"
   ]
  },
  {
   "cell_type": "code",
   "execution_count": 16,
   "metadata": {},
   "outputs": [
    {
     "name": "stdout",
     "output_type": "stream",
     "text": [
      "full \n",
      " 32 \n",
      "\n",
      "small \n",
      " 7 \n",
      "\n",
      "vs \n",
      " 2 \n",
      "\n"
     ]
    }
   ],
   "source": [
    "for name, df in zip(df_names, dfs):\n",
    "    print(name,\"\\n\",df['team_id'].unique().shape[0],\"\\n\")"
   ]
  },
  {
   "cell_type": "markdown",
   "metadata": {},
   "source": [
    "### best_offense"
   ]
  },
  {
   "cell_type": "code",
   "execution_count": 17,
   "metadata": {},
   "outputs": [
    {
     "name": "stdout",
     "output_type": "stream",
     "text": [
      "full \n",
      " teamName\n",
      "Golden Knights    3.186275\n",
      "Name: goals, dtype: float64 \n",
      "\n",
      "small \n",
      " teamName\n",
      "Senators    3.5\n",
      "Name: goals, dtype: float64 \n",
      "\n",
      "vs \n",
      " teamName\n",
      "Bruins    4\n",
      "Name: goals, dtype: int64 \n",
      "\n"
     ]
    }
   ],
   "source": [
    "for name, df in zip(df_names, dfs):\n",
    "    print(name,\"\\n\", df.groupby('teamName')['goals'].mean().sort_values(ascending = False).head(1), \"\\n\")"
   ]
  },
  {
   "cell_type": "markdown",
   "metadata": {},
   "source": [
    "### worst_offense"
   ]
  },
  {
   "cell_type": "code",
   "execution_count": 18,
   "metadata": {},
   "outputs": [
    {
     "name": "stdout",
     "output_type": "stream",
     "text": [
      "full \n",
      " teamName\n",
      "Sabres    2.220524\n",
      "Name: goals, dtype: float64 \n",
      "\n",
      "small \n",
      " teamName\n",
      "Penguins    0.5\n",
      "Name: goals, dtype: float64 \n",
      "\n",
      "vs \n",
      " teamName\n",
      "Rangers    2\n",
      "Name: goals, dtype: int64 \n",
      "\n"
     ]
    }
   ],
   "source": [
    "for name, df in zip(df_names, dfs):\n",
    "    print(name,\"\\n\", df.groupby('teamName')['goals'].mean().sort_values(ascending = True).head(1), \"\\n\")"
   ]
  },
  {
   "cell_type": "markdown",
   "metadata": {},
   "source": [
    "### worst_defense"
   ]
  },
  {
   "cell_type": "code",
   "execution_count": 19,
   "metadata": {
    "collapsed": true
   },
   "outputs": [],
   "source": [
    "for df in dfs:\n",
    "    "
   ]
  },
  {
   "cell_type": "code",
   "execution_count": 20,
   "metadata": {},
   "outputs": [
    {
     "data": {
      "text/html": [
       "<div>\n",
       "<style scoped>\n",
       "    .dataframe tbody tr th:only-of-type {\n",
       "        vertical-align: middle;\n",
       "    }\n",
       "\n",
       "    .dataframe tbody tr th {\n",
       "        vertical-align: top;\n",
       "    }\n",
       "\n",
       "    .dataframe thead th {\n",
       "        text-align: right;\n",
       "    }\n",
       "</style>\n",
       "<table border=\"1\" class=\"dataframe\">\n",
       "  <thead>\n",
       "    <tr style=\"text-align: right;\">\n",
       "      <th></th>\n",
       "      <th>game_id</th>\n",
       "      <th>team_id</th>\n",
       "      <th>HoA</th>\n",
       "      <th>won</th>\n",
       "      <th>settled_in</th>\n",
       "      <th>head_coach</th>\n",
       "      <th>goals</th>\n",
       "      <th>shots</th>\n",
       "      <th>hits</th>\n",
       "      <th>pim</th>\n",
       "      <th>...</th>\n",
       "      <th>giveaways</th>\n",
       "      <th>takeaways</th>\n",
       "      <th>season</th>\n",
       "      <th>type</th>\n",
       "      <th>date_time</th>\n",
       "      <th>venue_time_zone_tz</th>\n",
       "      <th>teamName</th>\n",
       "      <th>home_goals</th>\n",
       "      <th>away_goals</th>\n",
       "      <th>opp_goal</th>\n",
       "    </tr>\n",
       "  </thead>\n",
       "  <tbody>\n",
       "    <tr>\n",
       "      <th>0</th>\n",
       "      <td>2012030221</td>\n",
       "      <td>3</td>\n",
       "      <td>away</td>\n",
       "      <td>False</td>\n",
       "      <td>OT</td>\n",
       "      <td>John Tortorella</td>\n",
       "      <td>2</td>\n",
       "      <td>35</td>\n",
       "      <td>44</td>\n",
       "      <td>8</td>\n",
       "      <td>...</td>\n",
       "      <td>17</td>\n",
       "      <td>7</td>\n",
       "      <td>20122013</td>\n",
       "      <td>P</td>\n",
       "      <td>2013-05-16</td>\n",
       "      <td>EDT</td>\n",
       "      <td>Rangers</td>\n",
       "      <td>3</td>\n",
       "      <td>2</td>\n",
       "      <td>3</td>\n",
       "    </tr>\n",
       "    <tr>\n",
       "      <th>1</th>\n",
       "      <td>2012030222</td>\n",
       "      <td>3</td>\n",
       "      <td>away</td>\n",
       "      <td>False</td>\n",
       "      <td>REG</td>\n",
       "      <td>John Tortorella</td>\n",
       "      <td>2</td>\n",
       "      <td>37</td>\n",
       "      <td>33</td>\n",
       "      <td>11</td>\n",
       "      <td>...</td>\n",
       "      <td>1</td>\n",
       "      <td>4</td>\n",
       "      <td>20122013</td>\n",
       "      <td>P</td>\n",
       "      <td>2013-05-19</td>\n",
       "      <td>EDT</td>\n",
       "      <td>Rangers</td>\n",
       "      <td>5</td>\n",
       "      <td>2</td>\n",
       "      <td>5</td>\n",
       "    </tr>\n",
       "    <tr>\n",
       "      <th>2</th>\n",
       "      <td>2012030221</td>\n",
       "      <td>6</td>\n",
       "      <td>home</td>\n",
       "      <td>True</td>\n",
       "      <td>OT</td>\n",
       "      <td>Claude Julien</td>\n",
       "      <td>3</td>\n",
       "      <td>48</td>\n",
       "      <td>51</td>\n",
       "      <td>6</td>\n",
       "      <td>...</td>\n",
       "      <td>4</td>\n",
       "      <td>5</td>\n",
       "      <td>20122013</td>\n",
       "      <td>P</td>\n",
       "      <td>2013-05-16</td>\n",
       "      <td>EDT</td>\n",
       "      <td>Bruins</td>\n",
       "      <td>3</td>\n",
       "      <td>2</td>\n",
       "      <td>2</td>\n",
       "    </tr>\n",
       "    <tr>\n",
       "      <th>3</th>\n",
       "      <td>2012030222</td>\n",
       "      <td>6</td>\n",
       "      <td>home</td>\n",
       "      <td>True</td>\n",
       "      <td>REG</td>\n",
       "      <td>Claude Julien</td>\n",
       "      <td>5</td>\n",
       "      <td>32</td>\n",
       "      <td>36</td>\n",
       "      <td>19</td>\n",
       "      <td>...</td>\n",
       "      <td>16</td>\n",
       "      <td>6</td>\n",
       "      <td>20122013</td>\n",
       "      <td>P</td>\n",
       "      <td>2013-05-19</td>\n",
       "      <td>EDT</td>\n",
       "      <td>Bruins</td>\n",
       "      <td>5</td>\n",
       "      <td>2</td>\n",
       "      <td>2</td>\n",
       "    </tr>\n",
       "  </tbody>\n",
       "</table>\n",
       "<p>4 rows × 23 columns</p>\n",
       "</div>"
      ],
      "text/plain": [
       "      game_id  team_id   HoA    won settled_in       head_coach  goals  shots  \\\n",
       "0  2012030221        3  away  False         OT  John Tortorella      2     35   \n",
       "1  2012030222        3  away  False        REG  John Tortorella      2     37   \n",
       "2  2012030221        6  home   True         OT    Claude Julien      3     48   \n",
       "3  2012030222        6  home   True        REG    Claude Julien      5     32   \n",
       "\n",
       "   hits  pim   ...     giveaways  takeaways    season  type   date_time  \\\n",
       "0    44    8   ...            17          7  20122013     P  2013-05-16   \n",
       "1    33   11   ...             1          4  20122013     P  2013-05-19   \n",
       "2    51    6   ...             4          5  20122013     P  2013-05-16   \n",
       "3    36   19   ...            16          6  20122013     P  2013-05-19   \n",
       "\n",
       "   venue_time_zone_tz teamName home_goals away_goals opp_goal  \n",
       "0                 EDT  Rangers          3          2        3  \n",
       "1                 EDT  Rangers          5          2        5  \n",
       "2                 EDT   Bruins          3          2        2  \n",
       "3                 EDT   Bruins          5          2        2  \n",
       "\n",
       "[4 rows x 23 columns]"
      ]
     },
     "execution_count": 20,
     "metadata": {},
     "output_type": "execute_result"
    }
   ],
   "source": [
    "vs_df"
   ]
  },
  {
   "cell_type": "code",
   "execution_count": 21,
   "metadata": {},
   "outputs": [
    {
     "name": "stdout",
     "output_type": "stream",
     "text": [
      "full \n",
      " teamName\n",
      "Sabres    3.065502\n",
      "Name: opp_goal, dtype: float64 \n",
      "\n",
      "small \n",
      " teamName\n",
      "Canadiens    3.5\n",
      "Name: opp_goal, dtype: float64 \n",
      "\n",
      "vs \n",
      " teamName\n",
      "Rangers    4\n",
      "Name: opp_goal, dtype: int64 \n",
      "\n"
     ]
    }
   ],
   "source": [
    "for name, df in zip(df_names, dfs):\n",
    "    print(name,\"\\n\", df.groupby('teamName')['opp_goal'].mean().sort_values(ascending = False).head(1), \"\\n\")"
   ]
  },
  {
   "cell_type": "markdown",
   "metadata": {},
   "source": [
    "### best_defense"
   ]
  },
  {
   "cell_type": "code",
   "execution_count": 22,
   "metadata": {},
   "outputs": [
    {
     "name": "stdout",
     "output_type": "stream",
     "text": [
      "full \n",
      " teamName\n",
      "Kings    2.401174\n",
      "Name: opp_goal, dtype: float64 \n",
      "\n",
      "small \n",
      " teamName\n",
      "Bruins    1.333333\n",
      "Name: opp_goal, dtype: float64 \n",
      "\n",
      "vs \n",
      " teamName\n",
      "Bruins    2\n",
      "Name: opp_goal, dtype: int64 \n",
      "\n"
     ]
    }
   ],
   "source": [
    "for name, df in zip(df_names, dfs):\n",
    "    print(name,\"\\n\", df.groupby('teamName')['opp_goal'].mean().sort_values(ascending = True).head(1), \"\\n\")"
   ]
  },
  {
   "cell_type": "markdown",
   "metadata": {},
   "source": [
    "### highest_scoring_home_team"
   ]
  },
  {
   "cell_type": "code",
   "execution_count": 23,
   "metadata": {},
   "outputs": [
    {
     "name": "stdout",
     "output_type": "stream",
     "text": [
      "full \n",
      " teamName\n",
      "Golden Knights    3.568627\n",
      "Name: goals, dtype: float64 \n",
      "\n",
      "small \n",
      " teamName\n",
      "Senators    4.5\n",
      "Name: goals, dtype: float64 \n",
      "\n",
      "vs \n",
      " teamName\n",
      "Bruins    4\n",
      "Name: goals, dtype: int64 \n",
      "\n"
     ]
    }
   ],
   "source": [
    "for name, df in zip(df_names, dfs):\n",
    "    print(name,\"\\n\", df[df.HoA == \"home\"].groupby(\"teamName\")['goals'].mean().sort_values(ascending = False).head(1), \"\\n\") "
   ]
  },
  {
   "cell_type": "markdown",
   "metadata": {},
   "source": [
    "### lowest_scoring_home_team"
   ]
  },
  {
   "cell_type": "code",
   "execution_count": 24,
   "metadata": {},
   "outputs": [
    {
     "name": "stdout",
     "output_type": "stream",
     "text": [
      "full \n",
      " teamName\n",
      "Sabres    2.248908\n",
      "Name: goals, dtype: float64 \n",
      "\n",
      "small \n",
      " teamName\n",
      "Penguins    0.5\n",
      "Name: goals, dtype: float64 \n",
      "\n",
      "vs \n",
      " teamName\n",
      "Bruins    4\n",
      "Name: goals, dtype: int64 \n",
      "\n"
     ]
    }
   ],
   "source": [
    "for name, df in zip(df_names, dfs):\n",
    "    print(name,\"\\n\", df[df.HoA == \"home\"].groupby(\"teamName\")['goals'].mean().sort_values(ascending = True).head(1), \"\\n\") "
   ]
  },
  {
   "cell_type": "markdown",
   "metadata": {},
   "source": [
    "### highest_scoring_visitor"
   ]
  },
  {
   "cell_type": "code",
   "execution_count": 25,
   "metadata": {},
   "outputs": [
    {
     "name": "stdout",
     "output_type": "stream",
     "text": [
      "full \n",
      " teamName\n",
      "Capitals    2.901515\n",
      "Name: goals, dtype: float64 \n",
      "\n",
      "small \n",
      " teamName\n",
      "Bruins    3.5\n",
      "Name: goals, dtype: float64 \n",
      "\n",
      "vs \n",
      " teamName\n",
      "Rangers    2\n",
      "Name: goals, dtype: int64 \n",
      "\n"
     ]
    }
   ],
   "source": [
    "for name, df in zip(df_names, dfs):\n",
    "    print(name,\"\\n\", df[df.HoA == \"away\"].groupby(\"teamName\")['goals'].mean().sort_values(ascending = False).head(1), \"\\n\") "
   ]
  },
  {
   "cell_type": "markdown",
   "metadata": {},
   "source": [
    "### lowest_scoring_visitor"
   ]
  },
  {
   "cell_type": "code",
   "execution_count": 26,
   "metadata": {},
   "outputs": [
    {
     "name": "stdout",
     "output_type": "stream",
     "text": [
      "full \n",
      " teamName\n",
      "Sabres    2.19214\n",
      "Name: goals, dtype: float64 \n",
      "\n",
      "small \n",
      " teamName\n",
      "Penguins    0.5\n",
      "Name: goals, dtype: float64 \n",
      "\n",
      "vs \n",
      " teamName\n",
      "Rangers    2\n",
      "Name: goals, dtype: int64 \n",
      "\n"
     ]
    }
   ],
   "source": [
    "for name, df in zip(df_names, dfs):\n",
    "    print(name,\"\\n\", df[df.HoA == \"away\"].groupby(\"teamName\")['goals'].mean().sort_values(ascending = True).head(1), \"\\n\") "
   ]
  },
  {
   "cell_type": "markdown",
   "metadata": {},
   "source": [
    "### winnigest_team"
   ]
  },
  {
   "cell_type": "code",
   "execution_count": 27,
   "metadata": {},
   "outputs": [
    {
     "name": "stdout",
     "output_type": "stream",
     "text": [
      "full \n",
      " teamName\n",
      "Golden Knights    0.627451\n",
      "Name: won, dtype: float64 \n",
      "\n",
      "small \n",
      " teamName\n",
      "Bruins    0.888889\n",
      "Name: won, dtype: float64 \n",
      "\n",
      "vs \n",
      " teamName\n",
      "Bruins    True\n",
      "Name: won, dtype: bool \n",
      "\n"
     ]
    }
   ],
   "source": [
    "for name, df in zip(df_names, dfs):\n",
    "    print(name,\"\\n\", df.groupby(\"teamName\")['won'].mean().sort_values(ascending = False).head(1), \"\\n\")"
   ]
  },
  {
   "cell_type": "markdown",
   "metadata": {},
   "source": [
    "### best_fans"
   ]
  },
  {
   "cell_type": "code",
   "execution_count": 28,
   "metadata": {},
   "outputs": [
    {
     "name": "stdout",
     "output_type": "stream",
     "text": [
      "full \n",
      " teamName\n",
      "Flyers    0.18229\n",
      "Name: won, dtype: float64 \n",
      "\n",
      "small \n",
      " teamName\n",
      "Senators    0.5\n",
      "Name: won, dtype: float64 \n",
      "\n",
      "vs \n",
      " teamName\n",
      "Bruins    NaN\n",
      "Name: won, dtype: object \n",
      "\n"
     ]
    }
   ],
   "source": [
    "for name, df in zip(df_names, dfs):\n",
    "    home_win = df[df.HoA == \"home\"].groupby(\"teamName\")['won'].mean().sort_index()\n",
    "    away_win = df[df.HoA == \"away\"].groupby(\"teamName\")['won'].mean().sort_index()\n",
    "    \n",
    "    print(name, \"\\n\", (home_win-away_win).sort_values(ascending = False).head(1), \"\\n\")"
   ]
  },
  {
   "cell_type": "markdown",
   "metadata": {},
   "source": [
    "### worst_fans\n",
    "\n",
    "**should be empty arrays**"
   ]
  },
  {
   "cell_type": "code",
   "execution_count": 29,
   "metadata": {},
   "outputs": [
    {
     "name": "stdout",
     "output_type": "stream",
     "text": [
      "full \n",
      " Series([], Name: won, dtype: float64) \n",
      "\n",
      "small \n",
      " Series([], Name: won, dtype: float64) \n",
      "\n",
      "vs \n",
      " Series([], Name: won, dtype: object) \n",
      "\n"
     ]
    }
   ],
   "source": [
    "for name, df in zip(df_names, dfs):\n",
    "    home_win = df[df.HoA == \"home\"].groupby(\"teamName\")['won'].mean().sort_index()\n",
    "    away_win = df[df.HoA == \"away\"].groupby(\"teamName\")['won'].mean().sort_index()\n",
    "#     print(home_win)\n",
    "#     print(away_win)\n",
    "    home_minus_away = (home_win-away_win)\n",
    "    \n",
    "    print(name, \"\\n\", home_minus_away[home_minus_away <0], \"\\n\")"
   ]
  },
  {
   "cell_type": "markdown",
   "metadata": {},
   "source": [
    "# Team Statistics"
   ]
  },
  {
   "cell_type": "markdown",
   "metadata": {},
   "source": [
    "### team_info"
   ]
  },
  {
   "cell_type": "code",
   "execution_count": 36,
   "metadata": {},
   "outputs": [
    {
     "name": "stdout",
     "output_type": "stream",
     "text": [
      "full \n",
      " {'head_coach': {'Avalanche': array(['Patrick Roy', 'Jared Bednar', 'Joe Sacco'], dtype=object), 'Blackhawks': array(['Joel Quenneville'], dtype=object), 'Blue Jackets': array(['John Tortorella', 'Todd Richards'], dtype=object), 'Blues': array(['Ken Hitchcock', 'Mike Yeo'], dtype=object), 'Bruins': array(['Claude Julien', 'Bruce Cassidy'], dtype=object), 'Canadiens': array(['Michel Therrien', 'Claude Julien'], dtype=object), 'Canucks': array(['John Tortorella', 'Alain Vigneault', 'Willie Desjardins',\n",
      "       'Travis Green'], dtype=object), 'Capitals': array(['Adam Oates', 'Barry Trotz'], dtype=object), 'Coyotes': array(['Dave Tippett', 'Rick Tocchet'], dtype=object), 'Devils': array(['John Hynes', 'Peter DeBoer', 'Adam Oates'], dtype=object), 'Ducks': array(['Bruce Boudreau', 'Randy Carlyle'], dtype=object), 'Flames': array(['Glen Gulutzan', 'Bob Hartley'], dtype=object), 'Flyers': array(['Dave Hakstol', 'Craig Berube', 'Peter Laviolette'], dtype=object), 'Golden Knights': array(['Gerard Gallant'], dtype=object), 'Hurricanes': array(['Kirk Muller', 'Bill Peters'], dtype=object), 'Islanders': array(['Jack Capuano', 'Doug Weight'], dtype=object), 'Jets': array(['Paul Maurice', 'Claude Noel'], dtype=object), 'Kings': array(['Darryl Sutter', 'John Stevens'], dtype=object), 'Lightning': array(['Jon Cooper', 'Guy Boucher', 'Martin Raymond', 'Dan Lacroix'],\n",
      "      dtype=object), 'Maple Leafs': array(['Mike Babcock', 'Randy Carlyle', 'Peter Horachek'], dtype=object), 'Oilers': array(['Ralph Krueger', 'Dallas Eakins', 'Todd Nelson', 'Craig MacTavish',\n",
      "       'Todd McLellan'], dtype=object), 'Panthers': array(['Gerard Gallant', 'Kevin Dineen', 'Peter Horachek', 'Bob Boughner',\n",
      "       'Tom Rowe'], dtype=object), 'Penguins': array(['Dan Bylsma', 'Mike Sullivan', 'Mike Johnston'], dtype=object), 'Predators': array(['Peter Laviolette', 'Barry Trotz'], dtype=object), 'Rangers': array(['John Tortorella', 'Alain Vigneault'], dtype=object), 'Red Wings': array(['Mike Babcock', 'Jeff Blashill'], dtype=object), 'Sabres': array(['Ron Rolston', 'Ted Nolan', 'Lindy Ruff', 'Phil Housley',\n",
      "       'Dan Bylsma'], dtype=object), 'Senators': array(['Paul MacLean', 'Dave Cameron', 'Guy Boucher'], dtype=object), 'Sharks': array(['Peter DeBoer', 'Todd McLellan'], dtype=object), 'Stars': array(['Lindy Ruff', 'Glen Gulutzan', 'Ken Hitchcock'], dtype=object), 'Wild': array(['Mike Yeo', 'John Torchetti', 'Bruce Boudreau'], dtype=object)}, 'teamName': {'Avalanche': array(['Avalanche'], dtype=object), 'Blackhawks': array(['Blackhawks'], dtype=object), 'Blue Jackets': array(['Blue Jackets'], dtype=object), 'Blues': array(['Blues'], dtype=object), 'Bruins': array(['Bruins'], dtype=object), 'Canadiens': array(['Canadiens'], dtype=object), 'Canucks': array(['Canucks'], dtype=object), 'Capitals': array(['Capitals'], dtype=object), 'Coyotes': array(['Coyotes'], dtype=object), 'Devils': array(['Devils'], dtype=object), 'Ducks': array(['Ducks'], dtype=object), 'Flames': array(['Flames'], dtype=object), 'Flyers': array(['Flyers'], dtype=object), 'Golden Knights': array(['Golden Knights'], dtype=object), 'Hurricanes': array(['Hurricanes'], dtype=object), 'Islanders': array(['Islanders'], dtype=object), 'Jets': array(['Jets'], dtype=object), 'Kings': array(['Kings'], dtype=object), 'Lightning': array(['Lightning'], dtype=object), 'Maple Leafs': array(['Maple Leafs'], dtype=object), 'Oilers': array(['Oilers'], dtype=object), 'Panthers': array(['Panthers'], dtype=object), 'Penguins': array(['Penguins'], dtype=object), 'Predators': array(['Predators'], dtype=object), 'Rangers': array(['Rangers'], dtype=object), 'Red Wings': array(['Red Wings'], dtype=object), 'Sabres': array(['Sabres'], dtype=object), 'Senators': array(['Senators'], dtype=object), 'Sharks': array(['Sharks'], dtype=object), 'Stars': array(['Stars'], dtype=object), 'Wild': array(['Wild'], dtype=object)}} /n\n",
      "small \n",
      " {'head_coach': {'Blackhawks': array(['Joel Quenneville'], dtype=object), 'Bruins': array(['Claude Julien'], dtype=object), 'Canadiens': array(['Michel Therrien'], dtype=object), 'Penguins': array(['Dan Bylsma'], dtype=object), 'Rangers': array(['John Tortorella'], dtype=object), 'Red Wings': array(['Mike Babcock'], dtype=object), 'Senators': array(['Paul MacLean'], dtype=object)}, 'teamName': {'Blackhawks': array(['Blackhawks'], dtype=object), 'Bruins': array(['Bruins'], dtype=object), 'Canadiens': array(['Canadiens'], dtype=object), 'Penguins': array(['Penguins'], dtype=object), 'Rangers': array(['Rangers'], dtype=object), 'Red Wings': array(['Red Wings'], dtype=object), 'Senators': array(['Senators'], dtype=object)}} /n\n",
      "vs \n",
      " {'head_coach': {'Bruins': array(['Claude Julien'], dtype=object), 'Rangers': array(['John Tortorella'], dtype=object)}, 'teamName': {'Bruins': array(['Bruins'], dtype=object), 'Rangers': array(['Rangers'], dtype=object)}} /n\n"
     ]
    }
   ],
   "source": [
    "for name, df in zip(df_names, dfs):\n",
    "    print(name,\"\\n\", pd.concat([df.groupby(\"teamName\")['head_coach'].unique(),df.groupby(\"teamName\")['teamName'].unique()], axis = 1).to_dict(), \"/n\")"
   ]
  },
  {
   "cell_type": "markdown",
   "metadata": {},
   "source": [
    "### best_season"
   ]
  },
  {
   "cell_type": "code",
   "execution_count": 37,
   "metadata": {},
   "outputs": [
    {
     "name": "stdout",
     "output_type": "stream",
     "text": [
      "full \n",
      "\n",
      "teamName: Avalanche best season 20132014\n",
      "teamName: Blackhawks best season 20122013\n",
      "teamName: Blue Jackets best season 20162017\n",
      "teamName: Blues best season 20132014\n",
      "teamName: Bruins best season 20132014\n",
      "teamName: Canadiens best season 20142015\n",
      "teamName: Canucks best season 20142015\n",
      "teamName: Capitals best season 20152016\n",
      "teamName: Coyotes best season 20132014\n",
      "teamName: Devils best season 20172018\n",
      "teamName: Ducks best season 20132014\n",
      "teamName: Flames best season 20142015\n",
      "teamName: Flyers best season 20132014\n",
      "teamName: Golden Knights best season 20172018\n",
      "teamName: Hurricanes best season 20172018\n",
      "teamName: Islanders best season 20142015\n",
      "teamName: Jets best season 20172018\n",
      "teamName: Kings best season 20132014\n",
      "teamName: Lightning best season 20172018\n",
      "teamName: Maple Leafs best season 20172018\n",
      "teamName: Oilers best season 20162017\n",
      "teamName: Panthers best season 20152016\n",
      "teamName: Penguins best season 20122013\n",
      "teamName: Predators best season 20172018\n",
      "teamName: Rangers best season 20142015\n",
      "teamName: Red Wings best season 20142015\n",
      "teamName: Sabres best season 20122013\n",
      "teamName: Senators best season 20162017\n",
      "teamName: Sharks best season 20132014\n",
      "teamName: Stars best season 20152016\n",
      "teamName: Wild best season 20162017\n",
      "\n",
      "\n",
      "small \n",
      "\n",
      "teamName: Blackhawks best season 20122013\n",
      "teamName: Bruins best season 20122013\n",
      "teamName: Canadiens best season 20122013\n",
      "teamName: Penguins best season 20122013\n",
      "teamName: Rangers best season 20122013\n",
      "teamName: Red Wings best season 20122013\n",
      "teamName: Senators best season 20122013\n",
      "\n",
      "\n",
      "vs \n",
      "\n",
      "teamName: Bruins best season 20122013\n",
      "teamName: Rangers best season 20122013\n",
      "\n",
      "\n"
     ]
    }
   ],
   "source": [
    "for name, df in zip(df_names, dfs):\n",
    "    data = df.groupby([\"teamName\", \"season\"])[\"won\"].mean().unstack().T\n",
    "    \n",
    "    print(name,\"\\n\")\n",
    "    for col in data:\n",
    "        print(\"teamName:\", col, \"best season\", data[col].sort_values(ascending = False).head(1).index[0])\n",
    "          \n",
    "    print(\"\\n\")"
   ]
  },
  {
   "cell_type": "markdown",
   "metadata": {},
   "source": [
    "### worst_season"
   ]
  },
  {
   "cell_type": "code",
   "execution_count": 38,
   "metadata": {
    "scrolled": true
   },
   "outputs": [
    {
     "name": "stdout",
     "output_type": "stream",
     "text": [
      "full \n",
      "\n",
      "teamName: Avalanche worst season 20162017\n",
      "teamName: Blackhawks worst season 20172018\n",
      "teamName: Blue Jackets worst season 20152016\n",
      "teamName: Blues worst season 20172018\n",
      "teamName: Bruins worst season 20142015\n",
      "teamName: Canadiens worst season 20172018\n",
      "teamName: Canucks worst season 20162017\n",
      "teamName: Capitals worst season 20132014\n",
      "teamName: Coyotes worst season 20142015\n",
      "teamName: Devils worst season 20162017\n",
      "teamName: Ducks worst season 20172018\n",
      "teamName: Flames worst season 20122013\n",
      "teamName: Flyers worst season 20142015\n",
      "teamName: Golden Knights worst season 20172018\n",
      "teamName: Hurricanes worst season 20142015\n",
      "teamName: Islanders worst season 20132014\n",
      "teamName: Jets worst season 20152016\n",
      "teamName: Kings worst season 20162017\n",
      "teamName: Lightning worst season 20122013\n",
      "teamName: Maple Leafs worst season 20152016\n",
      "teamName: Oilers worst season 20142015\n",
      "teamName: Panthers worst season 20122013\n",
      "teamName: Penguins worst season 20142015\n",
      "teamName: Predators worst season 20122013\n",
      "teamName: Rangers worst season 20172018\n",
      "teamName: Red Wings worst season 20172018\n",
      "teamName: Sabres worst season 20132014\n",
      "teamName: Senators worst season 20172018\n",
      "teamName: Sharks worst season 20142015\n",
      "teamName: Stars worst season 20162017\n",
      "teamName: Wild worst season 20152016\n",
      "\n",
      "\n",
      "small \n",
      "\n",
      "teamName: Blackhawks worst season 20122013\n",
      "teamName: Bruins worst season 20122013\n",
      "teamName: Canadiens worst season 20122013\n",
      "teamName: Penguins worst season 20122013\n",
      "teamName: Rangers worst season 20122013\n",
      "teamName: Red Wings worst season 20122013\n",
      "teamName: Senators worst season 20122013\n",
      "\n",
      "\n",
      "vs \n",
      "\n",
      "teamName: Bruins worst season 20122013\n",
      "teamName: Rangers worst season 20122013\n",
      "\n",
      "\n"
     ]
    }
   ],
   "source": [
    "for name, df in zip(df_names, dfs):\n",
    "    data = df.groupby([\"teamName\", \"season\"])[\"won\"].mean().unstack().T\n",
    "    \n",
    "    print(name,\"\\n\")\n",
    "    for col in data:\n",
    "        print(\"teamName:\", col, \"worst season\", data[col].sort_values(ascending = True).head(1).index[0])\n",
    "          \n",
    "    print(\"\\n\")"
   ]
  },
  {
   "cell_type": "markdown",
   "metadata": {},
   "source": [
    "### average_win_percentage"
   ]
  },
  {
   "cell_type": "code",
   "execution_count": 39,
   "metadata": {},
   "outputs": [
    {
     "name": "stdout",
     "output_type": "stream",
     "text": [
      "full \n",
      "\n",
      "teamName: Avalanche avg win pct 0.447\n",
      "teamName: Blackhawks avg win pct 0.5753\n",
      "teamName: Blue Jackets avg win pct 0.5097\n",
      "teamName: Blues avg win pct 0.5774\n",
      "teamName: Bruins avg win pct 0.5615\n",
      "teamName: Canadiens avg win pct 0.5169\n",
      "teamName: Canucks avg win pct 0.4382\n",
      "teamName: Capitals avg win pct 0.5793\n",
      "teamName: Coyotes avg win pct 0.388\n",
      "teamName: Devils avg win pct 0.4225\n",
      "teamName: Ducks avg win pct 0.5838\n",
      "teamName: Flames avg win pct 0.4603\n",
      "teamName: Flyers avg win pct 0.4752\n",
      "teamName: Golden Knights avg win pct 0.6275\n",
      "teamName: Hurricanes avg win pct 0.4176\n",
      "teamName: Islanders avg win pct 0.4871\n",
      "teamName: Jets avg win pct 0.497\n",
      "teamName: Kings avg win pct 0.5282\n",
      "teamName: Lightning avg win pct 0.5412\n",
      "teamName: Maple Leafs avg win pct 0.462\n",
      "teamName: Oilers avg win pct 0.4046\n",
      "teamName: Panthers avg win pct 0.4416\n",
      "teamName: Penguins avg win pct 0.5999\n",
      "teamName: Predators avg win pct 0.5023\n",
      "teamName: Rangers avg win pct 0.537\n",
      "teamName: Red Wings avg win pct 0.4546\n",
      "teamName: Sabres avg win pct 0.3514\n",
      "teamName: Senators avg win pct 0.4715\n",
      "teamName: Sharks avg win pct 0.5505\n",
      "teamName: Stars avg win pct 0.4937\n",
      "teamName: Wild avg win pct 0.5211\n",
      "\n",
      "\n",
      "small \n",
      "\n",
      "teamName: Blackhawks avg win pct 0.5714\n",
      "teamName: Bruins avg win pct 0.8889\n",
      "teamName: Canadiens avg win pct 0.25\n",
      "teamName: Penguins avg win pct 0.0\n",
      "teamName: Rangers avg win pct 0.2\n",
      "teamName: Red Wings avg win pct 0.4286\n",
      "teamName: Senators avg win pct 0.75\n",
      "\n",
      "\n",
      "vs \n",
      "\n",
      "teamName: Bruins avg win pct 1.0\n",
      "teamName: Rangers avg win pct 0.0\n",
      "\n",
      "\n"
     ]
    }
   ],
   "source": [
    "for name, df in zip(df_names, dfs):\n",
    "    data = df.groupby([\"teamName\", \"season\"])[\"won\"].mean().unstack().T\n",
    "    \n",
    "    print(name,\"\\n\")\n",
    "    for col in data:\n",
    "        print(\"teamName:\", col, \"avg win pct\", round(data[col].mean(),4))\n",
    "          \n",
    "    print(\"\\n\")"
   ]
  },
  {
   "cell_type": "markdown",
   "metadata": {},
   "source": [
    "### most_goals_scored"
   ]
  },
  {
   "cell_type": "code",
   "execution_count": 40,
   "metadata": {},
   "outputs": [
    {
     "name": "stdout",
     "output_type": "stream",
     "text": [
      "full \n",
      "\n",
      "teamName: Avalanche most_goals 7.0\n",
      "teamName: Blackhawks most_goals 10.0\n",
      "teamName: Blue Jackets most_goals 10.0\n",
      "teamName: Blues most_goals 8.0\n",
      "teamName: Bruins most_goals 8.0\n",
      "teamName: Canadiens most_goals 10.0\n",
      "teamName: Canucks most_goals 7.0\n",
      "teamName: Capitals most_goals 7.0\n",
      "teamName: Coyotes most_goals 7.0\n",
      "teamName: Devils most_goals 8.0\n",
      "teamName: Ducks most_goals 9.0\n",
      "teamName: Flames most_goals 8.0\n",
      "teamName: Flyers most_goals 8.0\n",
      "teamName: Golden Knights most_goals 7.0\n",
      "teamName: Hurricanes most_goals 8.0\n",
      "teamName: Islanders most_goals 8.0\n",
      "teamName: Jets most_goals 8.0\n",
      "teamName: Kings most_goals 9.0\n",
      "teamName: Lightning most_goals 8.0\n",
      "teamName: Maple Leafs most_goals 8.0\n",
      "teamName: Oilers most_goals 8.0\n",
      "teamName: Panthers most_goals 8.0\n",
      "teamName: Penguins most_goals 8.0\n",
      "teamName: Predators most_goals 9.0\n",
      "teamName: Rangers most_goals 8.0\n",
      "teamName: Red Wings most_goals 8.0\n",
      "teamName: Sabres most_goals 7.0\n",
      "teamName: Senators most_goals 7.0\n",
      "teamName: Sharks most_goals 9.0\n",
      "teamName: Stars most_goals 7.0\n",
      "teamName: Wild most_goals 8.0\n",
      "\n",
      "\n",
      "small \n",
      "\n",
      "teamName: Blackhawks most_goals 4\n",
      "teamName: Bruins most_goals 6\n",
      "teamName: Canadiens most_goals 3\n",
      "teamName: Penguins most_goals 1\n",
      "teamName: Rangers most_goals 4\n",
      "teamName: Red Wings most_goals 4\n",
      "teamName: Senators most_goals 6\n",
      "\n",
      "\n",
      "vs \n",
      "\n",
      "teamName: Bruins most_goals 5\n",
      "teamName: Rangers most_goals 2\n",
      "\n",
      "\n"
     ]
    }
   ],
   "source": [
    "for name, df in zip(df_names, dfs):\n",
    "    data = df.groupby([\"teamName\", \"season\"])[\"goals\"].max().unstack().T\n",
    "    \n",
    "    print(name,\"\\n\")\n",
    "    for col in data:\n",
    "        print(\"teamName:\", col, \"most_goals\", data[col].sort_values(ascending = False).iloc[0])\n",
    "          \n",
    "    print(\"\\n\")"
   ]
  },
  {
   "cell_type": "markdown",
   "metadata": {},
   "source": [
    "### fewest_goals_scored"
   ]
  },
  {
   "cell_type": "code",
   "execution_count": 41,
   "metadata": {},
   "outputs": [
    {
     "name": "stdout",
     "output_type": "stream",
     "text": [
      "full \n",
      "\n",
      "teamName: Avalanche fewest goals 0.0\n",
      "teamName: Blackhawks fewest goals 0.0\n",
      "teamName: Blue Jackets fewest goals 0.0\n",
      "teamName: Blues fewest goals 0.0\n",
      "teamName: Bruins fewest goals 0.0\n",
      "teamName: Canadiens fewest goals 0.0\n",
      "teamName: Canucks fewest goals 0.0\n",
      "teamName: Capitals fewest goals 0.0\n",
      "teamName: Coyotes fewest goals 0.0\n",
      "teamName: Devils fewest goals 0.0\n",
      "teamName: Ducks fewest goals 0.0\n",
      "teamName: Flames fewest goals 0.0\n",
      "teamName: Flyers fewest goals 0.0\n",
      "teamName: Golden Knights fewest goals 0.0\n",
      "teamName: Hurricanes fewest goals 0.0\n",
      "teamName: Islanders fewest goals 0.0\n",
      "teamName: Jets fewest goals 0.0\n",
      "teamName: Kings fewest goals 0.0\n",
      "teamName: Lightning fewest goals 0.0\n",
      "teamName: Maple Leafs fewest goals 0.0\n",
      "teamName: Oilers fewest goals 0.0\n",
      "teamName: Panthers fewest goals 0.0\n",
      "teamName: Penguins fewest goals 0.0\n",
      "teamName: Predators fewest goals 0.0\n",
      "teamName: Rangers fewest goals 0.0\n",
      "teamName: Red Wings fewest goals 0.0\n",
      "teamName: Sabres fewest goals 0.0\n",
      "teamName: Senators fewest goals 0.0\n",
      "teamName: Sharks fewest goals 0.0\n",
      "teamName: Stars fewest goals 0.0\n",
      "teamName: Wild fewest goals 0.0\n",
      "\n",
      "\n",
      "small \n",
      "\n",
      "teamName: Blackhawks fewest goals 0\n",
      "teamName: Bruins fewest goals 1\n",
      "teamName: Canadiens fewest goals 1\n",
      "teamName: Penguins fewest goals 0\n",
      "teamName: Rangers fewest goals 1\n",
      "teamName: Red Wings fewest goals 1\n",
      "teamName: Senators fewest goals 1\n",
      "\n",
      "\n",
      "vs \n",
      "\n",
      "teamName: Bruins fewest goals 3\n",
      "teamName: Rangers fewest goals 2\n",
      "\n",
      "\n"
     ]
    }
   ],
   "source": [
    "for name, df in zip(df_names, dfs):\n",
    "    data = df.groupby([\"teamName\", \"season\"])[\"goals\"].min().unstack().T\n",
    "    \n",
    "    print(name,\"\\n\")\n",
    "    for col in data:\n",
    "        print(\"teamName:\", col, \"fewest goals\", data[col].sort_values(ascending = True).iloc[0])\n",
    "          \n",
    "    print(\"\\n\")"
   ]
  },
  {
   "cell_type": "markdown",
   "metadata": {},
   "source": [
    "### favorite_opponent\n",
    "\n",
    "name of opponent with lowest win pct agains team"
   ]
  },
  {
   "cell_type": "code",
   "execution_count": 38,
   "metadata": {},
   "outputs": [
    {
     "name": "stdout",
     "output_type": "stream",
     "text": [
      "full\n",
      "team_name:  Avalanche fav_opp: Bruins\n",
      "team_name:  Blackhawks fav_opp: Sabres\n",
      "team_name:  Blue Jackets fav_opp: Stars\n",
      "team_name:  Blues fav_opp: Sabres\n",
      "team_name:  Bruins fav_opp: Coyotes\n",
      "team_name:  Canadiens fav_opp: Canucks\n",
      "team_name:  Canucks fav_opp: Hurricanes\n",
      "team_name:  Capitals fav_opp: Bruins\n",
      "team_name:  Coyotes fav_opp: Oilers\n",
      "team_name:  Devils fav_opp: Wild\n",
      "team_name:  Ducks fav_opp: Bruins\n",
      "team_name:  Flames fav_opp: Devils\n",
      "team_name:  Flyers fav_opp: Jets\n",
      "team_name:  Golden Knights fav_opp: Lightning\n",
      "team_name:  Hurricanes fav_opp: Coyotes\n",
      "team_name:  Islanders fav_opp: Golden Knights\n",
      "team_name:  Jets fav_opp: Coyotes\n",
      "team_name:  Kings fav_opp: Panthers\n",
      "team_name:  Lightning fav_opp: Hurricanes\n",
      "team_name:  Maple Leafs fav_opp: Oilers\n",
      "team_name:  Oilers fav_opp: Golden Knights\n",
      "team_name:  Panthers fav_opp: Sabres\n",
      "team_name:  Penguins fav_opp: Sabres\n",
      "team_name:  Predators fav_opp: Oilers\n",
      "team_name:  Rangers fav_opp: Coyotes\n",
      "team_name:  Red Wings fav_opp: Predators\n",
      "team_name:  Sabres fav_opp: Coyotes\n",
      "team_name:  Senators fav_opp: Avalanche\n",
      "team_name:  Sharks fav_opp: Canadiens\n",
      "team_name:  Stars fav_opp: Sabres\n",
      "team_name:  Wild fav_opp: Golden Knights\n",
      "\n",
      "\n",
      "\n",
      "small\n",
      "team_name:  Blackhawks fav_opp: Red Wings\n",
      "team_name:  Bruins fav_opp: Penguins\n",
      "team_name:  Canadiens fav_opp: Senators\n",
      "team_name:  Penguins fav_opp: Bruins\n",
      "team_name:  Rangers fav_opp: Bruins\n",
      "team_name:  Red Wings fav_opp: Blackhawks\n",
      "team_name:  Senators fav_opp: Canadiens\n",
      "\n",
      "\n",
      "\n",
      "vs\n",
      "team_name:  Bruins fav_opp: Rangers\n",
      "team_name:  Rangers fav_opp: Bruins\n",
      "\n",
      "\n",
      "\n"
     ]
    }
   ],
   "source": [
    "for df,name in zip(dfs,df_names):\n",
    "    print(name)\n",
    "    data = df.groupby([\"teamName\",\"opp_team\"])[\"won\"].mean().unstack().T\n",
    "\n",
    "    for col in data:\n",
    "        print(\"team_name: \", col, \"fav_opp:\", data[col].sort_values(ascending = False).index[0])\n",
    "        \n",
    "    print(\"\\n\\n\")"
   ]
  },
  {
   "cell_type": "markdown",
   "metadata": {},
   "source": [
    "### rival\n",
    "name of opponent with higest win pct against team"
   ]
  },
  {
   "cell_type": "code",
   "execution_count": 39,
   "metadata": {},
   "outputs": [
    {
     "name": "stdout",
     "output_type": "stream",
     "text": [
      "full\n",
      "team_name:  Avalanche rival: Kings\n",
      "team_name:  Blackhawks rival: Golden Knights\n",
      "team_name:  Blue Jackets rival: Kings\n",
      "team_name:  Blues rival: Capitals\n",
      "team_name:  Bruins rival: Ducks\n",
      "team_name:  Canadiens rival: Sharks\n",
      "team_name:  Canucks rival: Golden Knights\n",
      "team_name:  Capitals rival: Predators\n",
      "team_name:  Coyotes rival: Bruins\n",
      "team_name:  Devils rival: Blues\n",
      "team_name:  Ducks rival: Golden Knights\n",
      "team_name:  Flames rival: Rangers\n",
      "team_name:  Flyers rival: Ducks\n",
      "team_name:  Golden Knights rival: Islanders\n",
      "team_name:  Hurricanes rival: Rangers\n",
      "team_name:  Islanders rival: Blackhawks\n",
      "team_name:  Jets rival: Penguins\n",
      "team_name:  Kings rival: Golden Knights\n",
      "team_name:  Lightning rival: Golden Knights\n",
      "team_name:  Maple Leafs rival: Sharks\n",
      "team_name:  Oilers rival: Penguins\n",
      "team_name:  Panthers rival: Kings\n",
      "team_name:  Penguins rival: Blackhawks\n",
      "team_name:  Predators rival: Red Wings\n",
      "team_name:  Rangers rival: Islanders\n",
      "team_name:  Red Wings rival: Lightning\n",
      "team_name:  Sabres rival: Golden Knights\n",
      "team_name:  Senators rival: Blackhawks\n",
      "team_name:  Sharks rival: Bruins\n",
      "team_name:  Stars rival: Maple Leafs\n",
      "team_name:  Wild rival: Capitals\n",
      "\n",
      "\n",
      "\n",
      "small\n",
      "team_name:  Blackhawks rival: Red Wings\n",
      "team_name:  Bruins rival: Rangers\n",
      "team_name:  Canadiens rival: Senators\n",
      "team_name:  Penguins rival: Bruins\n",
      "team_name:  Rangers rival: Bruins\n",
      "team_name:  Red Wings rival: Blackhawks\n",
      "team_name:  Senators rival: Canadiens\n",
      "\n",
      "\n",
      "\n",
      "vs\n",
      "team_name:  Bruins rival: Rangers\n",
      "team_name:  Rangers rival: Bruins\n",
      "\n",
      "\n",
      "\n"
     ]
    }
   ],
   "source": [
    "for df,name in zip(dfs,df_names):\n",
    "    print(name)\n",
    "    data = df.groupby([\"teamName\",\"opp_team\"])[\"won\"].mean().unstack().T\n",
    "\n",
    "    for col in data:\n",
    "        print(\"team_name: \", col, \"rival:\", data[col].sort_values(ascending = True).index[0])\n",
    "        \n",
    "    print(\"\\n\\n\")"
   ]
  },
  {
   "cell_type": "markdown",
   "metadata": {},
   "source": [
    "### biggest_team_blowout\n",
    "biggest diff between team and opponent goals in WIN for given team"
   ]
  },
  {
   "cell_type": "code",
   "execution_count": 49,
   "metadata": {
    "collapsed": true
   },
   "outputs": [],
   "source": [
    "data = full_df[full_df.won == True].groupby('teamName')['margin'].max()"
   ]
  },
  {
   "cell_type": "code",
   "execution_count": 53,
   "metadata": {},
   "outputs": [
    {
     "name": "stdout",
     "output_type": "stream",
     "text": [
      "full\n",
      "teamName\n",
      "Avalanche          6\n",
      "Blackhawks         9\n",
      "Blue Jackets      10\n",
      "Blues              7\n",
      "Bruins             6\n",
      "Canadiens          9\n",
      "Canucks            6\n",
      "Capitals           7\n",
      "Coyotes            6\n",
      "Devils             6\n",
      "Ducks              8\n",
      "Flames             7\n",
      "Flyers             7\n",
      "Golden Knights     7\n",
      "Hurricanes         5\n",
      "Islanders          7\n",
      "Jets               6\n",
      "Kings              7\n",
      "Lightning          6\n",
      "Maple Leafs        7\n",
      "Oilers             7\n",
      "Panthers           7\n",
      "Penguins           7\n",
      "Predators          7\n",
      "Rangers            6\n",
      "Red Wings          6\n",
      "Sabres             5\n",
      "Senators           6\n",
      "Sharks             7\n",
      "Stars              6\n",
      "Wild               7\n",
      "Name: margin, dtype: int64\n",
      "\n",
      "\n",
      "\n",
      "small\n",
      "teamName\n",
      "Blackhawks    3\n",
      "Bruins        5\n",
      "Canadiens     2\n",
      "Rangers       1\n",
      "Red Wings     3\n",
      "Senators      5\n",
      "Name: margin, dtype: int64\n",
      "\n",
      "\n",
      "\n",
      "vs\n",
      "teamName\n",
      "Bruins    3\n",
      "Name: margin, dtype: int64\n",
      "\n",
      "\n",
      "\n"
     ]
    }
   ],
   "source": [
    "for df,name in zip(dfs,df_names):\n",
    "    print(name)\n",
    "    print(df[df.won == True].groupby('teamName')['margin'].max())\n",
    "    \n",
    "    print(\"\\n\\n\")"
   ]
  },
  {
   "cell_type": "markdown",
   "metadata": {},
   "source": [
    "### worst_loss\n",
    "biggest LOSS blowout"
   ]
  },
  {
   "cell_type": "code",
   "execution_count": 55,
   "metadata": {},
   "outputs": [
    {
     "name": "stdout",
     "output_type": "stream",
     "text": [
      "full\n",
      "teamName\n",
      "Avalanche         -9\n",
      "Blackhawks        -7\n",
      "Blue Jackets      -7\n",
      "Blues             -6\n",
      "Bruins            -7\n",
      "Canadiens        -10\n",
      "Canucks           -8\n",
      "Capitals          -6\n",
      "Coyotes           -7\n",
      "Devils            -6\n",
      "Ducks             -7\n",
      "Flames            -6\n",
      "Flyers            -7\n",
      "Golden Knights    -6\n",
      "Hurricanes        -7\n",
      "Islanders         -7\n",
      "Jets              -7\n",
      "Kings             -5\n",
      "Lightning         -5\n",
      "Maple Leafs       -7\n",
      "Oilers            -7\n",
      "Panthers          -7\n",
      "Penguins          -9\n",
      "Predators         -6\n",
      "Rangers           -7\n",
      "Red Wings         -9\n",
      "Sabres            -7\n",
      "Senators          -7\n",
      "Sharks            -7\n",
      "Stars             -7\n",
      "Wild              -6\n",
      "Name: margin, dtype: int64\n",
      "\n",
      "\n",
      "\n",
      "small\n",
      "teamName\n",
      "Blackhawks   -3\n",
      "Bruins       -1\n",
      "Canadiens    -5\n",
      "Penguins     -5\n",
      "Rangers      -3\n",
      "Red Wings    -3\n",
      "Senators     -2\n",
      "Name: margin, dtype: int64\n",
      "\n",
      "\n",
      "\n",
      "vs\n",
      "teamName\n",
      "Rangers   -3\n",
      "Name: margin, dtype: int64\n",
      "\n",
      "\n",
      "\n"
     ]
    }
   ],
   "source": [
    "for df,name in zip(dfs,df_names):\n",
    "    print(name)\n",
    "    print(df[df.won == False].groupby('teamName')['margin'].min())\n",
    "    \n",
    "    print(\"\\n\\n\")"
   ]
  },
  {
   "cell_type": "markdown",
   "metadata": {},
   "source": [
    "### head_to_head\n",
    "record (as hash-- win/loss) against specific opponent"
   ]
  },
  {
   "cell_type": "code",
   "execution_count": 67,
   "metadata": {
    "scrolled": false
   },
   "outputs": [
    {
     "name": "stdout",
     "output_type": "stream",
     "text": [
      "full\n",
      "{('Avalanche', 'Blackhawks'): {'wins': 14.0, 'losses': 12.0}, ('Avalanche', 'Blue Jackets'): {'wins': 6.0, 'losses': 7.0}, ('Avalanche', 'Blues'): {'wins': 10.0, 'losses': 17.0}, ('Avalanche', 'Bruins'): {'wins': 7.0, 'losses': 3.0}, ('Avalanche', 'Canadiens'): {'wins': 5.0, 'losses': 5.0}, ('Avalanche', 'Canucks'): {'wins': 8.0, 'losses': 11.0}, ('Avalanche', 'Capitals'): {'wins': 3.0, 'losses': 7.0}, ('Avalanche', 'Coyotes'): {'wins': 10.0, 'losses': 8.0}, ('Avalanche', 'Devils'): {'wins': 7.0, 'losses': 3.0}, ('Avalanche', 'Ducks'): {'wins': 7.0, 'losses': 11.0}, ('Avalanche', 'Flames'): {'wins': 8.0, 'losses': 11.0}, ('Avalanche', 'Flyers'): {'wins': 4.0, 'losses': 6.0}, ('Avalanche', 'Golden Knights'): {'wins': 1.0, 'losses': 2.0}, ('Avalanche', 'Hurricanes'): {'wins': 5.0, 'losses': 5.0}, ('Avalanche', 'Islanders'): {'wins': 5.0, 'losses': 5.0}, ('Avalanche', 'Jets'): {'wins': 12.0, 'losses': 12.0}, ('Avalanche', 'Kings'): {'wins': 5.0, 'losses': 13.0}, ('Avalanche', 'Lightning'): {'wins': 4.0, 'losses': 6.0}, ('Avalanche', 'Maple Leafs'): {'wins': 5.0, 'losses': 5.0}, ('Avalanche', 'Oilers'): {'wins': 8.0, 'losses': 12.0}, ('Avalanche', 'Panthers'): {'wins': 5.0, 'losses': 5.0}, ('Avalanche', 'Penguins'): {'wins': 5.0, 'losses': 5.0}, ('Avalanche', 'Predators'): {'wins': 12.0, 'losses': 20.0}, ('Avalanche', 'Rangers'): {'wins': 5.0, 'losses': 5.0}, ('Avalanche', 'Red Wings'): {'wins': 6.0, 'losses': 7.0}, ('Avalanche', 'Sabres'): {'wins': 7.0, 'losses': 3.0}, ('Avalanche', 'Senators'): {'wins': 4.0, 'losses': 6.0}, ('Avalanche', 'Sharks'): {'wins': 7.0, 'losses': 11.0}, ('Avalanche', 'Stars'): {'wins': 16.0, 'losses': 11.0}, ('Avalanche', 'Wild'): {'wins': 15.0, 'losses': 21.0}, ('Blackhawks', 'Avalanche'): {'wins': 12.0, 'losses': 14.0}, ('Blackhawks', 'Blue Jackets'): {'wins': 9.0, 'losses': 5.0}, ('Blackhawks', 'Blues'): {'wins': 20.0, 'losses': 22.0}, ('Blackhawks', 'Bruins'): {'wins': 9.0, 'losses': 7.0}, ('Blackhawks', 'Canadiens'): {'wins': 8.0, 'losses': 2.0}, ('Blackhawks', 'Canucks'): {'wins': 8.0, 'losses': 10.0}, ('Blackhawks', 'Capitals'): {'wins': 3.0, 'losses': 7.0}, ('Blackhawks', 'Coyotes'): {'wins': 14.0, 'losses': 4.0}, ('Blackhawks', 'Devils'): {'wins': 6.0, 'losses': 4.0}, ('Blackhawks', 'Ducks'): {'wins': 12.0, 'losses': 13.0}, ('Blackhawks', 'Flames'): {'wins': 10.0, 'losses': 8.0}, ('Blackhawks', 'Flyers'): {'wins': 4.0, 'losses': 6.0}, ('Blackhawks', 'Golden Knights'): {'wins': 0.0, 'losses': 3.0}, ('Blackhawks', 'Hurricanes'): {'wins': 6.0, 'losses': 4.0}, ('Blackhawks', 'Islanders'): {'wins': 7.0, 'losses': 3.0}, ('Blackhawks', 'Jets'): {'wins': 13.0, 'losses': 11.0}, ('Blackhawks', 'Kings'): {'wins': 17.0, 'losses': 13.0}, ('Blackhawks', 'Lightning'): {'wins': 6.0, 'losses': 10.0}, ('Blackhawks', 'Maple Leafs'): {'wins': 6.0, 'losses': 4.0}, ('Blackhawks', 'Oilers'): {'wins': 13.0, 'losses': 5.0}, ('Blackhawks', 'Panthers'): {'wins': 8.0, 'losses': 2.0}, ('Blackhawks', 'Penguins'): {'wins': 9.0, 'losses': 1.0}, ('Blackhawks', 'Predators'): {'wins': 22.0, 'losses': 16.0}, ('Blackhawks', 'Rangers'): {'wins': 5.0, 'losses': 5.0}, ('Blackhawks', 'Red Wings'): {'wins': 13.0, 'losses': 8.0}, ('Blackhawks', 'Sabres'): {'wins': 9.0, 'losses': 1.0}, ('Blackhawks', 'Senators'): {'wins': 7.0, 'losses': 3.0}, ('Blackhawks', 'Sharks'): {'wins': 10.0, 'losses': 8.0}, ('Blackhawks', 'Stars'): {'wins': 16.0, 'losses': 11.0}, ('Blackhawks', 'Wild'): {'wins': 24.0, 'losses': 18.0}, ('Blue Jackets', 'Avalanche'): {'wins': 7.0, 'losses': 6.0}, ('Blue Jackets', 'Blackhawks'): {'wins': 5.0, 'losses': 9.0}, ('Blue Jackets', 'Blues'): {'wins': 5.0, 'losses': 9.0}, ('Blue Jackets', 'Bruins'): {'wins': 6.0, 'losses': 9.0}, ('Blue Jackets', 'Canadiens'): {'wins': 7.0, 'losses': 8.0}, ('Blue Jackets', 'Canucks'): {'wins': 5.0, 'losses': 8.0}, ('Blue Jackets', 'Capitals'): {'wins': 10.0, 'losses': 18.0}, ('Blue Jackets', 'Coyotes'): {'wins': 9.0, 'losses': 4.0}, ('Blue Jackets', 'Devils'): {'wins': 15.0, 'losses': 6.0}, ('Blue Jackets', 'Ducks'): {'wins': 8.0, 'losses': 5.0}, ('Blue Jackets', 'Flames'): {'wins': 9.0, 'losses': 4.0}, ('Blue Jackets', 'Flyers'): {'wins': 15.0, 'losses': 6.0}, ('Blue Jackets', 'Golden Knights'): {'wins': 1.0, 'losses': 1.0}, ('Blue Jackets', 'Hurricanes'): {'wins': 9.0, 'losses': 12.0}, ('Blue Jackets', 'Islanders'): {'wins': 11.0, 'losses': 10.0}, ('Blue Jackets', 'Jets'): {'wins': 4.0, 'losses': 6.0}, ('Blue Jackets', 'Kings'): {'wins': 3.0, 'losses': 10.0}, ('Blue Jackets', 'Lightning'): {'wins': 6.0, 'losses': 9.0}, ('Blue Jackets', 'Maple Leafs'): {'wins': 10.0, 'losses': 5.0}, ('Blue Jackets', 'Oilers'): {'wins': 8.0, 'losses': 5.0}, ('Blue Jackets', 'Panthers'): {'wins': 10.0, 'losses': 5.0}, ('Blue Jackets', 'Penguins'): {'wins': 10.0, 'losses': 22.0}, ('Blue Jackets', 'Predators'): {'wins': 6.0, 'losses': 9.0}, ('Blue Jackets', 'Rangers'): {'wins': 9.0, 'losses': 12.0}, ('Blue Jackets', 'Red Wings'): {'wins': 15.0, 'losses': 5.0}, ('Blue Jackets', 'Sabres'): {'wins': 9.0, 'losses': 6.0}, ('Blue Jackets', 'Senators'): {'wins': 6.0, 'losses': 9.0}, ('Blue Jackets', 'Sharks'): {'wins': 7.0, 'losses': 6.0}, ('Blue Jackets', 'Stars'): {'wins': 10.0, 'losses': 3.0}, ('Blue Jackets', 'Wild'): {'wins': 8.0, 'losses': 5.0}, ('Blues', 'Avalanche'): {'wins': 17.0, 'losses': 10.0}, ('Blues', 'Blackhawks'): {'wins': 22.0, 'losses': 20.0}, ('Blues', 'Blue Jackets'): {'wins': 9.0, 'losses': 5.0}, ('Blues', 'Bruins'): {'wins': 6.0, 'losses': 4.0}, ('Blues', 'Canadiens'): {'wins': 7.0, 'losses': 3.0}, ('Blues', 'Canucks'): {'wins': 10.0, 'losses': 8.0}, ('Blues', 'Capitals'): {'wins': 3.0, 'losses': 7.0}, ('Blues', 'Coyotes'): {'wins': 15.0, 'losses': 3.0}, ('Blues', 'Devils'): {'wins': 9.0, 'losses': 1.0}, ('Blues', 'Ducks'): {'wins': 7.0, 'losses': 11.0}, ('Blues', 'Flames'): {'wins': 11.0, 'losses': 7.0}, ('Blues', 'Flyers'): {'wins': 4.0, 'losses': 6.0}, ('Blues', 'Golden Knights'): {'wins': 1.0, 'losses': 2.0}, ('Blues', 'Hurricanes'): {'wins': 7.0, 'losses': 3.0}, ('Blues', 'Islanders'): {'wins': 6.0, 'losses': 4.0}, ('Blues', 'Jets'): {'wins': 12.0, 'losses': 11.0}, ('Blues', 'Kings'): {'wins': 10.0, 'losses': 14.0}, ('Blues', 'Lightning'): {'wins': 6.0, 'losses': 4.0}, ('Blues', 'Maple Leafs'): {'wins': 8.0, 'losses': 2.0}, ('Blues', 'Oilers'): {'wins': 12.0, 'losses': 6.0}, ('Blues', 'Panthers'): {'wins': 6.0, 'losses': 4.0}, ('Blues', 'Penguins'): {'wins': 6.0, 'losses': 4.0}, ('Blues', 'Predators'): {'wins': 18.0, 'losses': 16.0}, ('Blues', 'Rangers'): {'wins': 6.0, 'losses': 4.0}, ('Blues', 'Red Wings'): {'wins': 8.0, 'losses': 7.0}, ('Blues', 'Sabres'): {'wins': 9.0, 'losses': 1.0}, ('Blues', 'Senators'): {'wins': 5.0, 'losses': 5.0}, ('Blues', 'Sharks'): {'wins': 11.0, 'losses': 13.0}, ('Blues', 'Stars'): {'wins': 20.0, 'losses': 14.0}, ('Blues', 'Wild'): {'wins': 22.0, 'losses': 15.0}, ('Bruins', 'Avalanche'): {'wins': 3.0, 'losses': 7.0}, ('Bruins', 'Blackhawks'): {'wins': 7.0, 'losses': 9.0}, ('Bruins', 'Blue Jackets'): {'wins': 9.0, 'losses': 6.0}, ('Bruins', 'Blues'): {'wins': 4.0, 'losses': 6.0}, ('Bruins', 'Canadiens'): {'wins': 13.0, 'losses': 19.0}, ('Bruins', 'Canucks'): {'wins': 5.0, 'losses': 5.0}, ('Bruins', 'Capitals'): {'wins': 3.0, 'losses': 15.0}, ('Bruins', 'Coyotes'): {'wins': 10.0, 'losses': 0.0}, ('Bruins', 'Devils'): {'wins': 14.0, 'losses': 4.0}, ('Bruins', 'Ducks'): {'wins': 1.0, 'losses': 9.0}, ('Bruins', 'Flames'): {'wins': 6.0, 'losses': 4.0}, ('Bruins', 'Flyers'): {'wins': 12.0, 'losses': 6.0}, ('Bruins', 'Golden Knights'): {'wins': 1.0, 'losses': 1.0}, ('Bruins', 'Hurricanes'): {'wins': 12.0, 'losses': 6.0}, ('Bruins', 'Islanders'): {'wins': 12.0, 'losses': 6.0}, ('Bruins', 'Jets'): {'wins': 8.0, 'losses': 5.0}, ('Bruins', 'Kings'): {'wins': 5.0, 'losses': 5.0}, ('Bruins', 'Lightning'): {'wins': 19.0, 'losses': 10.0}, ('Bruins', 'Maple Leafs'): {'wins': 20.0, 'losses': 19.0}, ('Bruins', 'Oilers'): {'wins': 4.0, 'losses': 6.0}, ('Bruins', 'Panthers'): {'wins': 19.0, 'losses': 6.0}, ('Bruins', 'Penguins'): {'wins': 14.0, 'losses': 8.0}, ('Bruins', 'Predators'): {'wins': 5.0, 'losses': 5.0}, ('Bruins', 'Rangers'): {'wins': 12.0, 'losses': 11.0}, ('Bruins', 'Red Wings'): {'wins': 19.0, 'losses': 7.0}, ('Bruins', 'Sabres'): {'wins': 16.0, 'losses': 10.0}, ('Bruins', 'Senators'): {'wins': 15.0, 'losses': 17.0}, ('Bruins', 'Sharks'): {'wins': 7.0, 'losses': 3.0}, ('Bruins', 'Stars'): {'wins': 6.0, 'losses': 4.0}, ('Bruins', 'Wild'): {'wins': 6.0, 'losses': 4.0}, ('Canadiens', 'Avalanche'): {'wins': 5.0, 'losses': 5.0}, ('Canadiens', 'Blackhawks'): {'wins': 2.0, 'losses': 8.0}, ('Canadiens', 'Blue Jackets'): {'wins': 8.0, 'losses': 7.0}, ('Canadiens', 'Blues'): {'wins': 3.0, 'losses': 7.0}, ('Canadiens', 'Bruins'): {'wins': 19.0, 'losses': 13.0}, ('Canadiens', 'Canucks'): {'wins': 8.0, 'losses': 2.0}, ('Canadiens', 'Capitals'): {'wins': 7.0, 'losses': 11.0}, ('Canadiens', 'Coyotes'): {'wins': 4.0, 'losses': 6.0}, ('Canadiens', 'Devils'): {'wins': 12.0, 'losses': 6.0}, ('Canadiens', 'Ducks'): {'wins': 5.0, 'losses': 5.0}, ('Canadiens', 'Flames'): {'wins': 5.0, 'losses': 5.0}, ('Canadiens', 'Flyers'): {'wins': 8.0, 'losses': 10.0}, ('Canadiens', 'Golden Knights'): {'wins': 1.0, 'losses': 1.0}, ('Canadiens', 'Hurricanes'): {'wins': 11.0, 'losses': 7.0}, ('Canadiens', 'Islanders'): {'wins': 12.0, 'losses': 6.0}, ('Canadiens', 'Jets'): {'wins': 8.0, 'losses': 5.0}, ('Canadiens', 'Kings'): {'wins': 3.0, 'losses': 7.0}, ('Canadiens', 'Lightning'): {'wins': 17.0, 'losses': 17.0}, ('Canadiens', 'Maple Leafs'): {'wins': 17.0, 'losses': 9.0}, ('Canadiens', 'Oilers'): {'wins': 3.0, 'losses': 7.0}, ('Canadiens', 'Panthers'): {'wins': 13.0, 'losses': 11.0}, ('Canadiens', 'Penguins'): {'wins': 5.0, 'losses': 13.0}, ('Canadiens', 'Predators'): {'wins': 4.0, 'losses': 6.0}, ('Canadiens', 'Rangers'): {'wins': 18.0, 'losses': 12.0}, ('Canadiens', 'Red Wings'): {'wins': 15.0, 'losses': 6.0}, ('Canadiens', 'Sabres'): {'wins': 16.0, 'losses': 10.0}, ('Canadiens', 'Senators'): {'wins': 19.0, 'losses': 18.0}, ('Canadiens', 'Sharks'): {'wins': 1.0, 'losses': 9.0}, ('Canadiens', 'Stars'): {'wins': 7.0, 'losses': 3.0}, ('Canadiens', 'Wild'): {'wins': 2.0, 'losses': 8.0}, ('Canucks', 'Avalanche'): {'wins': 11.0, 'losses': 8.0}, ('Canucks', 'Blackhawks'): {'wins': 10.0, 'losses': 8.0}, ('Canucks', 'Blue Jackets'): {'wins': 8.0, 'losses': 5.0}, ('Canucks', 'Blues'): {'wins': 8.0, 'losses': 10.0}, ('Canucks', 'Bruins'): {'wins': 5.0, 'losses': 5.0}, ('Canucks', 'Canadiens'): {'wins': 2.0, 'losses': 8.0}, ('Canucks', 'Capitals'): {'wins': 4.0, 'losses': 6.0}, ('Canucks', 'Coyotes'): {'wins': 15.0, 'losses': 11.0}, ('Canucks', 'Devils'): {'wins': 3.0, 'losses': 7.0}, ('Canucks', 'Ducks'): {'wins': 9.0, 'losses': 18.0}, ('Canucks', 'Flames'): {'wins': 18.0, 'losses': 16.0}, ('Canucks', 'Flyers'): {'wins': 5.0, 'losses': 5.0}, ('Canucks', 'Golden Knights'): {'wins': 0.0, 'losses': 4.0}, ('Canucks', 'Hurricanes'): {'wins': 8.0, 'losses': 2.0}, ('Canucks', 'Islanders'): {'wins': 5.0, 'losses': 5.0}, ('Canucks', 'Jets'): {'wins': 5.0, 'losses': 10.0}, ('Canucks', 'Kings'): {'wins': 11.0, 'losses': 15.0}, ('Canucks', 'Lightning'): {'wins': 3.0, 'losses': 7.0}, ('Canucks', 'Maple Leafs'): {'wins': 4.0, 'losses': 6.0}, ('Canucks', 'Oilers'): {'wins': 15.0, 'losses': 14.0}, ('Canucks', 'Panthers'): {'wins': 4.0, 'losses': 6.0}, ('Canucks', 'Penguins'): {'wins': 4.0, 'losses': 6.0}, ('Canucks', 'Predators'): {'wins': 9.0, 'losses': 9.0}, ('Canucks', 'Rangers'): {'wins': 3.0, 'losses': 7.0}, ('Canucks', 'Red Wings'): {'wins': 4.0, 'losses': 9.0}, ('Canucks', 'Sabres'): {'wins': 7.0, 'losses': 3.0}, ('Canucks', 'Senators'): {'wins': 4.0, 'losses': 6.0}, ('Canucks', 'Sharks'): {'wins': 7.0, 'losses': 24.0}, ('Canucks', 'Stars'): {'wins': 4.0, 'losses': 14.0}, ('Canucks', 'Wild'): {'wins': 9.0, 'losses': 10.0}, ('Capitals', 'Avalanche'): {'wins': 7.0, 'losses': 3.0}, ('Capitals', 'Blackhawks'): {'wins': 7.0, 'losses': 3.0}, ('Capitals', 'Blue Jackets'): {'wins': 18.0, 'losses': 10.0}, ('Capitals', 'Blues'): {'wins': 7.0, 'losses': 3.0}, ('Capitals', 'Bruins'): {'wins': 15.0, 'losses': 3.0}, ('Capitals', 'Canadiens'): {'wins': 11.0, 'losses': 7.0}, ('Capitals', 'Canucks'): {'wins': 6.0, 'losses': 4.0}, ('Capitals', 'Coyotes'): {'wins': 5.0, 'losses': 5.0}, ('Capitals', 'Devils'): {'wins': 16.0, 'losses': 8.0}, ('Capitals', 'Ducks'): {'wins': 6.0, 'losses': 4.0}, ('Capitals', 'Flames'): {'wins': 5.0, 'losses': 5.0}, ('Capitals', 'Flyers'): {'wins': 14.0, 'losses': 16.0}, ('Capitals', 'Golden Knights'): {'wins': 4.0, 'losses': 3.0}, ('Capitals', 'Hurricanes'): {'wins': 17.0, 'losses': 9.0}, ('Capitals', 'Islanders'): {'wins': 18.0, 'losses': 13.0}, ('Capitals', 'Jets'): {'wins': 11.0, 'losses': 4.0}, ('Capitals', 'Kings'): {'wins': 3.0, 'losses': 7.0}, ('Capitals', 'Lightning'): {'wins': 17.0, 'losses': 9.0}, ('Capitals', 'Maple Leafs'): {'wins': 16.0, 'losses': 8.0}, ('Capitals', 'Oilers'): {'wins': 7.0, 'losses': 3.0}, ('Capitals', 'Panthers'): {'wins': 12.0, 'losses': 7.0}, ('Capitals', 'Penguins'): {'wins': 18.0, 'losses': 25.0}, ('Capitals', 'Predators'): {'wins': 3.0, 'losses': 7.0}, ('Capitals', 'Rangers'): {'wins': 18.0, 'losses': 20.0}, ('Capitals', 'Red Wings'): {'wins': 10.0, 'losses': 5.0}, ('Capitals', 'Sabres'): {'wins': 13.0, 'losses': 5.0}, ('Capitals', 'Senators'): {'wins': 10.0, 'losses': 8.0}, ('Capitals', 'Sharks'): {'wins': 4.0, 'losses': 6.0}, ('Capitals', 'Stars'): {'wins': 3.0, 'losses': 7.0}, ('Capitals', 'Wild'): {'wins': 8.0, 'losses': 2.0}, ('Coyotes', 'Avalanche'): {'wins': 8.0, 'losses': 10.0}, ('Coyotes', 'Blackhawks'): {'wins': 4.0, 'losses': 14.0}, ('Coyotes', 'Blue Jackets'): {'wins': 4.0, 'losses': 9.0}, ('Coyotes', 'Blues'): {'wins': 3.0, 'losses': 15.0}, ('Coyotes', 'Bruins'): {'wins': 0.0, 'losses': 10.0}, ('Coyotes', 'Canadiens'): {'wins': 6.0, 'losses': 4.0}, ('Coyotes', 'Canucks'): {'wins': 11.0, 'losses': 15.0}, ('Coyotes', 'Capitals'): {'wins': 5.0, 'losses': 5.0}, ('Coyotes', 'Devils'): {'wins': 4.0, 'losses': 6.0}, ('Coyotes', 'Ducks'): {'wins': 10.0, 'losses': 17.0}, ('Coyotes', 'Flames'): {'wins': 11.0, 'losses': 16.0}, ('Coyotes', 'Flyers'): {'wins': 6.0, 'losses': 4.0}, ('Coyotes', 'Golden Knights'): {'wins': 1.0, 'losses': 4.0}, ('Coyotes', 'Hurricanes'): {'wins': 3.0, 'losses': 7.0}, ('Coyotes', 'Islanders'): {'wins': 4.0, 'losses': 6.0}, ('Coyotes', 'Jets'): {'wins': 3.0, 'losses': 12.0}, ('Coyotes', 'Kings'): {'wins': 14.0, 'losses': 14.0}, ('Coyotes', 'Lightning'): {'wins': 5.0, 'losses': 5.0}, ('Coyotes', 'Maple Leafs'): {'wins': 6.0, 'losses': 4.0}, ('Coyotes', 'Oilers'): {'wins': 17.0, 'losses': 10.0}, ('Coyotes', 'Panthers'): {'wins': 5.0, 'losses': 5.0}, ('Coyotes', 'Penguins'): {'wins': 4.0, 'losses': 6.0}, ('Coyotes', 'Predators'): {'wins': 7.0, 'losses': 11.0}, ('Coyotes', 'Rangers'): {'wins': 1.0, 'losses': 9.0}, ('Coyotes', 'Red Wings'): {'wins': 5.0, 'losses': 8.0}, ('Coyotes', 'Sabres'): {'wins': 3.0, 'losses': 7.0}, ('Coyotes', 'Senators'): {'wins': 5.0, 'losses': 5.0}, ('Coyotes', 'Sharks'): {'wins': 10.0, 'losses': 18.0}, ('Coyotes', 'Stars'): {'wins': 5.0, 'losses': 14.0}, ('Coyotes', 'Wild'): {'wins': 6.0, 'losses': 12.0}, ('Devils', 'Avalanche'): {'wins': 3.0, 'losses': 7.0}, ('Devils', 'Blackhawks'): {'wins': 4.0, 'losses': 6.0}, ('Devils', 'Blue Jackets'): {'wins': 6.0, 'losses': 15.0}, ('Devils', 'Blues'): {'wins': 1.0, 'losses': 9.0}, ('Devils', 'Bruins'): {'wins': 4.0, 'losses': 14.0}, ('Devils', 'Canadiens'): {'wins': 6.0, 'losses': 12.0}, ('Devils', 'Canucks'): {'wins': 7.0, 'losses': 3.0}, ('Devils', 'Capitals'): {'wins': 8.0, 'losses': 16.0}, ('Devils', 'Coyotes'): {'wins': 6.0, 'losses': 4.0}, ('Devils', 'Ducks'): {'wins': 3.0, 'losses': 7.0}, ('Devils', 'Flames'): {'wins': 2.0, 'losses': 8.0}, ('Devils', 'Flyers'): {'wins': 17.0, 'losses': 9.0}, ('Devils', 'Golden Knights'): {'wins': 1.0, 'losses': 1.0}, ('Devils', 'Hurricanes'): {'wins': 14.0, 'losses': 10.0}, ('Devils', 'Islanders'): {'wins': 9.0, 'losses': 17.0}, ('Devils', 'Jets'): {'wins': 3.0, 'losses': 10.0}, ('Devils', 'Kings'): {'wins': 6.0, 'losses': 4.0}, ('Devils', 'Lightning'): {'wins': 10.0, 'losses': 13.0}, ('Devils', 'Maple Leafs'): {'wins': 8.0, 'losses': 10.0}, ('Devils', 'Oilers'): {'wins': 3.0, 'losses': 7.0}, ('Devils', 'Panthers'): {'wins': 8.0, 'losses': 10.0}, ('Devils', 'Penguins'): {'wins': 12.0, 'losses': 14.0}, ('Devils', 'Predators'): {'wins': 5.0, 'losses': 5.0}, ('Devils', 'Rangers'): {'wins': 11.0, 'losses': 14.0}, ('Devils', 'Red Wings'): {'wins': 6.0, 'losses': 9.0}, ('Devils', 'Sabres'): {'wins': 12.0, 'losses': 6.0}, ('Devils', 'Senators'): {'wins': 8.0, 'losses': 10.0}, ('Devils', 'Sharks'): {'wins': 2.0, 'losses': 8.0}, ('Devils', 'Stars'): {'wins': 5.0, 'losses': 5.0}, ('Devils', 'Wild'): {'wins': 7.0, 'losses': 3.0}, ('Ducks', 'Avalanche'): {'wins': 11.0, 'losses': 7.0}, ('Ducks', 'Blackhawks'): {'wins': 13.0, 'losses': 12.0}, ('Ducks', 'Blue Jackets'): {'wins': 5.0, 'losses': 8.0}, ('Ducks', 'Blues'): {'wins': 11.0, 'losses': 7.0}, ('Ducks', 'Bruins'): {'wins': 9.0, 'losses': 1.0}, ('Ducks', 'Canadiens'): {'wins': 5.0, 'losses': 5.0}, ('Ducks', 'Canucks'): {'wins': 18.0, 'losses': 9.0}, ('Ducks', 'Capitals'): {'wins': 4.0, 'losses': 6.0}, ('Ducks', 'Coyotes'): {'wins': 17.0, 'losses': 10.0}, ('Ducks', 'Devils'): {'wins': 7.0, 'losses': 3.0}, ('Ducks', 'Flames'): {'wins': 27.0, 'losses': 8.0}, ('Ducks', 'Flyers'): {'wins': 9.0, 'losses': 1.0}, ('Ducks', 'Golden Knights'): {'wins': 1.0, 'losses': 3.0}, ('Ducks', 'Hurricanes'): {'wins': 8.0, 'losses': 2.0}, ('Ducks', 'Islanders'): {'wins': 5.0, 'losses': 5.0}, ('Ducks', 'Jets'): {'wins': 14.0, 'losses': 5.0}, ('Ducks', 'Kings'): {'wins': 22.0, 'losses': 14.0}, ('Ducks', 'Lightning'): {'wins': 3.0, 'losses': 7.0}, ('Ducks', 'Maple Leafs'): {'wins': 3.0, 'losses': 7.0}, ('Ducks', 'Oilers'): {'wins': 22.0, 'losses': 11.0}, ('Ducks', 'Panthers'): {'wins': 4.0, 'losses': 6.0}, ('Ducks', 'Penguins'): {'wins': 3.0, 'losses': 7.0}, ('Ducks', 'Predators'): {'wins': 16.0, 'losses': 15.0}, ('Ducks', 'Rangers'): {'wins': 4.0, 'losses': 6.0}, ('Ducks', 'Red Wings'): {'wins': 11.0, 'losses': 9.0}, ('Ducks', 'Sabres'): {'wins': 7.0, 'losses': 3.0}, ('Ducks', 'Senators'): {'wins': 6.0, 'losses': 4.0}, ('Ducks', 'Sharks'): {'wins': 12.0, 'losses': 20.0}, ('Ducks', 'Stars'): {'wins': 15.0, 'losses': 11.0}, ('Ducks', 'Wild'): {'wins': 13.0, 'losses': 5.0}, ('Flames', 'Avalanche'): {'wins': 11.0, 'losses': 8.0}, ('Flames', 'Blackhawks'): {'wins': 8.0, 'losses': 10.0}, ('Flames', 'Blue Jackets'): {'wins': 4.0, 'losses': 9.0}, ('Flames', 'Blues'): {'wins': 7.0, 'losses': 11.0}, ('Flames', 'Bruins'): {'wins': 4.0, 'losses': 6.0}, ('Flames', 'Canadiens'): {'wins': 5.0, 'losses': 5.0}, ('Flames', 'Canucks'): {'wins': 16.0, 'losses': 18.0}, ('Flames', 'Capitals'): {'wins': 5.0, 'losses': 5.0}, ('Flames', 'Coyotes'): {'wins': 16.0, 'losses': 11.0}, ('Flames', 'Devils'): {'wins': 8.0, 'losses': 2.0}, ('Flames', 'Ducks'): {'wins': 8.0, 'losses': 27.0}, ('Flames', 'Flyers'): {'wins': 5.0, 'losses': 5.0}, ('Flames', 'Golden Knights'): {'wins': 1.0, 'losses': 3.0}, ('Flames', 'Hurricanes'): {'wins': 6.0, 'losses': 4.0}, ('Flames', 'Islanders'): {'wins': 4.0, 'losses': 6.0}, ('Flames', 'Jets'): {'wins': 8.0, 'losses': 7.0}, ('Flames', 'Kings'): {'wins': 12.0, 'losses': 14.0}, ('Flames', 'Lightning'): {'wins': 4.0, 'losses': 6.0}, ('Flames', 'Maple Leafs'): {'wins': 3.0, 'losses': 7.0}, ('Flames', 'Oilers'): {'wins': 15.0, 'losses': 13.0}, ('Flames', 'Panthers'): {'wins': 7.0, 'losses': 3.0}, ('Flames', 'Penguins'): {'wins': 5.0, 'losses': 5.0}, ('Flames', 'Predators'): {'wins': 10.0, 'losses': 8.0}, ('Flames', 'Rangers'): {'wins': 2.0, 'losses': 8.0}, ('Flames', 'Red Wings'): {'wins': 8.0, 'losses': 5.0}, ('Flames', 'Sabres'): {'wins': 6.0, 'losses': 4.0}, ('Flames', 'Senators'): {'wins': 5.0, 'losses': 5.0}, ('Flames', 'Sharks'): {'wins': 12.0, 'losses': 15.0}, ('Flames', 'Stars'): {'wins': 8.0, 'losses': 10.0}, ('Flames', 'Wild'): {'wins': 8.0, 'losses': 12.0}, ('Flyers', 'Avalanche'): {'wins': 6.0, 'losses': 4.0}, ('Flyers', 'Blackhawks'): {'wins': 6.0, 'losses': 4.0}, ('Flyers', 'Blue Jackets'): {'wins': 6.0, 'losses': 15.0}, ('Flyers', 'Blues'): {'wins': 6.0, 'losses': 4.0}, ('Flyers', 'Bruins'): {'wins': 6.0, 'losses': 12.0}, ('Flyers', 'Canadiens'): {'wins': 10.0, 'losses': 8.0}, ('Flyers', 'Canucks'): {'wins': 5.0, 'losses': 5.0}, ('Flyers', 'Capitals'): {'wins': 16.0, 'losses': 14.0}, ('Flyers', 'Coyotes'): {'wins': 4.0, 'losses': 6.0}, ('Flyers', 'Devils'): {'wins': 9.0, 'losses': 17.0}, ('Flyers', 'Ducks'): {'wins': 1.0, 'losses': 9.0}, ('Flyers', 'Flames'): {'wins': 5.0, 'losses': 5.0}, ('Flyers', 'Golden Knights'): {'wins': 1.0, 'losses': 1.0}, ('Flyers', 'Hurricanes'): {'wins': 13.0, 'losses': 12.0}, ('Flyers', 'Islanders'): {'wins': 13.0, 'losses': 12.0}, ('Flyers', 'Jets'): {'wins': 9.0, 'losses': 4.0}, ('Flyers', 'Kings'): {'wins': 4.0, 'losses': 6.0}, ('Flyers', 'Lightning'): {'wins': 6.0, 'losses': 12.0}, ('Flyers', 'Maple Leafs'): {'wins': 9.0, 'losses': 9.0}, ('Flyers', 'Oilers'): {'wins': 6.0, 'losses': 4.0}, ('Flyers', 'Panthers'): {'wins': 9.0, 'losses': 9.0}, ('Flyers', 'Penguins'): {'wins': 14.0, 'losses': 17.0}, ('Flyers', 'Predators'): {'wins': 5.0, 'losses': 5.0}, ('Flyers', 'Rangers'): {'wins': 14.0, 'losses': 19.0}, ('Flyers', 'Red Wings'): {'wins': 10.0, 'losses': 5.0}, ('Flyers', 'Sabres'): {'wins': 11.0, 'losses': 7.0}, ('Flyers', 'Senators'): {'wins': 10.0, 'losses': 8.0}, ('Flyers', 'Sharks'): {'wins': 3.0, 'losses': 7.0}, ('Flyers', 'Stars'): {'wins': 4.0, 'losses': 6.0}, ('Flyers', 'Wild'): {'wins': 6.0, 'losses': 4.0}, ('Golden Knights', 'Avalanche'): {'wins': 2.0, 'losses': 1.0}, ('Golden Knights', 'Blackhawks'): {'wins': 3.0, 'losses': 0.0}, ('Golden Knights', 'Blue Jackets'): {'wins': 1.0, 'losses': 1.0}, ('Golden Knights', 'Blues'): {'wins': 2.0, 'losses': 1.0}, ('Golden Knights', 'Bruins'): {'wins': 1.0, 'losses': 1.0}, ('Golden Knights', 'Canadiens'): {'wins': 1.0, 'losses': 1.0}, ('Golden Knights', 'Canucks'): {'wins': 4.0, 'losses': 0.0}, ('Golden Knights', 'Capitals'): {'wins': 3.0, 'losses': 4.0}, ('Golden Knights', 'Coyotes'): {'wins': 4.0, 'losses': 1.0}, ('Golden Knights', 'Devils'): {'wins': 1.0, 'losses': 1.0}, ('Golden Knights', 'Ducks'): {'wins': 3.0, 'losses': 1.0}, ('Golden Knights', 'Flames'): {'wins': 3.0, 'losses': 1.0}, ('Golden Knights', 'Flyers'): {'wins': 1.0, 'losses': 1.0}, ('Golden Knights', 'Hurricanes'): {'wins': 1.0, 'losses': 1.0}, ('Golden Knights', 'Islanders'): {'wins': 0.0, 'losses': 2.0}, ('Golden Knights', 'Jets'): {'wins': 6.0, 'losses': 2.0}, ('Golden Knights', 'Kings'): {'wins': 6.0, 'losses': 2.0}, ('Golden Knights', 'Lightning'): {'wins': 2.0, 'losses': 0.0}, ('Golden Knights', 'Maple Leafs'): {'wins': 1.0, 'losses': 1.0}, ('Golden Knights', 'Oilers'): {'wins': 1.0, 'losses': 3.0}, ('Golden Knights', 'Panthers'): {'wins': 1.0, 'losses': 1.0}, ('Golden Knights', 'Penguins'): {'wins': 1.0, 'losses': 1.0}, ('Golden Knights', 'Predators'): {'wins': 2.0, 'losses': 1.0}, ('Golden Knights', 'Rangers'): {'wins': 1.0, 'losses': 1.0}, ('Golden Knights', 'Red Wings'): {'wins': 1.0, 'losses': 1.0}, ('Golden Knights', 'Sabres'): {'wins': 2.0, 'losses': 0.0}, ('Golden Knights', 'Senators'): {'wins': 1.0, 'losses': 1.0}, ('Golden Knights', 'Sharks'): {'wins': 7.0, 'losses': 3.0}, ('Golden Knights', 'Stars'): {'wins': 2.0, 'losses': 1.0}, ('Golden Knights', 'Wild'): {'wins': 0.0, 'losses': 3.0}, ('Hurricanes', 'Avalanche'): {'wins': 5.0, 'losses': 5.0}, ('Hurricanes', 'Blackhawks'): {'wins': 4.0, 'losses': 6.0}, ('Hurricanes', 'Blue Jackets'): {'wins': 12.0, 'losses': 9.0}, ('Hurricanes', 'Blues'): {'wins': 3.0, 'losses': 7.0}, ('Hurricanes', 'Bruins'): {'wins': 6.0, 'losses': 12.0}, ('Hurricanes', 'Canadiens'): {'wins': 7.0, 'losses': 11.0}, ('Hurricanes', 'Canucks'): {'wins': 2.0, 'losses': 8.0}, ('Hurricanes', 'Capitals'): {'wins': 9.0, 'losses': 17.0}, ('Hurricanes', 'Coyotes'): {'wins': 7.0, 'losses': 3.0}, ('Hurricanes', 'Devils'): {'wins': 10.0, 'losses': 14.0}, ('Hurricanes', 'Ducks'): {'wins': 2.0, 'losses': 8.0}, ('Hurricanes', 'Flames'): {'wins': 4.0, 'losses': 6.0}, ('Hurricanes', 'Flyers'): {'wins': 12.0, 'losses': 13.0}, ('Hurricanes', 'Golden Knights'): {'wins': 1.0, 'losses': 1.0}, ('Hurricanes', 'Islanders'): {'wins': 14.0, 'losses': 10.0}, ('Hurricanes', 'Jets'): {'wins': 5.0, 'losses': 9.0}, ('Hurricanes', 'Kings'): {'wins': 4.0, 'losses': 6.0}, ('Hurricanes', 'Lightning'): {'wins': 4.0, 'losses': 16.0}, ('Hurricanes', 'Maple Leafs'): {'wins': 10.0, 'losses': 8.0}, ('Hurricanes', 'Oilers'): {'wins': 4.0, 'losses': 6.0}, ('Hurricanes', 'Panthers'): {'wins': 9.0, 'losses': 10.0}, ('Hurricanes', 'Penguins'): {'wins': 8.0, 'losses': 16.0}, ('Hurricanes', 'Predators'): {'wins': 7.0, 'losses': 3.0}, ('Hurricanes', 'Rangers'): {'wins': 4.0, 'losses': 20.0}, ('Hurricanes', 'Red Wings'): {'wins': 5.0, 'losses': 10.0}, ('Hurricanes', 'Sabres'): {'wins': 12.0, 'losses': 6.0}, ('Hurricanes', 'Senators'): {'wins': 12.0, 'losses': 6.0}, ('Hurricanes', 'Sharks'): {'wins': 5.0, 'losses': 5.0}, ('Hurricanes', 'Stars'): {'wins': 3.0, 'losses': 7.0}, ('Hurricanes', 'Wild'): {'wins': 2.0, 'losses': 8.0}, ('Islanders', 'Avalanche'): {'wins': 5.0, 'losses': 5.0}, ('Islanders', 'Blackhawks'): {'wins': 3.0, 'losses': 7.0}, ('Islanders', 'Blue Jackets'): {'wins': 10.0, 'losses': 11.0}, ('Islanders', 'Blues'): {'wins': 4.0, 'losses': 6.0}, ('Islanders', 'Bruins'): {'wins': 6.0, 'losses': 12.0}, ('Islanders', 'Canadiens'): {'wins': 6.0, 'losses': 12.0}, ('Islanders', 'Canucks'): {'wins': 5.0, 'losses': 5.0}, ('Islanders', 'Capitals'): {'wins': 13.0, 'losses': 18.0}, ('Islanders', 'Coyotes'): {'wins': 6.0, 'losses': 4.0}, ('Islanders', 'Devils'): {'wins': 17.0, 'losses': 9.0}, ('Islanders', 'Ducks'): {'wins': 5.0, 'losses': 5.0}, ('Islanders', 'Flames'): {'wins': 6.0, 'losses': 4.0}, ('Islanders', 'Flyers'): {'wins': 12.0, 'losses': 13.0}, ('Islanders', 'Golden Knights'): {'wins': 2.0, 'losses': 0.0}, ('Islanders', 'Hurricanes'): {'wins': 10.0, 'losses': 14.0}, ('Islanders', 'Jets'): {'wins': 8.0, 'losses': 5.0}, ('Islanders', 'Kings'): {'wins': 4.0, 'losses': 6.0}, ('Islanders', 'Lightning'): {'wins': 10.0, 'losses': 13.0}, ('Islanders', 'Maple Leafs'): {'wins': 9.0, 'losses': 9.0}, ('Islanders', 'Oilers'): {'wins': 4.0, 'losses': 6.0}, ('Islanders', 'Panthers'): {'wins': 12.0, 'losses': 12.0}, ('Islanders', 'Penguins'): {'wins': 12.0, 'losses': 20.0}, ('Islanders', 'Predators'): {'wins': 6.0, 'losses': 4.0}, ('Islanders', 'Rangers'): {'wins': 17.0, 'losses': 9.0}, ('Islanders', 'Red Wings'): {'wins': 8.0, 'losses': 7.0}, ('Islanders', 'Sabres'): {'wins': 10.0, 'losses': 8.0}, ('Islanders', 'Senators'): {'wins': 10.0, 'losses': 8.0}, ('Islanders', 'Sharks'): {'wins': 6.0, 'losses': 4.0}, ('Islanders', 'Stars'): {'wins': 6.0, 'losses': 4.0}, ('Islanders', 'Wild'): {'wins': 4.0, 'losses': 6.0}, ('Jets', 'Avalanche'): {'wins': 12.0, 'losses': 12.0}, ('Jets', 'Blackhawks'): {'wins': 11.0, 'losses': 13.0}, ('Jets', 'Blue Jackets'): {'wins': 6.0, 'losses': 4.0}, ('Jets', 'Blues'): {'wins': 11.0, 'losses': 12.0}, ('Jets', 'Bruins'): {'wins': 5.0, 'losses': 8.0}, ('Jets', 'Canadiens'): {'wins': 5.0, 'losses': 8.0}, ('Jets', 'Canucks'): {'wins': 10.0, 'losses': 5.0}, ('Jets', 'Capitals'): {'wins': 4.0, 'losses': 11.0}, ('Jets', 'Coyotes'): {'wins': 12.0, 'losses': 3.0}, ('Jets', 'Devils'): {'wins': 10.0, 'losses': 3.0}, ('Jets', 'Ducks'): {'wins': 5.0, 'losses': 14.0}, ('Jets', 'Flames'): {'wins': 7.0, 'losses': 8.0}, ('Jets', 'Flyers'): {'wins': 4.0, 'losses': 9.0}, ('Jets', 'Golden Knights'): {'wins': 2.0, 'losses': 6.0}, ('Jets', 'Hurricanes'): {'wins': 9.0, 'losses': 5.0}, ('Jets', 'Islanders'): {'wins': 5.0, 'losses': 8.0}, ('Jets', 'Kings'): {'wins': 8.0, 'losses': 7.0}, ('Jets', 'Lightning'): {'wins': 7.0, 'losses': 7.0}, ('Jets', 'Maple Leafs'): {'wins': 9.0, 'losses': 4.0}, ('Jets', 'Oilers'): {'wins': 9.0, 'losses': 6.0}, ('Jets', 'Panthers'): {'wins': 8.0, 'losses': 7.0}, ('Jets', 'Penguins'): {'wins': 3.0, 'losses': 10.0}, ('Jets', 'Predators'): {'wins': 14.0, 'losses': 17.0}, ('Jets', 'Rangers'): {'wins': 7.0, 'losses': 6.0}, ('Jets', 'Red Wings'): {'wins': 6.0, 'losses': 4.0}, ('Jets', 'Sabres'): {'wins': 8.0, 'losses': 5.0}, ('Jets', 'Senators'): {'wins': 6.0, 'losses': 7.0}, ('Jets', 'Sharks'): {'wins': 7.0, 'losses': 8.0}, ('Jets', 'Stars'): {'wins': 14.0, 'losses': 9.0}, ('Jets', 'Wild'): {'wins': 16.0, 'losses': 13.0}, ('Kings', 'Avalanche'): {'wins': 13.0, 'losses': 5.0}, ('Kings', 'Blackhawks'): {'wins': 13.0, 'losses': 17.0}, ('Kings', 'Blue Jackets'): {'wins': 10.0, 'losses': 3.0}, ('Kings', 'Blues'): {'wins': 14.0, 'losses': 10.0}, ('Kings', 'Bruins'): {'wins': 5.0, 'losses': 5.0}, ('Kings', 'Canadiens'): {'wins': 7.0, 'losses': 3.0}, ('Kings', 'Canucks'): {'wins': 15.0, 'losses': 11.0}, ('Kings', 'Capitals'): {'wins': 7.0, 'losses': 3.0}, ('Kings', 'Coyotes'): {'wins': 14.0, 'losses': 14.0}, ('Kings', 'Devils'): {'wins': 4.0, 'losses': 6.0}, ('Kings', 'Ducks'): {'wins': 14.0, 'losses': 22.0}, ('Kings', 'Flames'): {'wins': 14.0, 'losses': 12.0}, ('Kings', 'Flyers'): {'wins': 6.0, 'losses': 4.0}, ('Kings', 'Golden Knights'): {'wins': 2.0, 'losses': 6.0}, ('Kings', 'Hurricanes'): {'wins': 6.0, 'losses': 4.0}, ('Kings', 'Islanders'): {'wins': 6.0, 'losses': 4.0}, ('Kings', 'Jets'): {'wins': 7.0, 'losses': 8.0}, ('Kings', 'Lightning'): {'wins': 4.0, 'losses': 6.0}, ('Kings', 'Maple Leafs'): {'wins': 6.0, 'losses': 4.0}, ('Kings', 'Oilers'): {'wins': 18.0, 'losses': 8.0}, ('Kings', 'Panthers'): {'wins': 8.0, 'losses': 2.0}, ('Kings', 'Penguins'): {'wins': 5.0, 'losses': 5.0}, ('Kings', 'Predators'): {'wins': 7.0, 'losses': 11.0}, ('Kings', 'Rangers'): {'wins': 9.0, 'losses': 6.0}, ('Kings', 'Red Wings'): {'wins': 6.0, 'losses': 7.0}, ('Kings', 'Sabres'): {'wins': 6.0, 'losses': 4.0}, ('Kings', 'Senators'): {'wins': 6.0, 'losses': 4.0}, ('Kings', 'Sharks'): {'wins': 22.0, 'losses': 25.0}, ('Kings', 'Stars'): {'wins': 8.0, 'losses': 12.0}, ('Kings', 'Wild'): {'wins': 9.0, 'losses': 9.0}, ('Lightning', 'Avalanche'): {'wins': 6.0, 'losses': 4.0}, ('Lightning', 'Blackhawks'): {'wins': 10.0, 'losses': 6.0}, ('Lightning', 'Blue Jackets'): {'wins': 9.0, 'losses': 6.0}, ('Lightning', 'Blues'): {'wins': 4.0, 'losses': 6.0}, ('Lightning', 'Bruins'): {'wins': 10.0, 'losses': 19.0}, ('Lightning', 'Canadiens'): {'wins': 17.0, 'losses': 17.0}, ('Lightning', 'Canucks'): {'wins': 7.0, 'losses': 3.0}, ('Lightning', 'Capitals'): {'wins': 9.0, 'losses': 17.0}, ('Lightning', 'Coyotes'): {'wins': 5.0, 'losses': 5.0}, ('Lightning', 'Devils'): {'wins': 13.0, 'losses': 10.0}, ('Lightning', 'Ducks'): {'wins': 7.0, 'losses': 3.0}, ('Lightning', 'Flames'): {'wins': 6.0, 'losses': 4.0}, ('Lightning', 'Flyers'): {'wins': 12.0, 'losses': 6.0}, ('Lightning', 'Golden Knights'): {'wins': 0.0, 'losses': 2.0}, ('Lightning', 'Hurricanes'): {'wins': 16.0, 'losses': 4.0}, ('Lightning', 'Islanders'): {'wins': 13.0, 'losses': 10.0}, ('Lightning', 'Jets'): {'wins': 7.0, 'losses': 7.0}, ('Lightning', 'Kings'): {'wins': 6.0, 'losses': 4.0}, ('Lightning', 'Maple Leafs'): {'wins': 15.0, 'losses': 9.0}, ('Lightning', 'Oilers'): {'wins': 6.0, 'losses': 4.0}, ('Lightning', 'Panthers'): {'wins': 16.0, 'losses': 10.0}, ('Lightning', 'Penguins'): {'wins': 9.0, 'losses': 16.0}, ('Lightning', 'Predators'): {'wins': 3.0, 'losses': 7.0}, ('Lightning', 'Rangers'): {'wins': 13.0, 'losses': 12.0}, ('Lightning', 'Red Wings'): {'wins': 26.0, 'losses': 8.0}, ('Lightning', 'Sabres'): {'wins': 17.0, 'losses': 7.0}, ('Lightning', 'Senators'): {'wins': 15.0, 'losses': 9.0}, ('Lightning', 'Sharks'): {'wins': 4.0, 'losses': 6.0}, ('Lightning', 'Stars'): {'wins': 6.0, 'losses': 4.0}, ('Lightning', 'Wild'): {'wins': 5.0, 'losses': 5.0}, ('Maple Leafs', 'Avalanche'): {'wins': 5.0, 'losses': 5.0}, ('Maple Leafs', 'Blackhawks'): {'wins': 4.0, 'losses': 6.0}, ('Maple Leafs', 'Blue Jackets'): {'wins': 5.0, 'losses': 10.0}, ('Maple Leafs', 'Blues'): {'wins': 2.0, 'losses': 8.0}, ('Maple Leafs', 'Bruins'): {'wins': 19.0, 'losses': 20.0}, ('Maple Leafs', 'Canadiens'): {'wins': 9.0, 'losses': 17.0}, ('Maple Leafs', 'Canucks'): {'wins': 6.0, 'losses': 4.0}, ('Maple Leafs', 'Capitals'): {'wins': 8.0, 'losses': 16.0}, ('Maple Leafs', 'Coyotes'): {'wins': 4.0, 'losses': 6.0}, ('Maple Leafs', 'Devils'): {'wins': 10.0, 'losses': 8.0}, ('Maple Leafs', 'Ducks'): {'wins': 7.0, 'losses': 3.0}, ('Maple Leafs', 'Flames'): {'wins': 7.0, 'losses': 3.0}, ('Maple Leafs', 'Flyers'): {'wins': 9.0, 'losses': 9.0}, ('Maple Leafs', 'Golden Knights'): {'wins': 1.0, 'losses': 1.0}, ('Maple Leafs', 'Hurricanes'): {'wins': 8.0, 'losses': 10.0}, ('Maple Leafs', 'Islanders'): {'wins': 9.0, 'losses': 9.0}, ('Maple Leafs', 'Jets'): {'wins': 4.0, 'losses': 9.0}, ('Maple Leafs', 'Kings'): {'wins': 4.0, 'losses': 6.0}, ('Maple Leafs', 'Lightning'): {'wins': 9.0, 'losses': 15.0}, ('Maple Leafs', 'Oilers'): {'wins': 8.0, 'losses': 2.0}, ('Maple Leafs', 'Panthers'): {'wins': 12.0, 'losses': 12.0}, ('Maple Leafs', 'Penguins'): {'wins': 7.0, 'losses': 11.0}, ('Maple Leafs', 'Predators'): {'wins': 6.0, 'losses': 4.0}, ('Maple Leafs', 'Rangers'): {'wins': 8.0, 'losses': 10.0}, ('Maple Leafs', 'Red Wings'): {'wins': 12.0, 'losses': 9.0}, ('Maple Leafs', 'Sabres'): {'wins': 13.0, 'losses': 13.0}, ('Maple Leafs', 'Senators'): {'wins': 13.0, 'losses': 13.0}, ('Maple Leafs', 'Sharks'): {'wins': 1.0, 'losses': 9.0}, ('Maple Leafs', 'Stars'): {'wins': 8.0, 'losses': 2.0}, ('Maple Leafs', 'Wild'): {'wins': 2.0, 'losses': 8.0}, ('Oilers', 'Avalanche'): {'wins': 12.0, 'losses': 8.0}, ('Oilers', 'Blackhawks'): {'wins': 5.0, 'losses': 13.0}, ('Oilers', 'Blue Jackets'): {'wins': 5.0, 'losses': 8.0}, ('Oilers', 'Blues'): {'wins': 6.0, 'losses': 12.0}, ('Oilers', 'Bruins'): {'wins': 6.0, 'losses': 4.0}, ('Oilers', 'Canadiens'): {'wins': 7.0, 'losses': 3.0}, ('Oilers', 'Canucks'): {'wins': 14.0, 'losses': 15.0}, ('Oilers', 'Capitals'): {'wins': 3.0, 'losses': 7.0}, ('Oilers', 'Coyotes'): {'wins': 10.0, 'losses': 17.0}, ('Oilers', 'Devils'): {'wins': 7.0, 'losses': 3.0}, ('Oilers', 'Ducks'): {'wins': 11.0, 'losses': 22.0}, ('Oilers', 'Flames'): {'wins': 13.0, 'losses': 15.0}, ('Oilers', 'Flyers'): {'wins': 4.0, 'losses': 6.0}, ('Oilers', 'Golden Knights'): {'wins': 3.0, 'losses': 1.0}, ('Oilers', 'Hurricanes'): {'wins': 6.0, 'losses': 4.0}, ('Oilers', 'Islanders'): {'wins': 6.0, 'losses': 4.0}, ('Oilers', 'Jets'): {'wins': 6.0, 'losses': 9.0}, ('Oilers', 'Kings'): {'wins': 8.0, 'losses': 18.0}, ('Oilers', 'Lightning'): {'wins': 4.0, 'losses': 6.0}, ('Oilers', 'Maple Leafs'): {'wins': 2.0, 'losses': 8.0}, ('Oilers', 'Panthers'): {'wins': 7.0, 'losses': 3.0}, ('Oilers', 'Penguins'): {'wins': 2.0, 'losses': 8.0}, ('Oilers', 'Predators'): {'wins': 4.0, 'losses': 14.0}, ('Oilers', 'Rangers'): {'wins': 3.0, 'losses': 7.0}, ('Oilers', 'Red Wings'): {'wins': 4.0, 'losses': 9.0}, ('Oilers', 'Sabres'): {'wins': 5.0, 'losses': 5.0}, ('Oilers', 'Senators'): {'wins': 4.0, 'losses': 6.0}, ('Oilers', 'Sharks'): {'wins': 13.0, 'losses': 19.0}, ('Oilers', 'Stars'): {'wins': 7.0, 'losses': 11.0}, ('Oilers', 'Wild'): {'wins': 6.0, 'losses': 13.0}, ('Panthers', 'Avalanche'): {'wins': 5.0, 'losses': 5.0}, ('Panthers', 'Blackhawks'): {'wins': 2.0, 'losses': 8.0}, ('Panthers', 'Blue Jackets'): {'wins': 5.0, 'losses': 10.0}, ('Panthers', 'Blues'): {'wins': 4.0, 'losses': 6.0}, ('Panthers', 'Bruins'): {'wins': 6.0, 'losses': 19.0}, ('Panthers', 'Canadiens'): {'wins': 11.0, 'losses': 13.0}, ('Panthers', 'Canucks'): {'wins': 6.0, 'losses': 4.0}, ('Panthers', 'Capitals'): {'wins': 7.0, 'losses': 12.0}, ('Panthers', 'Coyotes'): {'wins': 5.0, 'losses': 5.0}, ('Panthers', 'Devils'): {'wins': 10.0, 'losses': 8.0}, ('Panthers', 'Ducks'): {'wins': 6.0, 'losses': 4.0}, ('Panthers', 'Flames'): {'wins': 3.0, 'losses': 7.0}, ('Panthers', 'Flyers'): {'wins': 9.0, 'losses': 9.0}, ('Panthers', 'Golden Knights'): {'wins': 1.0, 'losses': 1.0}, ('Panthers', 'Hurricanes'): {'wins': 10.0, 'losses': 9.0}, ('Panthers', 'Islanders'): {'wins': 12.0, 'losses': 12.0}, ('Panthers', 'Jets'): {'wins': 7.0, 'losses': 8.0}, ('Panthers', 'Kings'): {'wins': 2.0, 'losses': 8.0}, ('Panthers', 'Lightning'): {'wins': 10.0, 'losses': 16.0}, ('Panthers', 'Maple Leafs'): {'wins': 12.0, 'losses': 12.0}, ('Panthers', 'Oilers'): {'wins': 3.0, 'losses': 7.0}, ('Panthers', 'Penguins'): {'wins': 6.0, 'losses': 12.0}, ('Panthers', 'Predators'): {'wins': 5.0, 'losses': 5.0}, ('Panthers', 'Rangers'): {'wins': 7.0, 'losses': 11.0}, ('Panthers', 'Red Wings'): {'wins': 13.0, 'losses': 8.0}, ('Panthers', 'Sabres'): {'wins': 18.0, 'losses': 6.0}, ('Panthers', 'Senators'): {'wins': 12.0, 'losses': 12.0}, ('Panthers', 'Sharks'): {'wins': 5.0, 'losses': 5.0}, ('Panthers', 'Stars'): {'wins': 5.0, 'losses': 5.0}, ('Panthers', 'Wild'): {'wins': 3.0, 'losses': 7.0}, ('Penguins', 'Avalanche'): {'wins': 5.0, 'losses': 5.0}, ('Penguins', 'Blackhawks'): {'wins': 1.0, 'losses': 9.0}, ('Penguins', 'Blue Jackets'): {'wins': 22.0, 'losses': 10.0}, ('Penguins', 'Blues'): {'wins': 4.0, 'losses': 6.0}, ('Penguins', 'Bruins'): {'wins': 8.0, 'losses': 14.0}, ('Penguins', 'Canadiens'): {'wins': 13.0, 'losses': 5.0}, ('Penguins', 'Canucks'): {'wins': 6.0, 'losses': 4.0}, ('Penguins', 'Capitals'): {'wins': 25.0, 'losses': 18.0}, ('Penguins', 'Coyotes'): {'wins': 6.0, 'losses': 4.0}, ('Penguins', 'Devils'): {'wins': 14.0, 'losses': 12.0}, ('Penguins', 'Ducks'): {'wins': 7.0, 'losses': 3.0}, ('Penguins', 'Flames'): {'wins': 5.0, 'losses': 5.0}, ('Penguins', 'Flyers'): {'wins': 17.0, 'losses': 14.0}, ('Penguins', 'Golden Knights'): {'wins': 1.0, 'losses': 1.0}, ('Penguins', 'Hurricanes'): {'wins': 16.0, 'losses': 8.0}, ('Penguins', 'Islanders'): {'wins': 20.0, 'losses': 12.0}, ('Penguins', 'Jets'): {'wins': 10.0, 'losses': 3.0}, ('Penguins', 'Kings'): {'wins': 5.0, 'losses': 5.0}, ('Penguins', 'Lightning'): {'wins': 16.0, 'losses': 9.0}, ('Penguins', 'Maple Leafs'): {'wins': 11.0, 'losses': 7.0}, ('Penguins', 'Oilers'): {'wins': 8.0, 'losses': 2.0}, ('Penguins', 'Panthers'): {'wins': 12.0, 'losses': 6.0}, ('Penguins', 'Predators'): {'wins': 11.0, 'losses': 5.0}, ('Penguins', 'Rangers'): {'wins': 23.0, 'losses': 20.0}, ('Penguins', 'Red Wings'): {'wins': 8.0, 'losses': 7.0}, ('Penguins', 'Sabres'): {'wins': 15.0, 'losses': 3.0}, ('Penguins', 'Senators'): {'wins': 21.0, 'losses': 9.0}, ('Penguins', 'Sharks'): {'wins': 10.0, 'losses': 6.0}, ('Penguins', 'Stars'): {'wins': 3.0, 'losses': 7.0}, ('Penguins', 'Wild'): {'wins': 6.0, 'losses': 4.0}, ('Predators', 'Avalanche'): {'wins': 20.0, 'losses': 12.0}, ('Predators', 'Blackhawks'): {'wins': 16.0, 'losses': 22.0}, ('Predators', 'Blue Jackets'): {'wins': 9.0, 'losses': 6.0}, ('Predators', 'Blues'): {'wins': 16.0, 'losses': 18.0}, ('Predators', 'Bruins'): {'wins': 5.0, 'losses': 5.0}, ('Predators', 'Canadiens'): {'wins': 6.0, 'losses': 4.0}, ('Predators', 'Canucks'): {'wins': 9.0, 'losses': 9.0}, ('Predators', 'Capitals'): {'wins': 7.0, 'losses': 3.0}, ('Predators', 'Coyotes'): {'wins': 11.0, 'losses': 7.0}, ('Predators', 'Devils'): {'wins': 5.0, 'losses': 5.0}, ('Predators', 'Ducks'): {'wins': 15.0, 'losses': 16.0}, ('Predators', 'Flames'): {'wins': 8.0, 'losses': 10.0}, ('Predators', 'Flyers'): {'wins': 5.0, 'losses': 5.0}, ('Predators', 'Golden Knights'): {'wins': 1.0, 'losses': 2.0}, ('Predators', 'Hurricanes'): {'wins': 3.0, 'losses': 7.0}, ('Predators', 'Islanders'): {'wins': 4.0, 'losses': 6.0}, ('Predators', 'Jets'): {'wins': 17.0, 'losses': 14.0}, ('Predators', 'Kings'): {'wins': 11.0, 'losses': 7.0}, ('Predators', 'Lightning'): {'wins': 7.0, 'losses': 3.0}, ('Predators', 'Maple Leafs'): {'wins': 4.0, 'losses': 6.0}, ('Predators', 'Oilers'): {'wins': 14.0, 'losses': 4.0}, ('Predators', 'Panthers'): {'wins': 5.0, 'losses': 5.0}, ('Predators', 'Penguins'): {'wins': 5.0, 'losses': 11.0}, ('Predators', 'Rangers'): {'wins': 4.0, 'losses': 6.0}, ('Predators', 'Red Wings'): {'wins': 4.0, 'losses': 10.0}, ('Predators', 'Sabres'): {'wins': 7.0, 'losses': 3.0}, ('Predators', 'Senators'): {'wins': 7.0, 'losses': 3.0}, ('Predators', 'Sharks'): {'wins': 15.0, 'losses': 10.0}, ('Predators', 'Stars'): {'wins': 14.0, 'losses': 13.0}, ('Predators', 'Wild'): {'wins': 12.0, 'losses': 15.0}, ('Rangers', 'Avalanche'): {'wins': 5.0, 'losses': 5.0}, ('Rangers', 'Blackhawks'): {'wins': 5.0, 'losses': 5.0}, ('Rangers', 'Blue Jackets'): {'wins': 12.0, 'losses': 9.0}, ('Rangers', 'Blues'): {'wins': 4.0, 'losses': 6.0}, ('Rangers', 'Bruins'): {'wins': 11.0, 'losses': 12.0}, ('Rangers', 'Canadiens'): {'wins': 12.0, 'losses': 18.0}, ('Rangers', 'Canucks'): {'wins': 7.0, 'losses': 3.0}, ('Rangers', 'Capitals'): {'wins': 20.0, 'losses': 18.0}, ('Rangers', 'Coyotes'): {'wins': 9.0, 'losses': 1.0}, ('Rangers', 'Devils'): {'wins': 14.0, 'losses': 11.0}, ('Rangers', 'Ducks'): {'wins': 6.0, 'losses': 4.0}, ('Rangers', 'Flames'): {'wins': 8.0, 'losses': 2.0}, ('Rangers', 'Flyers'): {'wins': 19.0, 'losses': 14.0}, ('Rangers', 'Golden Knights'): {'wins': 1.0, 'losses': 1.0}, ('Rangers', 'Hurricanes'): {'wins': 20.0, 'losses': 4.0}, ('Rangers', 'Islanders'): {'wins': 9.0, 'losses': 17.0}, ('Rangers', 'Jets'): {'wins': 6.0, 'losses': 7.0}, ('Rangers', 'Kings'): {'wins': 6.0, 'losses': 9.0}, ('Rangers', 'Lightning'): {'wins': 12.0, 'losses': 13.0}, ('Rangers', 'Maple Leafs'): {'wins': 10.0, 'losses': 8.0}, ('Rangers', 'Oilers'): {'wins': 7.0, 'losses': 3.0}, ('Rangers', 'Panthers'): {'wins': 11.0, 'losses': 7.0}, ('Rangers', 'Penguins'): {'wins': 20.0, 'losses': 23.0}, ('Rangers', 'Predators'): {'wins': 6.0, 'losses': 4.0}, ('Rangers', 'Red Wings'): {'wins': 9.0, 'losses': 6.0}, ('Rangers', 'Sabres'): {'wins': 14.0, 'losses': 4.0}, ('Rangers', 'Senators'): {'wins': 10.0, 'losses': 14.0}, ('Rangers', 'Sharks'): {'wins': 5.0, 'losses': 5.0}, ('Rangers', 'Stars'): {'wins': 5.0, 'losses': 5.0}, ('Rangers', 'Wild'): {'wins': 5.0, 'losses': 5.0}, ('Red Wings', 'Avalanche'): {'wins': 7.0, 'losses': 6.0}, ('Red Wings', 'Blackhawks'): {'wins': 8.0, 'losses': 13.0}, ('Red Wings', 'Blue Jackets'): {'wins': 5.0, 'losses': 15.0}, ('Red Wings', 'Blues'): {'wins': 7.0, 'losses': 8.0}, ('Red Wings', 'Bruins'): {'wins': 7.0, 'losses': 19.0}, ('Red Wings', 'Canadiens'): {'wins': 6.0, 'losses': 15.0}, ('Red Wings', 'Canucks'): {'wins': 9.0, 'losses': 4.0}, ('Red Wings', 'Capitals'): {'wins': 5.0, 'losses': 10.0}, ('Red Wings', 'Coyotes'): {'wins': 8.0, 'losses': 5.0}, ('Red Wings', 'Devils'): {'wins': 9.0, 'losses': 6.0}, ('Red Wings', 'Ducks'): {'wins': 9.0, 'losses': 11.0}, ('Red Wings', 'Flames'): {'wins': 5.0, 'losses': 8.0}, ('Red Wings', 'Flyers'): {'wins': 5.0, 'losses': 10.0}, ('Red Wings', 'Golden Knights'): {'wins': 1.0, 'losses': 1.0}, ('Red Wings', 'Hurricanes'): {'wins': 10.0, 'losses': 5.0}, ('Red Wings', 'Islanders'): {'wins': 7.0, 'losses': 8.0}, ('Red Wings', 'Jets'): {'wins': 4.0, 'losses': 6.0}, ('Red Wings', 'Kings'): {'wins': 7.0, 'losses': 6.0}, ('Red Wings', 'Lightning'): {'wins': 8.0, 'losses': 26.0}, ('Red Wings', 'Maple Leafs'): {'wins': 9.0, 'losses': 12.0}, ('Red Wings', 'Oilers'): {'wins': 9.0, 'losses': 4.0}, ('Red Wings', 'Panthers'): {'wins': 8.0, 'losses': 13.0}, ('Red Wings', 'Penguins'): {'wins': 7.0, 'losses': 8.0}, ('Red Wings', 'Predators'): {'wins': 10.0, 'losses': 4.0}, ('Red Wings', 'Rangers'): {'wins': 6.0, 'losses': 9.0}, ('Red Wings', 'Sabres'): {'wins': 14.0, 'losses': 7.0}, ('Red Wings', 'Senators'): {'wins': 13.0, 'losses': 8.0}, ('Red Wings', 'Sharks'): {'wins': 5.0, 'losses': 8.0}, ('Red Wings', 'Stars'): {'wins': 7.0, 'losses': 6.0}, ('Red Wings', 'Wild'): {'wins': 7.0, 'losses': 6.0}, ('Sabres', 'Avalanche'): {'wins': 3.0, 'losses': 7.0}, ('Sabres', 'Blackhawks'): {'wins': 1.0, 'losses': 9.0}, ('Sabres', 'Blue Jackets'): {'wins': 6.0, 'losses': 9.0}, ('Sabres', 'Blues'): {'wins': 1.0, 'losses': 9.0}, ('Sabres', 'Bruins'): {'wins': 10.0, 'losses': 16.0}, ('Sabres', 'Canadiens'): {'wins': 10.0, 'losses': 16.0}, ('Sabres', 'Canucks'): {'wins': 3.0, 'losses': 7.0}, ('Sabres', 'Capitals'): {'wins': 5.0, 'losses': 13.0}, ('Sabres', 'Coyotes'): {'wins': 7.0, 'losses': 3.0}, ('Sabres', 'Devils'): {'wins': 6.0, 'losses': 12.0}, ('Sabres', 'Ducks'): {'wins': 3.0, 'losses': 7.0}, ('Sabres', 'Flames'): {'wins': 4.0, 'losses': 6.0}, ('Sabres', 'Flyers'): {'wins': 7.0, 'losses': 11.0}, ('Sabres', 'Golden Knights'): {'wins': 0.0, 'losses': 2.0}, ('Sabres', 'Hurricanes'): {'wins': 6.0, 'losses': 12.0}, ('Sabres', 'Islanders'): {'wins': 8.0, 'losses': 10.0}, ('Sabres', 'Jets'): {'wins': 5.0, 'losses': 8.0}, ('Sabres', 'Kings'): {'wins': 4.0, 'losses': 6.0}, ('Sabres', 'Lightning'): {'wins': 7.0, 'losses': 17.0}, ('Sabres', 'Maple Leafs'): {'wins': 13.0, 'losses': 13.0}, ('Sabres', 'Oilers'): {'wins': 5.0, 'losses': 5.0}, ('Sabres', 'Panthers'): {'wins': 6.0, 'losses': 18.0}, ('Sabres', 'Penguins'): {'wins': 3.0, 'losses': 15.0}, ('Sabres', 'Predators'): {'wins': 3.0, 'losses': 7.0}, ('Sabres', 'Rangers'): {'wins': 4.0, 'losses': 14.0}, ('Sabres', 'Red Wings'): {'wins': 7.0, 'losses': 14.0}, ('Sabres', 'Senators'): {'wins': 11.0, 'losses': 14.0}, ('Sabres', 'Sharks'): {'wins': 6.0, 'losses': 4.0}, ('Sabres', 'Stars'): {'wins': 2.0, 'losses': 8.0}, ('Sabres', 'Wild'): {'wins': 2.0, 'losses': 8.0}, ('Senators', 'Avalanche'): {'wins': 6.0, 'losses': 4.0}, ('Senators', 'Blackhawks'): {'wins': 3.0, 'losses': 7.0}, ('Senators', 'Blue Jackets'): {'wins': 9.0, 'losses': 6.0}, ('Senators', 'Blues'): {'wins': 5.0, 'losses': 5.0}, ('Senators', 'Bruins'): {'wins': 17.0, 'losses': 15.0}, ('Senators', 'Canadiens'): {'wins': 18.0, 'losses': 19.0}, ('Senators', 'Canucks'): {'wins': 6.0, 'losses': 4.0}, ('Senators', 'Capitals'): {'wins': 8.0, 'losses': 10.0}, ('Senators', 'Coyotes'): {'wins': 5.0, 'losses': 5.0}, ('Senators', 'Devils'): {'wins': 10.0, 'losses': 8.0}, ('Senators', 'Ducks'): {'wins': 4.0, 'losses': 6.0}, ('Senators', 'Flames'): {'wins': 5.0, 'losses': 5.0}, ('Senators', 'Flyers'): {'wins': 8.0, 'losses': 10.0}, ('Senators', 'Golden Knights'): {'wins': 1.0, 'losses': 1.0}, ('Senators', 'Hurricanes'): {'wins': 6.0, 'losses': 12.0}, ('Senators', 'Islanders'): {'wins': 8.0, 'losses': 10.0}, ('Senators', 'Jets'): {'wins': 7.0, 'losses': 6.0}, ('Senators', 'Kings'): {'wins': 4.0, 'losses': 6.0}, ('Senators', 'Lightning'): {'wins': 9.0, 'losses': 15.0}, ('Senators', 'Maple Leafs'): {'wins': 13.0, 'losses': 13.0}, ('Senators', 'Oilers'): {'wins': 6.0, 'losses': 4.0}, ('Senators', 'Panthers'): {'wins': 12.0, 'losses': 12.0}, ('Senators', 'Penguins'): {'wins': 9.0, 'losses': 21.0}, ('Senators', 'Predators'): {'wins': 3.0, 'losses': 7.0}, ('Senators', 'Rangers'): {'wins': 14.0, 'losses': 10.0}, ('Senators', 'Red Wings'): {'wins': 8.0, 'losses': 13.0}, ('Senators', 'Sabres'): {'wins': 14.0, 'losses': 11.0}, ('Senators', 'Sharks'): {'wins': 6.0, 'losses': 4.0}, ('Senators', 'Stars'): {'wins': 5.0, 'losses': 5.0}, ('Senators', 'Wild'): {'wins': 4.0, 'losses': 6.0}, ('Sharks', 'Avalanche'): {'wins': 11.0, 'losses': 7.0}, ('Sharks', 'Blackhawks'): {'wins': 8.0, 'losses': 10.0}, ('Sharks', 'Blue Jackets'): {'wins': 6.0, 'losses': 7.0}, ('Sharks', 'Blues'): {'wins': 13.0, 'losses': 11.0}, ('Sharks', 'Bruins'): {'wins': 3.0, 'losses': 7.0}, ('Sharks', 'Canadiens'): {'wins': 9.0, 'losses': 1.0}, ('Sharks', 'Canucks'): {'wins': 24.0, 'losses': 7.0}, ('Sharks', 'Capitals'): {'wins': 6.0, 'losses': 4.0}, ('Sharks', 'Coyotes'): {'wins': 18.0, 'losses': 10.0}, ('Sharks', 'Devils'): {'wins': 8.0, 'losses': 2.0}, ('Sharks', 'Ducks'): {'wins': 20.0, 'losses': 12.0}, ('Sharks', 'Flames'): {'wins': 15.0, 'losses': 12.0}, ('Sharks', 'Flyers'): {'wins': 7.0, 'losses': 3.0}, ('Sharks', 'Golden Knights'): {'wins': 3.0, 'losses': 7.0}, ('Sharks', 'Hurricanes'): {'wins': 5.0, 'losses': 5.0}, ('Sharks', 'Islanders'): {'wins': 4.0, 'losses': 6.0}, ('Sharks', 'Jets'): {'wins': 8.0, 'losses': 7.0}, ('Sharks', 'Kings'): {'wins': 25.0, 'losses': 22.0}, ('Sharks', 'Lightning'): {'wins': 6.0, 'losses': 4.0}, ('Sharks', 'Maple Leafs'): {'wins': 9.0, 'losses': 1.0}, ('Sharks', 'Oilers'): {'wins': 19.0, 'losses': 13.0}, ('Sharks', 'Panthers'): {'wins': 5.0, 'losses': 5.0}, ('Sharks', 'Penguins'): {'wins': 6.0, 'losses': 10.0}, ('Sharks', 'Predators'): {'wins': 10.0, 'losses': 15.0}, ('Sharks', 'Rangers'): {'wins': 5.0, 'losses': 5.0}, ('Sharks', 'Red Wings'): {'wins': 8.0, 'losses': 5.0}, ('Sharks', 'Sabres'): {'wins': 4.0, 'losses': 6.0}, ('Sharks', 'Senators'): {'wins': 4.0, 'losses': 6.0}, ('Sharks', 'Stars'): {'wins': 8.0, 'losses': 11.0}, ('Sharks', 'Wild'): {'wins': 8.0, 'losses': 10.0}, ('Stars', 'Avalanche'): {'wins': 11.0, 'losses': 16.0}, ('Stars', 'Blackhawks'): {'wins': 11.0, 'losses': 16.0}, ('Stars', 'Blue Jackets'): {'wins': 3.0, 'losses': 10.0}, ('Stars', 'Blues'): {'wins': 14.0, 'losses': 20.0}, ('Stars', 'Bruins'): {'wins': 4.0, 'losses': 6.0}, ('Stars', 'Canadiens'): {'wins': 3.0, 'losses': 7.0}, ('Stars', 'Canucks'): {'wins': 14.0, 'losses': 4.0}, ('Stars', 'Capitals'): {'wins': 7.0, 'losses': 3.0}, ('Stars', 'Coyotes'): {'wins': 14.0, 'losses': 5.0}, ('Stars', 'Devils'): {'wins': 5.0, 'losses': 5.0}, ('Stars', 'Ducks'): {'wins': 11.0, 'losses': 15.0}, ('Stars', 'Flames'): {'wins': 10.0, 'losses': 8.0}, ('Stars', 'Flyers'): {'wins': 6.0, 'losses': 4.0}, ('Stars', 'Golden Knights'): {'wins': 1.0, 'losses': 2.0}, ('Stars', 'Hurricanes'): {'wins': 7.0, 'losses': 3.0}, ('Stars', 'Islanders'): {'wins': 4.0, 'losses': 6.0}, ('Stars', 'Jets'): {'wins': 9.0, 'losses': 14.0}, ('Stars', 'Kings'): {'wins': 12.0, 'losses': 8.0}, ('Stars', 'Lightning'): {'wins': 4.0, 'losses': 6.0}, ('Stars', 'Maple Leafs'): {'wins': 2.0, 'losses': 8.0}, ('Stars', 'Oilers'): {'wins': 11.0, 'losses': 7.0}, ('Stars', 'Panthers'): {'wins': 5.0, 'losses': 5.0}, ('Stars', 'Penguins'): {'wins': 7.0, 'losses': 3.0}, ('Stars', 'Predators'): {'wins': 13.0, 'losses': 14.0}, ('Stars', 'Rangers'): {'wins': 5.0, 'losses': 5.0}, ('Stars', 'Red Wings'): {'wins': 6.0, 'losses': 7.0}, ('Stars', 'Sabres'): {'wins': 8.0, 'losses': 2.0}, ('Stars', 'Senators'): {'wins': 5.0, 'losses': 5.0}, ('Stars', 'Sharks'): {'wins': 11.0, 'losses': 8.0}, ('Stars', 'Wild'): {'wins': 15.0, 'losses': 17.0}, ('Wild', 'Avalanche'): {'wins': 21.0, 'losses': 15.0}, ('Wild', 'Blackhawks'): {'wins': 18.0, 'losses': 24.0}, ('Wild', 'Blue Jackets'): {'wins': 5.0, 'losses': 8.0}, ('Wild', 'Blues'): {'wins': 15.0, 'losses': 22.0}, ('Wild', 'Bruins'): {'wins': 4.0, 'losses': 6.0}, ('Wild', 'Canadiens'): {'wins': 8.0, 'losses': 2.0}, ('Wild', 'Canucks'): {'wins': 10.0, 'losses': 9.0}, ('Wild', 'Capitals'): {'wins': 2.0, 'losses': 8.0}, ('Wild', 'Coyotes'): {'wins': 12.0, 'losses': 6.0}, ('Wild', 'Devils'): {'wins': 3.0, 'losses': 7.0}, ('Wild', 'Ducks'): {'wins': 5.0, 'losses': 13.0}, ('Wild', 'Flames'): {'wins': 12.0, 'losses': 8.0}, ('Wild', 'Flyers'): {'wins': 4.0, 'losses': 6.0}, ('Wild', 'Golden Knights'): {'wins': 3.0, 'losses': 0.0}, ('Wild', 'Hurricanes'): {'wins': 8.0, 'losses': 2.0}, ('Wild', 'Islanders'): {'wins': 6.0, 'losses': 4.0}, ('Wild', 'Jets'): {'wins': 13.0, 'losses': 16.0}, ('Wild', 'Kings'): {'wins': 9.0, 'losses': 9.0}, ('Wild', 'Lightning'): {'wins': 5.0, 'losses': 5.0}, ('Wild', 'Maple Leafs'): {'wins': 8.0, 'losses': 2.0}, ('Wild', 'Oilers'): {'wins': 13.0, 'losses': 6.0}, ('Wild', 'Panthers'): {'wins': 7.0, 'losses': 3.0}, ('Wild', 'Penguins'): {'wins': 4.0, 'losses': 6.0}, ('Wild', 'Predators'): {'wins': 15.0, 'losses': 12.0}, ('Wild', 'Rangers'): {'wins': 5.0, 'losses': 5.0}, ('Wild', 'Red Wings'): {'wins': 6.0, 'losses': 7.0}, ('Wild', 'Sabres'): {'wins': 8.0, 'losses': 2.0}, ('Wild', 'Senators'): {'wins': 6.0, 'losses': 4.0}, ('Wild', 'Sharks'): {'wins': 10.0, 'losses': 8.0}, ('Wild', 'Stars'): {'wins': 17.0, 'losses': 15.0}}\n",
      "\n",
      "\n",
      "\n",
      "small\n",
      "{('Blackhawks', 'Red Wings'): {'wins': 4.0, 'losses': 3.0}, ('Bruins', 'Penguins'): {'wins': 4.0, 'losses': 0.0}, ('Bruins', 'Rangers'): {'wins': 4.0, 'losses': 1.0}, ('Canadiens', 'Senators'): {'wins': 1.0, 'losses': 3.0}, ('Penguins', 'Bruins'): {'wins': 0.0, 'losses': 4.0}, ('Rangers', 'Bruins'): {'wins': 1.0, 'losses': 4.0}, ('Red Wings', 'Blackhawks'): {'wins': 3.0, 'losses': 4.0}, ('Senators', 'Canadiens'): {'wins': 3.0, 'losses': 1.0}}\n",
      "\n",
      "\n",
      "\n",
      "vs\n",
      "{('Bruins', 'Rangers'): {'wins': 2.0, 'losses': 0.0}, ('Rangers', 'Bruins'): {'wins': 0.0, 'losses': 2.0}}\n",
      "\n",
      "\n",
      "\n"
     ]
    }
   ],
   "source": [
    "for df,name in zip(dfs,df_names):\n",
    "    print(name)\n",
    "    \n",
    "    data = df.groupby(['teamName','opp_team'])['won'].agg([len,sum])\n",
    "    data['wins'] = data['sum']\n",
    "    data['losses'] = data['len'] - data['sum']\n",
    "\n",
    "    print(data[['wins','losses']].T.to_dict())\n",
    "    \n",
    "    print(\"\\n\\n\")"
   ]
  },
  {
   "cell_type": "markdown",
   "metadata": {},
   "source": [
    "### seasonal_summary\n",
    "\n",
    "for each season that team has played, has hash with two keys \"preseason\" and \"postseason\" pointing to hash with win_percentage, total_goals_scored, total_goals_against, average_goals_scored, averate_goals_against"
   ]
  },
  {
   "cell_type": "code",
   "execution_count": 12,
   "metadata": {
    "scrolled": false
   },
   "outputs": [
    {
     "name": "stdout",
     "output_type": "stream",
     "text": [
      "full\n",
      "                             win_pct  tot_goals  avg_goals  tot_ga       gaa\n",
      "teamName     season   type                                                  \n",
      "Avalanche    20122013 R     0.333333        114   2.375000     152  3.166667\n",
      "             20132014 P     0.428571         20   2.857143      22  3.142857\n",
      "                      R     0.634146        245   2.987805     220  2.682927\n",
      "             20142015 R     0.475610        209   2.548780     227  2.768293\n",
      "             20152016 R     0.475610        212   2.585366     240  2.926829\n",
      "             20162017 R     0.268293        165   2.012195     278  3.390244\n",
      "             20172018 P     0.333333         15   2.500000      22  3.666667\n",
      "                      R     0.524390        255   3.109756     237  2.890244\n",
      "Blackhawks   20122013 P     0.695652         64   2.782609      48  2.086957\n",
      "                      R     0.750000        149   3.104167     102  2.125000\n",
      "             20132014 P     0.578947         58   3.052632      55  2.894737\n",
      "                      R     0.560976        261   3.182927     220  2.682927\n",
      "             20142015 P     0.695652         69   3.000000      60  2.608696\n",
      "                      R     0.585366        220   2.682927     189  2.304878\n",
      "             20152016 P     0.428571         20   2.857143      19  2.714286\n",
      "                      R     0.573171        234   2.853659     209  2.548780\n",
      "             20162017 P     0.000000          3   0.750000      13  3.250000\n",
      "                      R     0.609756        240   2.926829     213  2.597561\n",
      "             20172018 R     0.402439        228   2.780488     256  3.121951\n",
      "Blue Jackets 20122013 R     0.500000        115   2.395833     119  2.479167\n",
      "             20132014 P     0.333333         18   3.000000      21  3.500000\n",
      "                      R     0.524390        226   2.756098     216  2.634146\n",
      "             20142015 R     0.512195        227   2.768293     250  3.048780\n",
      "             20152016 R     0.414634        213   2.597561     252  3.073171\n",
      "             20162017 P     0.200000         13   2.600000      21  4.200000\n",
      "                      R     0.609756        247   3.012195     195  2.378049\n",
      "             20172018 P     0.333333         18   3.000000      24  4.000000\n",
      "                      R     0.548780        236   2.878049     230  2.804878\n",
      "Blues        20122013 P     0.333333         10   1.666667      12  2.000000\n",
      "                      R     0.604167        124   2.583333     115  2.395833\n",
      "...                              ...        ...        ...     ...       ...\n",
      "Sharks       20122013 R     0.520833        116   2.416667     116  2.416667\n",
      "             20132014 P     0.428571         22   3.142857      26  3.714286\n",
      "                      R     0.621951        239   2.914634     200  2.439024\n",
      "             20142015 R     0.487805        224   2.731707     232  2.829268\n",
      "             20152016 P     0.583333         75   3.125000      56  2.333333\n",
      "                      R     0.560976        237   2.890244     210  2.560976\n",
      "             20162017 P     0.333333         14   2.333333      12  2.000000\n",
      "                      R     0.560976        219   2.670732     201  2.451220\n",
      "             20172018 P     0.600000         30   3.000000      26  2.600000\n",
      "                      R     0.548780        247   3.012195     229  2.792683\n",
      "Stars        20122013 R     0.458333        128   2.666667     142  2.958333\n",
      "             20132014 P     0.333333         18   3.000000      20  3.333333\n",
      "                      R     0.487805        231   2.817073     228  2.780488\n",
      "             20142015 R     0.500000        257   3.134146     260  3.170732\n",
      "             20152016 P     0.538462         35   2.692308      42  3.230769\n",
      "                      R     0.609756        265   3.231707     230  2.804878\n",
      "             20162017 R     0.414634        222   2.707317     262  3.195122\n",
      "             20172018 R     0.512195        231   2.817073     225  2.743902\n",
      "Wild         20122013 P     0.200000          7   1.400000      17  3.400000\n",
      "                      R     0.541667        118   2.458333     127  2.645833\n",
      "             20132014 P     0.461538         35   2.692308      35  2.692308\n",
      "                      R     0.524390        199   2.426829     206  2.512195\n",
      "             20142015 P     0.400000         24   2.400000      27  2.700000\n",
      "                      R     0.560976        227   2.768293     201  2.451220\n",
      "             20152016 P     0.333333         17   2.833333      21  3.500000\n",
      "                      R     0.463415        213   2.597561     206  2.512195\n",
      "             20162017 P     0.200000          8   1.600000      11  2.200000\n",
      "                      R     0.597561        263   3.207317     208  2.536585\n",
      "             20172018 P     0.200000          9   1.800000      16  3.200000\n",
      "                      R     0.548780        250   3.048780     232  2.829268\n",
      "\n",
      "[277 rows x 5 columns]\n",
      "\n",
      "\n",
      "\n",
      "small\n",
      "                           win_pct  tot_goals  avg_goals  tot_ga       gaa\n",
      "teamName   season   type                                                  \n",
      "Blackhawks 20122013 P     0.571429         16   2.285714      15  2.142857\n",
      "Bruins     20122013 P     0.888889         28   3.111111      12  1.333333\n",
      "Canadiens  20122013 P     0.250000          8   2.000000      14  3.500000\n",
      "Penguins   20122013 P     0.000000          2   0.500000      12  3.000000\n",
      "Rangers    20122013 P     0.200000         10   2.000000      16  3.200000\n",
      "Red Wings  20122013 P     0.428571         15   2.142857      16  2.285714\n",
      "Senators   20122013 P     0.750000         14   3.500000       8  2.000000\n",
      "\n",
      "\n",
      "\n",
      "vs\n",
      "                        win_pct  tot_goals  avg_goals  tot_ga  gaa\n",
      "teamName season   type                                            \n",
      "Bruins   20122013 P        True          8          4       4    2\n",
      "Rangers  20122013 P       False          4          2       8    4\n",
      "\n",
      "\n",
      "\n"
     ]
    }
   ],
   "source": [
    "for df,name in zip(dfs,df_names):\n",
    "    print(name)\n",
    "    gb = df.groupby(['teamName','season',\"type\"])\n",
    "    wp = pd.DataFrame(gb['won'].mean())\n",
    "    wp.columns = ['win_pct']\n",
    "\n",
    "    gol = gb['goals'].agg([sum,np.mean])\n",
    "    gol.columns = [\"tot_goals\",\"avg_goals\"]\n",
    "\n",
    "    ga = gb['opp_goal'].agg([sum,np.mean])\n",
    "    ga.columns = [\"tot_ga\",\"gaa\"]\n",
    "    ga\n",
    "\n",
    "    print(pd.concat([wp,gol,ga], axis = 1))\n",
    "    print(\"\\n\\n\")"
   ]
  },
  {
   "cell_type": "markdown",
   "metadata": {},
   "source": [
    "# Season Statistics\n",
    "### biggest_bust\n",
    "\n",
    "biggest decrease between pre-season and regular season win pct  \n",
    "\n",
    "ONly possible on full data -- no regular season data in small and very_small data"
   ]
  },
  {
   "cell_type": "code",
   "execution_count": 35,
   "metadata": {
    "scrolled": false
   },
   "outputs": [
    {
     "name": "stdout",
     "output_type": "stream",
     "text": [
      "full\n",
      "Season: 20122013 Biggest bust team Canucks\n",
      "Season: 20132014 Biggest bust team Lightning\n",
      "Season: 20142015 Biggest bust team Jets\n",
      "Season: 20152016 Biggest bust team Kings\n",
      "Season: 20162017 Biggest bust team Blackhawks\n",
      "Season: 20172018 Biggest bust team Kings\n",
      "\n",
      "\n",
      "\n"
     ]
    }
   ],
   "source": [
    "\n",
    "print(\"full\")\n",
    "data = full_df.groupby(['teamName','season','type'])['won'].mean()\n",
    "to_df = []\n",
    "for idx in data.index:\n",
    "    to_df.append([*idx, data[idx]])\n",
    "data = pd.DataFrame(to_df, columns = [\"teamName\",\"season\",\"type\",\"wp\"])\n",
    "p_team= p_season= p_gtype= p_wp = 0\n",
    "diffs = []\n",
    "for idx in data.index:\n",
    "\n",
    "    team, season, g_type, wp = data.loc[idx,:]\n",
    "    if team == p_team:\n",
    "        if season == p_season:\n",
    "            if g_type == \"P\":\n",
    "                post_wp = wp\n",
    "                reg_wp = p_wp\n",
    "            else:\n",
    "                post_wp = p_wp\n",
    "                reg_wp = wp\n",
    "\n",
    "            diffs.append([team, season, post_wp-reg_wp])\n",
    "    p_team = team; p_season = season; p_gtype = g_type; p_wp = wp\n",
    "\n",
    "aggd = pd.DataFrame(diffs, columns = ['team','season', 'post_minus_reg_win_pct'])\n",
    "gb = aggd.groupby(['season', 'team'])['post_minus_reg_win_pct'].max().unstack().T\n",
    "\n",
    "for col in gb:\n",
    "    sort_pct = gb[col].sort_values(ascending= True)\n",
    "    print(\"Season:\", col, \"Biggest bust team\", sort_pct.index[0])\n",
    "\n",
    "print(\"\\n\\n\")\n"
   ]
  },
  {
   "cell_type": "markdown",
   "metadata": {},
   "source": [
    "### biggest_surprise\n",
    "biggest increase between pre-season and regular season"
   ]
  },
  {
   "cell_type": "code",
   "execution_count": 36,
   "metadata": {},
   "outputs": [
    {
     "name": "stdout",
     "output_type": "stream",
     "text": [
      "full\n",
      "Season: 20122013 Biggest surprise team Sharks\n",
      "Season: 20132014 Biggest surprise team Kings\n",
      "Season: 20142015 Biggest surprise team Blackhawks\n",
      "Season: 20152016 Biggest surprise team Lightning\n",
      "Season: 20162017 Biggest surprise team Predators\n",
      "Season: 20172018 Biggest surprise team Capitals\n",
      "\n",
      "\n",
      "\n"
     ]
    }
   ],
   "source": [
    "print(\"full\")\n",
    "data = full_df.groupby(['teamName','season','type'])['won'].mean()\n",
    "to_df = []\n",
    "for idx in data.index:\n",
    "    to_df.append([*idx, data[idx]])\n",
    "data = pd.DataFrame(to_df, columns = [\"teamName\",\"season\",\"type\",\"wp\"])\n",
    "p_team= p_season= p_gtype= p_wp = 0\n",
    "diffs = []\n",
    "for idx in data.index:\n",
    "\n",
    "    team, season, g_type, wp = data.loc[idx,:]\n",
    "    if team == p_team:\n",
    "        if season == p_season:\n",
    "            if g_type == \"P\":\n",
    "                post_wp = wp\n",
    "                reg_wp = p_wp\n",
    "            else:\n",
    "                post_wp = p_wp\n",
    "                reg_wp = wp\n",
    "\n",
    "            diffs.append([team, season, post_wp-reg_wp])\n",
    "    p_team = team; p_season = season; p_gtype = g_type; p_wp = wp\n",
    "\n",
    "aggd = pd.DataFrame(diffs, columns = ['team','season', 'post_minus_reg_win_pct'])\n",
    "gb = aggd.groupby(['season', 'team'])['post_minus_reg_win_pct'].max().unstack().T\n",
    "\n",
    "for col in gb:\n",
    "    sort_pct = gb[col].sort_values(ascending= False)\n",
    "    print(\"Season:\", col, \"Biggest surprise team\", sort_pct.index[0])\n",
    "\n",
    "print(\"\\n\\n\")"
   ]
  },
  {
   "cell_type": "markdown",
   "metadata": {},
   "source": [
    "### winningest_coach\n",
    "coach with best win pct for the season"
   ]
  },
  {
   "cell_type": "code",
   "execution_count": 41,
   "metadata": {
    "scrolled": true
   },
   "outputs": [
    {
     "name": "stdout",
     "output_type": "stream",
     "text": [
      "full\n",
      "season:  20122013 winingest_coach:  Dan Lacroix\n",
      "season:  20132014 winingest_coach:  Claude Julien\n",
      "season:  20142015 winingest_coach:  Alain Vigneault\n",
      "season:  20152016 winingest_coach:  Barry Trotz\n",
      "season:  20162017 winingest_coach:  Barry Trotz\n",
      "season:  20172018 winingest_coach:  Jon Cooper\n",
      "\n",
      "\n",
      "\n",
      "small\n",
      "season:  20122013 winingest_coach:  Claude Julien\n",
      "\n",
      "\n",
      "\n",
      "vs\n",
      "season:  20122013 winingest_coach:  Claude Julien\n",
      "\n",
      "\n",
      "\n"
     ]
    }
   ],
   "source": [
    "for df,name in zip(dfs,df_names):\n",
    "    print(name)\n",
    "    data = df.groupby(['season','head_coach'])['won'].mean().unstack().T\n",
    "\n",
    "    for col in data:\n",
    "        print(\"season: \", col, \"winingest_coach: \", data[col].sort_values(ascending = False).index[0])\n",
    "        \n",
    "    print(\"\\n\\n\")"
   ]
  },
  {
   "cell_type": "markdown",
   "metadata": {},
   "source": [
    "### worst_coach\n",
    "worst win pct for season"
   ]
  },
  {
   "cell_type": "code",
   "execution_count": 42,
   "metadata": {},
   "outputs": [
    {
     "name": "stdout",
     "output_type": "stream",
     "text": [
      "full\n",
      "season:  20122013 worst_coach:  Martin Raymond\n",
      "season:  20132014 worst_coach:  Peter Laviolette\n",
      "season:  20142015 worst_coach:  Craig MacTavish\n",
      "season:  20152016 worst_coach:  Todd Richards\n",
      "season:  20162017 worst_coach:  Jared Bednar\n",
      "season:  20172018 worst_coach:  Phil Housley\n",
      "\n",
      "\n",
      "\n",
      "small\n",
      "season:  20122013 worst_coach:  Dan Bylsma\n",
      "\n",
      "\n",
      "\n",
      "vs\n",
      "season:  20122013 worst_coach:  John Tortorella\n",
      "\n",
      "\n",
      "\n"
     ]
    }
   ],
   "source": [
    "for df,name in zip(dfs,df_names):\n",
    "    print(name)\n",
    "    data = df.groupby(['season','head_coach'])['won'].mean().unstack().T\n",
    "\n",
    "    for col in data:\n",
    "        print(\"season: \", col, \"worst_coach: \", data[col].sort_values(ascending = True).index[0])\n",
    "        \n",
    "    print(\"\\n\\n\")"
   ]
  },
  {
   "cell_type": "markdown",
   "metadata": {},
   "source": [
    "### most accurate_team\n",
    "team with best ratio of shots to goal for season"
   ]
  },
  {
   "cell_type": "code",
   "execution_count": 51,
   "metadata": {},
   "outputs": [
    {
     "name": "stdout",
     "output_type": "stream",
     "text": [
      "full\n",
      "season:  20122013 best_shooting:  Lightning\n",
      "season:  20132014 best_shooting:  Ducks\n",
      "season:  20142015 best_shooting:  Flames\n",
      "season:  20152016 best_shooting:  Stars\n",
      "season:  20162017 best_shooting:  Penguins\n",
      "season:  20172018 best_shooting:  Capitals\n",
      "\n",
      "\n",
      "\n",
      "small\n",
      "season:  20122013 best_shooting:  Senators\n",
      "\n",
      "\n",
      "\n",
      "vs\n",
      "season:  20122013 best_shooting:  Bruins\n",
      "\n",
      "\n",
      "\n"
     ]
    }
   ],
   "source": [
    "for df,name in zip(dfs,df_names):\n",
    "    print(name)\n",
    "    data = df.groupby(['season','teamName'])[['shots','goals']].sum()\n",
    "    data['shoot_pct'] = data['goals']/data['shots']\n",
    "    us = data['shoot_pct'].unstack().T\n",
    "\n",
    "    for col in us:\n",
    "        print(\"season: \", col, \"best_shooting: \", us[col].sort_values(ascending = False).index[0])\n",
    "\n",
    "    print(\"\\n\\n\")"
   ]
  },
  {
   "cell_type": "markdown",
   "metadata": {},
   "source": [
    "### least_accurate_team\n",
    "team with worst ratio of shots to goals for season"
   ]
  },
  {
   "cell_type": "code",
   "execution_count": 52,
   "metadata": {},
   "outputs": [
    {
     "name": "stdout",
     "output_type": "stream",
     "text": [
      "full\n",
      "season:  20122013 worst_shooting:  Senators\n",
      "season:  20132014 worst_shooting:  Sabres\n",
      "season:  20142015 worst_shooting:  Coyotes\n",
      "season:  20152016 worst_shooting:  Maple Leafs\n",
      "season:  20162017 worst_shooting:  Avalanche\n",
      "season:  20172018 worst_shooting:  Canadiens\n",
      "\n",
      "\n",
      "\n",
      "small\n",
      "season:  20122013 worst_shooting:  Penguins\n",
      "\n",
      "\n",
      "\n",
      "vs\n",
      "season:  20122013 worst_shooting:  Rangers\n",
      "\n",
      "\n",
      "\n"
     ]
    }
   ],
   "source": [
    "for df,name in zip(dfs,df_names):\n",
    "    print(name)\n",
    "    data = df.groupby(['season','teamName'])[['shots','goals']].sum()\n",
    "    data['shoot_pct'] = data['goals']/data['shots']\n",
    "    us = data['shoot_pct'].unstack().T\n",
    "\n",
    "    for col in us:\n",
    "        print(\"season: \", col, \"worst_shooting: \", us[col].sort_values(ascending = True).index[0])\n",
    "\n",
    "    print(\"\\n\\n\")"
   ]
  },
  {
   "cell_type": "markdown",
   "metadata": {},
   "source": [
    "### most_hits\n",
    "\n",
    "team with most hits in season"
   ]
  },
  {
   "cell_type": "code",
   "execution_count": 54,
   "metadata": {},
   "outputs": [
    {
     "name": "stdout",
     "output_type": "stream",
     "text": [
      "full\n",
      "season:  20122013 most_hits:  Kings\n",
      "season:  20132014 most_hits:  Kings\n",
      "season:  20142015 most_hits:  Islanders\n",
      "season:  20152016 most_hits:  Islanders\n",
      "season:  20162017 most_hits:  Penguins\n",
      "season:  20172018 most_hits:  Capitals\n",
      "\n",
      "\n",
      "\n",
      "small\n",
      "season:  20122013 most_hits:  Bruins\n",
      "\n",
      "\n",
      "\n",
      "vs\n",
      "season:  20122013 most_hits:  Bruins\n",
      "\n",
      "\n",
      "\n"
     ]
    }
   ],
   "source": [
    "for df,name in zip(dfs,df_names):\n",
    "    print(name)\n",
    "    us = df.groupby(['season','teamName'])['hits'].sum().unstack().T\n",
    "\n",
    "\n",
    "    for col in us:\n",
    "        print(\"season: \", col, \"most_hits: \", us[col].sort_values(ascending = False).index[0])\n",
    "\n",
    "    print(\"\\n\\n\")"
   ]
  },
  {
   "cell_type": "markdown",
   "metadata": {},
   "source": [
    "### least_hits\n",
    "team with least hits in season"
   ]
  },
  {
   "cell_type": "code",
   "execution_count": 53,
   "metadata": {
    "scrolled": true
   },
   "outputs": [
    {
     "name": "stdout",
     "output_type": "stream",
     "text": [
      "full\n",
      "season:  20122013 least_hits:  Devils\n",
      "season:  20132014 least_hits:  Devils\n",
      "season:  20142015 least_hits:  Wild\n",
      "season:  20152016 least_hits:  Canucks\n",
      "season:  20162017 least_hits:  Blackhawks\n",
      "season:  20172018 least_hits:  Blackhawks\n",
      "\n",
      "\n",
      "\n",
      "small\n",
      "season:  20122013 least_hits:  Penguins\n",
      "\n",
      "\n",
      "\n",
      "vs\n",
      "season:  20122013 least_hits:  Rangers\n",
      "\n",
      "\n",
      "\n"
     ]
    }
   ],
   "source": [
    "for df,name in zip(dfs,df_names):\n",
    "    print(name)\n",
    "    us = df.groupby(['season','teamName'])['hits'].sum().unstack().T\n",
    "\n",
    "\n",
    "    for col in us:\n",
    "        print(\"season: \", col, \"least_hits: \", us[col].sort_values(ascending = True).index[0])\n",
    "\n",
    "    print(\"\\n\\n\")"
   ]
  },
  {
   "cell_type": "markdown",
   "metadata": {},
   "source": [
    "### power_play_goal_pct\n",
    "pct of goals that were ppg for season (rounded to 100th)"
   ]
  },
  {
   "cell_type": "code",
   "execution_count": 58,
   "metadata": {},
   "outputs": [
    {
     "data": {
      "text/plain": [
       "season\n",
       "20122013    0.227315\n",
       "20132014    0.219935\n",
       "20142015    0.214521\n",
       "20152016    0.219083\n",
       "20162017    0.209283\n",
       "20172018    0.212083\n",
       "Name: pct_ppg, dtype: float64"
      ]
     },
     "execution_count": 58,
     "metadata": {},
     "output_type": "execute_result"
    }
   ],
   "source": [
    "gb = full_df.groupby(\"season\")[['goals','powerPlayGoals']].sum()\n",
    "gb['pct_ppg'] = gb['powerPlayGoals']/gb['goals']\n",
    "gb['pct_ppg']"
   ]
  }
 ],
 "metadata": {
  "kernelspec": {
   "display_name": "Python 3",
   "language": "python",
   "name": "python3"
  },
  "language_info": {
   "codemirror_mode": {
    "name": "ipython",
    "version": 3
   },
   "file_extension": ".py",
   "mimetype": "text/x-python",
   "name": "python",
   "nbconvert_exporter": "python",
   "pygments_lexer": "ipython3",
   "version": "3.6.3"
  }
 },
 "nbformat": 4,
 "nbformat_minor": 2
}
