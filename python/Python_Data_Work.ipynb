{
 "cells": [
  {
   "cell_type": "code",
   "execution_count": 1,
   "metadata": {},
   "outputs": [
    {
     "name": "stdout",
     "output_type": "stream",
     "text": [
      " Volume in drive C is OS\n",
      " Volume Serial Number is A2DE-672A\n",
      "\n",
      " Directory of C:\\Users\\William\\Documents\\Turing\\cross_check\\data\n",
      "\n",
      "02/12/2019  12:57 PM    <DIR>          .\n",
      "02/12/2019  12:57 PM    <DIR>          ..\n",
      "02/12/2019  12:57 PM         1,072,631 game.csv\n",
      "02/12/2019  12:57 PM             2,628 game_small.csv\n",
      "02/12/2019  12:57 PM         1,133,359 game_teams_stats.csv\n",
      "02/12/2019  12:57 PM             2,942 game_teams_stats_small.csv\n",
      "02/12/2019  12:57 PM               424 game_teams_stats_very_small.csv\n",
      "02/12/2019  12:57 PM               418 game_very_small.csv\n",
      "02/12/2019  12:57 PM             1,953 team_info.csv\n",
      "02/12/2019  12:57 PM               153 team_info_very_small.csv\n",
      "               8 File(s)      2,214,508 bytes\n",
      "               2 Dir(s)  54,016,393,216 bytes free\n"
     ]
    }
   ],
   "source": [
    "!dir ..\\data"
   ]
  },
  {
   "cell_type": "code",
   "execution_count": 2,
   "metadata": {
    "collapsed": true
   },
   "outputs": [],
   "source": [
    "import pandas as pd"
   ]
  },
  {
   "cell_type": "code",
   "execution_count": 3,
   "metadata": {
    "collapsed": true
   },
   "outputs": [],
   "source": [
    "root = \"../data/\"\n",
    "game = root+'game.csv'\n",
    "small_game = root+'game_small.csv'\n",
    "vs_game = root+'game_very_small.csv'\n",
    "\n",
    "gt = root+'game_teams_stats.csv'\n",
    "small_gt = root+'game_teams_stats_small.csv'\n",
    "vs_gt = root+ 'game_teams_stats_very_small.csv'\n",
    "\n",
    "team = root+'team_info.csv'\n",
    "\n",
    "\n",
    "\n",
    "game_df = pd.read_csv(game)\n",
    "small_game_df = pd.read_csv(small_game)\n",
    "vs_game_df = pd.read_csv(vs_game)\n",
    "\n",
    "gt_df = pd.read_csv(gt)\n",
    "small_gt_df = pd.read_csv(small_gt)\n",
    "vs_gt_df = pd.read_csv(vs_gt)\n",
    "\n",
    "team_df = pd.read_csv(team)"
   ]
  },
  {
   "cell_type": "code",
   "execution_count": 4,
   "metadata": {},
   "outputs": [
    {
     "ename": "NameError",
     "evalue": "name 'to_keep' is not defined",
     "output_type": "error",
     "traceback": [
      "\u001b[1;31m---------------------------------------------------------------------------\u001b[0m",
      "\u001b[1;31mNameError\u001b[0m                                 Traceback (most recent call last)",
      "\u001b[1;32m<ipython-input-4-2561d67265f8>\u001b[0m in \u001b[0;36m<module>\u001b[1;34m()\u001b[0m\n\u001b[1;32m----> 1\u001b[1;33m \u001b[0mgt_df\u001b[0m\u001b[1;33m.\u001b[0m\u001b[0mmerge\u001b[0m\u001b[1;33m(\u001b[0m\u001b[0mgame_df\u001b[0m\u001b[1;33m,\u001b[0m \u001b[0mon\u001b[0m \u001b[1;33m=\u001b[0m \u001b[1;34m\"game_id\"\u001b[0m\u001b[1;33m)\u001b[0m\u001b[1;33m.\u001b[0m\u001b[0mmerge\u001b[0m\u001b[1;33m(\u001b[0m\u001b[0mteam_df\u001b[0m\u001b[1;33m,\u001b[0m \u001b[0mon\u001b[0m \u001b[1;33m=\u001b[0m \u001b[1;34m\"team_id\"\u001b[0m\u001b[1;33m)\u001b[0m\u001b[1;33m[\u001b[0m\u001b[0mto_keep\u001b[0m\u001b[1;33m]\u001b[0m\u001b[1;33m\u001b[0m\u001b[0m\n\u001b[0m",
      "\u001b[1;31mNameError\u001b[0m: name 'to_keep' is not defined"
     ]
    }
   ],
   "source": [
    "gt_df.merge(game_df, on = \"game_id\").merge(team_df, on = \"team_id\")[to_keep]\n"
   ]
  },
  {
   "cell_type": "code",
   "execution_count": 5,
   "metadata": {
    "collapsed": true
   },
   "outputs": [],
   "source": [
    "to_keep = ['game_id', 'team_id', 'HoA', 'won', 'settled_in', 'head_coach', 'goals',\n",
    "       'shots', 'hits', 'pim', 'powerPlayOpportunities', 'powerPlayGoals',\n",
    "       'faceOffWinPercentage', 'giveaways', 'takeaways', 'season', 'type',\n",
    "       'date_time','venue_time_zone_tz','teamName']"
   ]
  },
  {
   "cell_type": "code",
   "execution_count": 6,
   "metadata": {
    "collapsed": true
   },
   "outputs": [],
   "source": [
    "full_df = gt_df.merge(game_df, on = \"game_id\").merge(team_df, on = \"team_id\")[to_keep]\n",
    "small_df = small_gt_df.merge(small_game_df, on = \"game_id\").merge(team_df, on = \"team_id\")[to_keep]\n",
    "vs_df = vs_gt_df.merge(vs_game_df, on = \"game_id\").merge(team_df, on = \"team_id\")[to_keep]"
   ]
  },
  {
   "cell_type": "code",
   "execution_count": 7,
   "metadata": {
    "collapsed": true
   },
   "outputs": [],
   "source": [
    "df_names = ['full','small', 'vs']\n",
    "dfs = [full_df,small_df, vs_df]"
   ]
  },
  {
   "cell_type": "markdown",
   "metadata": {},
   "source": [
    "### highest_total_score"
   ]
  },
  {
   "cell_type": "code",
   "execution_count": 8,
   "metadata": {},
   "outputs": [
    {
     "name": "stdout",
     "output_type": "stream",
     "text": [
      "full \n",
      " game_id\n",
      "2016020661    15\n",
      "Name: goals, dtype: int64 \n",
      "\n",
      "small \n",
      " game_id\n",
      "2012030312    7\n",
      "Name: goals, dtype: int64 \n",
      "\n",
      "vs \n",
      " game_id\n",
      "2012030222    7\n",
      "Name: goals, dtype: int64 \n",
      "\n"
     ]
    }
   ],
   "source": [
    "for name, df in zip(df_names, dfs):\n",
    "    print(name,\"\\n\", df.groupby('game_id')['goals'].sum().sort_values(ascending = False).head(1), '\\n')"
   ]
  },
  {
   "cell_type": "markdown",
   "metadata": {},
   "source": [
    "### lowest_total_score"
   ]
  },
  {
   "cell_type": "code",
   "execution_count": 9,
   "metadata": {},
   "outputs": [
    {
     "name": "stdout",
     "output_type": "stream",
     "text": [
      "full \n",
      " game_id\n",
      "2014020456    0\n",
      "Name: goals, dtype: int64 \n",
      "\n",
      "small \n",
      " game_id\n",
      "2012030314    1\n",
      "Name: goals, dtype: int64 \n",
      "\n",
      "vs \n",
      " game_id\n",
      "2012030221    5\n",
      "Name: goals, dtype: int64 \n",
      "\n"
     ]
    }
   ],
   "source": [
    "for name, df in zip(df_names, dfs):\n",
    "    print(name,\"\\n\", df.groupby('game_id')['goals'].sum().sort_values(ascending = True).head(1), '\\n')"
   ]
  },
  {
   "cell_type": "markdown",
   "metadata": {},
   "source": [
    "### biggest_blowout"
   ]
  },
  {
   "cell_type": "code",
   "execution_count": 10,
   "metadata": {},
   "outputs": [
    {
     "name": "stdout",
     "output_type": "stream",
     "text": [
      "full \n",
      " game_id\n",
      "2016020158    10\n",
      "Name: goals, dtype: int64 \n",
      "\n",
      "small \n",
      " game_id\n",
      "2012030312    5\n",
      "Name: goals, dtype: int64 \n",
      "\n",
      "vs \n",
      " game_id\n",
      "2012030222    3\n",
      "Name: goals, dtype: int64 \n",
      "\n"
     ]
    }
   ],
   "source": [
    "\n",
    "def find_diff(x):\n",
    "    if len(x) == 1: return 0\n",
    "    else: return abs(x[0]-x[1])\n",
    "    \n",
    "    \n",
    "for name, df in zip(df_names, dfs):\n",
    "    print(name,\"\\n\",df.groupby('game_id')['goals'].unique().apply(find_diff).sort_values(ascending = False).head(1), \"\\n\")"
   ]
  },
  {
   "cell_type": "markdown",
   "metadata": {},
   "source": [
    "### count_of_games_by_season"
   ]
  },
  {
   "cell_type": "code",
   "execution_count": 11,
   "metadata": {},
   "outputs": [
    {
     "name": "stdout",
     "output_type": "stream",
     "text": [
      "full \n",
      " season\n",
      "20122013     806.0\n",
      "20132014    1323.0\n",
      "20142015    1319.0\n",
      "20152016    1321.0\n",
      "20162017    1317.0\n",
      "20172018    1355.0\n",
      "Name: goals, dtype: float64 \n",
      "\n",
      "small \n",
      " season\n",
      "20122013    20.0\n",
      "Name: goals, dtype: float64 \n",
      "\n",
      "vs \n",
      " season\n",
      "20122013    2.0\n",
      "Name: goals, dtype: float64 \n",
      "\n"
     ]
    }
   ],
   "source": [
    "for name, df in zip(df_names, dfs):\n",
    "    print(name,\"\\n\",df.groupby('season')['goals'].count()/2, \"\\n\")"
   ]
  },
  {
   "cell_type": "markdown",
   "metadata": {},
   "source": [
    "### percentage_visitor_wins"
   ]
  },
  {
   "cell_type": "code",
   "execution_count": 12,
   "metadata": {},
   "outputs": [
    {
     "data": {
      "text/html": [
       "<div>\n",
       "<style scoped>\n",
       "    .dataframe tbody tr th:only-of-type {\n",
       "        vertical-align: middle;\n",
       "    }\n",
       "\n",
       "    .dataframe tbody tr th {\n",
       "        vertical-align: top;\n",
       "    }\n",
       "\n",
       "    .dataframe thead th {\n",
       "        text-align: right;\n",
       "    }\n",
       "</style>\n",
       "<table border=\"1\" class=\"dataframe\">\n",
       "  <thead>\n",
       "    <tr style=\"text-align: right;\">\n",
       "      <th></th>\n",
       "      <th>game_id</th>\n",
       "      <th>team_id</th>\n",
       "      <th>HoA</th>\n",
       "      <th>won</th>\n",
       "      <th>settled_in</th>\n",
       "      <th>head_coach</th>\n",
       "      <th>goals</th>\n",
       "      <th>shots</th>\n",
       "      <th>hits</th>\n",
       "      <th>pim</th>\n",
       "      <th>powerPlayOpportunities</th>\n",
       "      <th>powerPlayGoals</th>\n",
       "      <th>faceOffWinPercentage</th>\n",
       "      <th>giveaways</th>\n",
       "      <th>takeaways</th>\n",
       "      <th>season</th>\n",
       "      <th>type</th>\n",
       "      <th>date_time</th>\n",
       "      <th>venue_time_zone_tz</th>\n",
       "      <th>teamName</th>\n",
       "    </tr>\n",
       "  </thead>\n",
       "  <tbody>\n",
       "    <tr>\n",
       "      <th>0</th>\n",
       "      <td>2012030221</td>\n",
       "      <td>3</td>\n",
       "      <td>away</td>\n",
       "      <td>False</td>\n",
       "      <td>OT</td>\n",
       "      <td>John Tortorella</td>\n",
       "      <td>2</td>\n",
       "      <td>35</td>\n",
       "      <td>44</td>\n",
       "      <td>8</td>\n",
       "      <td>3</td>\n",
       "      <td>0</td>\n",
       "      <td>44.8</td>\n",
       "      <td>17</td>\n",
       "      <td>7</td>\n",
       "      <td>20122013</td>\n",
       "      <td>P</td>\n",
       "      <td>2013-05-16</td>\n",
       "      <td>EDT</td>\n",
       "      <td>Rangers</td>\n",
       "    </tr>\n",
       "    <tr>\n",
       "      <th>1</th>\n",
       "      <td>2012030222</td>\n",
       "      <td>3</td>\n",
       "      <td>away</td>\n",
       "      <td>False</td>\n",
       "      <td>REG</td>\n",
       "      <td>John Tortorella</td>\n",
       "      <td>2</td>\n",
       "      <td>37</td>\n",
       "      <td>33</td>\n",
       "      <td>11</td>\n",
       "      <td>5</td>\n",
       "      <td>0</td>\n",
       "      <td>51.7</td>\n",
       "      <td>1</td>\n",
       "      <td>4</td>\n",
       "      <td>20122013</td>\n",
       "      <td>P</td>\n",
       "      <td>2013-05-19</td>\n",
       "      <td>EDT</td>\n",
       "      <td>Rangers</td>\n",
       "    </tr>\n",
       "    <tr>\n",
       "      <th>2</th>\n",
       "      <td>2012030221</td>\n",
       "      <td>6</td>\n",
       "      <td>home</td>\n",
       "      <td>True</td>\n",
       "      <td>OT</td>\n",
       "      <td>Claude Julien</td>\n",
       "      <td>3</td>\n",
       "      <td>48</td>\n",
       "      <td>51</td>\n",
       "      <td>6</td>\n",
       "      <td>4</td>\n",
       "      <td>1</td>\n",
       "      <td>55.2</td>\n",
       "      <td>4</td>\n",
       "      <td>5</td>\n",
       "      <td>20122013</td>\n",
       "      <td>P</td>\n",
       "      <td>2013-05-16</td>\n",
       "      <td>EDT</td>\n",
       "      <td>Bruins</td>\n",
       "    </tr>\n",
       "    <tr>\n",
       "      <th>3</th>\n",
       "      <td>2012030222</td>\n",
       "      <td>6</td>\n",
       "      <td>home</td>\n",
       "      <td>True</td>\n",
       "      <td>REG</td>\n",
       "      <td>Claude Julien</td>\n",
       "      <td>5</td>\n",
       "      <td>32</td>\n",
       "      <td>36</td>\n",
       "      <td>19</td>\n",
       "      <td>1</td>\n",
       "      <td>0</td>\n",
       "      <td>48.3</td>\n",
       "      <td>16</td>\n",
       "      <td>6</td>\n",
       "      <td>20122013</td>\n",
       "      <td>P</td>\n",
       "      <td>2013-05-19</td>\n",
       "      <td>EDT</td>\n",
       "      <td>Bruins</td>\n",
       "    </tr>\n",
       "  </tbody>\n",
       "</table>\n",
       "</div>"
      ],
      "text/plain": [
       "      game_id  team_id   HoA    won settled_in       head_coach  goals  shots  \\\n",
       "0  2012030221        3  away  False         OT  John Tortorella      2     35   \n",
       "1  2012030222        3  away  False        REG  John Tortorella      2     37   \n",
       "2  2012030221        6  home   True         OT    Claude Julien      3     48   \n",
       "3  2012030222        6  home   True        REG    Claude Julien      5     32   \n",
       "\n",
       "   hits  pim  powerPlayOpportunities  powerPlayGoals  faceOffWinPercentage  \\\n",
       "0    44    8                       3               0                  44.8   \n",
       "1    33   11                       5               0                  51.7   \n",
       "2    51    6                       4               1                  55.2   \n",
       "3    36   19                       1               0                  48.3   \n",
       "\n",
       "   giveaways  takeaways    season type   date_time venue_time_zone_tz teamName  \n",
       "0         17          7  20122013    P  2013-05-16                EDT  Rangers  \n",
       "1          1          4  20122013    P  2013-05-19                EDT  Rangers  \n",
       "2          4          5  20122013    P  2013-05-16                EDT   Bruins  \n",
       "3         16          6  20122013    P  2013-05-19                EDT   Bruins  "
      ]
     },
     "execution_count": 12,
     "metadata": {},
     "output_type": "execute_result"
    }
   ],
   "source": [
    "vs_df"
   ]
  },
  {
   "cell_type": "code",
   "execution_count": 13,
   "metadata": {},
   "outputs": [
    {
     "name": "stdout",
     "output_type": "stream",
     "text": [
      "full \n",
      " 0.4504770864131165 \n",
      "\n",
      "small \n",
      " 0.3 \n",
      "\n",
      "vs \n",
      " 0.0 \n",
      "\n"
     ]
    }
   ],
   "source": [
    "for name, df in zip(df_names, dfs):\n",
    "    print(name,\"\\n\", df[df.HoA == \"away\"].won.mean(),\"\\n\")"
   ]
  },
  {
   "cell_type": "markdown",
   "metadata": {},
   "source": [
    "### percentage_home_wins"
   ]
  },
  {
   "cell_type": "code",
   "execution_count": 14,
   "metadata": {},
   "outputs": [
    {
     "name": "stdout",
     "output_type": "stream",
     "text": [
      "full \n",
      " 0.5495229135868834 \n",
      "\n",
      "small \n",
      " 0.7 \n",
      "\n",
      "vs \n",
      " 1.0 \n",
      "\n"
     ]
    }
   ],
   "source": [
    "for name, df in zip(df_names, dfs):\n",
    "    print(name,\"\\n\", df[df.HoA == \"home\"].won.mean(),\"\\n\")"
   ]
  },
  {
   "cell_type": "markdown",
   "metadata": {},
   "source": [
    " ### average_goals_per_game"
   ]
  },
  {
   "cell_type": "code",
   "execution_count": 15,
   "metadata": {},
   "outputs": [
    {
     "name": "stdout",
     "output_type": "stream",
     "text": [
      "full \n",
      " 5.44080096761188 \n",
      "\n",
      "small \n",
      " 4.65 \n",
      "\n",
      "vs \n",
      " 6.0 \n",
      "\n"
     ]
    }
   ],
   "source": [
    "for name, df in zip(df_names, dfs):\n",
    "    print(name,\"\\n\", df.groupby('game_id')['goals'].sum().mean(),\"\\n\")"
   ]
  },
  {
   "cell_type": "markdown",
   "metadata": {},
   "source": [
    "### average_goals_by_season"
   ]
  },
  {
   "cell_type": "code",
   "execution_count": 16,
   "metadata": {},
   "outputs": [
    {
     "name": "stdout",
     "output_type": "stream",
     "text": [
      "full \n",
      " season\n",
      "20122013    5.277916\n",
      "20132014    5.361300\n",
      "20142015    5.304776\n",
      "20152016    5.331567\n",
      "20162017    5.431283\n",
      "20172018    5.863469\n",
      "Name: goals, dtype: float64 \n",
      "\n",
      "small \n",
      " season\n",
      "20122013    4.65\n",
      "Name: goals, dtype: float64 \n",
      "\n",
      "vs \n",
      " season\n",
      "20122013    6.0\n",
      "Name: goals, dtype: float64 \n",
      "\n"
     ]
    }
   ],
   "source": [
    "for name, df in zip(df_names, dfs):\n",
    "    print(name,\"\\n\",df.groupby('season')['goals'].sum() /( df.groupby('season')['goals'].count()/2), \"\\n\")"
   ]
  },
  {
   "cell_type": "markdown",
   "metadata": {},
   "source": [
    "# League Stats"
   ]
  },
  {
   "cell_type": "markdown",
   "metadata": {},
   "source": [
    "### count_of_teams"
   ]
  },
  {
   "cell_type": "code",
   "execution_count": 17,
   "metadata": {},
   "outputs": [
    {
     "name": "stdout",
     "output_type": "stream",
     "text": [
      "full \n",
      " 32 \n",
      "\n",
      "small \n",
      " 7 \n",
      "\n",
      "vs \n",
      " 2 \n",
      "\n"
     ]
    }
   ],
   "source": [
    "for name, df in zip(df_names, dfs):\n",
    "    print(name,\"\\n\",df['team_id'].unique().shape[0],\"\\n\")"
   ]
  },
  {
   "cell_type": "markdown",
   "metadata": {},
   "source": [
    "### best_offense"
   ]
  },
  {
   "cell_type": "code",
   "execution_count": 18,
   "metadata": {},
   "outputs": [
    {
     "name": "stdout",
     "output_type": "stream",
     "text": [
      "full \n",
      " teamName\n",
      "Golden Knights    3.186275\n",
      "Name: goals, dtype: float64 \n",
      "\n",
      "small \n",
      " teamName\n",
      "Senators    3.5\n",
      "Name: goals, dtype: float64 \n",
      "\n",
      "vs \n",
      " teamName\n",
      "Bruins    4\n",
      "Name: goals, dtype: int64 \n",
      "\n"
     ]
    }
   ],
   "source": [
    "for name, df in zip(df_names, dfs):\n",
    "    print(name,\"\\n\", df.groupby('teamName')['goals'].mean().sort_values(ascending = False).head(1), \"\\n\")"
   ]
  },
  {
   "cell_type": "markdown",
   "metadata": {},
   "source": [
    "### worst_offense"
   ]
  },
  {
   "cell_type": "code",
   "execution_count": 19,
   "metadata": {},
   "outputs": [
    {
     "name": "stdout",
     "output_type": "stream",
     "text": [
      "full \n",
      " teamName\n",
      "Sabres    2.220524\n",
      "Name: goals, dtype: float64 \n",
      "\n",
      "small \n",
      " teamName\n",
      "Penguins    0.5\n",
      "Name: goals, dtype: float64 \n",
      "\n",
      "vs \n",
      " teamName\n",
      "Rangers    2\n",
      "Name: goals, dtype: int64 \n",
      "\n"
     ]
    }
   ],
   "source": [
    "for name, df in zip(df_names, dfs):\n",
    "    print(name,\"\\n\", df.groupby('teamName')['goals'].mean().sort_values(ascending = True).head(1), \"\\n\")"
   ]
  },
  {
   "cell_type": "markdown",
   "metadata": {},
   "source": [
    "### highest_scoring_home_team"
   ]
  },
  {
   "cell_type": "code",
   "execution_count": 20,
   "metadata": {},
   "outputs": [
    {
     "name": "stdout",
     "output_type": "stream",
     "text": [
      "full \n",
      " teamName\n",
      "Golden Knights    3.568627\n",
      "Name: goals, dtype: float64 \n",
      "\n",
      "small \n",
      " teamName\n",
      "Senators    4.5\n",
      "Name: goals, dtype: float64 \n",
      "\n",
      "vs \n",
      " teamName\n",
      "Bruins    4\n",
      "Name: goals, dtype: int64 \n",
      "\n"
     ]
    }
   ],
   "source": [
    "for name, df in zip(df_names, dfs):\n",
    "    print(name,\"\\n\", df[df.HoA == \"home\"].groupby(\"teamName\")['goals'].mean().sort_values(ascending = False).head(1), \"\\n\") "
   ]
  },
  {
   "cell_type": "markdown",
   "metadata": {},
   "source": [
    "### lowest_scoring_home_team"
   ]
  },
  {
   "cell_type": "code",
   "execution_count": 21,
   "metadata": {},
   "outputs": [
    {
     "name": "stdout",
     "output_type": "stream",
     "text": [
      "full \n",
      " teamName\n",
      "Sabres    2.248908\n",
      "Name: goals, dtype: float64 \n",
      "\n",
      "small \n",
      " teamName\n",
      "Penguins    0.5\n",
      "Name: goals, dtype: float64 \n",
      "\n",
      "vs \n",
      " teamName\n",
      "Bruins    4\n",
      "Name: goals, dtype: int64 \n",
      "\n"
     ]
    }
   ],
   "source": [
    "for name, df in zip(df_names, dfs):\n",
    "    print(name,\"\\n\", df[df.HoA == \"home\"].groupby(\"teamName\")['goals'].mean().sort_values(ascending = True).head(1), \"\\n\") "
   ]
  },
  {
   "cell_type": "markdown",
   "metadata": {},
   "source": [
    "### highest_scoring_visitor"
   ]
  },
  {
   "cell_type": "code",
   "execution_count": 22,
   "metadata": {},
   "outputs": [
    {
     "name": "stdout",
     "output_type": "stream",
     "text": [
      "full \n",
      " teamName\n",
      "Capitals    2.901515\n",
      "Name: goals, dtype: float64 \n",
      "\n",
      "small \n",
      " teamName\n",
      "Bruins    3.5\n",
      "Name: goals, dtype: float64 \n",
      "\n",
      "vs \n",
      " teamName\n",
      "Rangers    2\n",
      "Name: goals, dtype: int64 \n",
      "\n"
     ]
    }
   ],
   "source": [
    "for name, df in zip(df_names, dfs):\n",
    "    print(name,\"\\n\", df[df.HoA == \"away\"].groupby(\"teamName\")['goals'].mean().sort_values(ascending = False).head(1), \"\\n\") "
   ]
  },
  {
   "cell_type": "markdown",
   "metadata": {},
   "source": [
    "### lowest_scoring_visitor"
   ]
  },
  {
   "cell_type": "code",
   "execution_count": 23,
   "metadata": {},
   "outputs": [
    {
     "name": "stdout",
     "output_type": "stream",
     "text": [
      "full \n",
      " teamName\n",
      "Sabres    2.19214\n",
      "Name: goals, dtype: float64 \n",
      "\n",
      "small \n",
      " teamName\n",
      "Penguins    0.5\n",
      "Name: goals, dtype: float64 \n",
      "\n",
      "vs \n",
      " teamName\n",
      "Rangers    2\n",
      "Name: goals, dtype: int64 \n",
      "\n"
     ]
    }
   ],
   "source": [
    "for name, df in zip(df_names, dfs):\n",
    "    print(name,\"\\n\", df[df.HoA == \"away\"].groupby(\"teamName\")['goals'].mean().sort_values(ascending = True).head(1), \"\\n\") "
   ]
  },
  {
   "cell_type": "markdown",
   "metadata": {},
   "source": [
    "### winnigest_team"
   ]
  },
  {
   "cell_type": "code",
   "execution_count": 24,
   "metadata": {},
   "outputs": [
    {
     "name": "stdout",
     "output_type": "stream",
     "text": [
      "full \n",
      " teamName\n",
      "Golden Knights    0.627451\n",
      "Name: won, dtype: float64 \n",
      "\n",
      "small \n",
      " teamName\n",
      "Bruins    0.888889\n",
      "Name: won, dtype: float64 \n",
      "\n",
      "vs \n",
      " teamName\n",
      "Bruins    True\n",
      "Name: won, dtype: bool \n",
      "\n"
     ]
    }
   ],
   "source": [
    "for name, df in zip(df_names, dfs):\n",
    "    print(name,\"\\n\", df.groupby(\"teamName\")['won'].mean().sort_values(ascending = False).head(1), \"\\n\")"
   ]
  },
  {
   "cell_type": "markdown",
   "metadata": {},
   "source": [
    "# Need to check below"
   ]
  },
  {
   "cell_type": "markdown",
   "metadata": {},
   "source": [
    "### best_fans"
   ]
  },
  {
   "cell_type": "code",
   "execution_count": 25,
   "metadata": {},
   "outputs": [
    {
     "name": "stdout",
     "output_type": "stream",
     "text": [
      "full \n",
      " teamName\n",
      "Flyers    0.18229\n",
      "Name: won, dtype: float64 \n",
      "\n",
      "small \n",
      " teamName\n",
      "Senators    0.5\n",
      "Name: won, dtype: float64 \n",
      "\n",
      "vs \n",
      " teamName\n",
      "Bruins    NaN\n",
      "Name: won, dtype: object \n",
      "\n"
     ]
    }
   ],
   "source": [
    "for name, df in zip(df_names, dfs):\n",
    "    home_win = df[df.HoA == \"home\"].groupby(\"teamName\")['won'].mean().sort_index()\n",
    "    away_win = df[df.HoA == \"away\"].groupby(\"teamName\")['won'].mean().sort_index()\n",
    "    \n",
    "    print(name, \"\\n\", (home_win-away_win).sort_values(ascending = False).head(1), \"\\n\")"
   ]
  },
  {
   "cell_type": "markdown",
   "metadata": {},
   "source": [
    "### worst_fans"
   ]
  },
  {
   "cell_type": "code",
   "execution_count": 26,
   "metadata": {},
   "outputs": [
    {
     "name": "stdout",
     "output_type": "stream",
     "text": [
      "full \n",
      " teamName\n",
      "Avalanche        -0.125442\n",
      "Blackhawks       -0.108069\n",
      "Blue Jackets     -0.065312\n",
      "Blues            -0.061452\n",
      "Bruins           -0.073530\n",
      "Canadiens        -0.064257\n",
      "Canucks          -0.068376\n",
      "Capitals         -0.109848\n",
      "Coyotes          -0.131004\n",
      "Devils           -0.118469\n",
      "Ducks            -0.120684\n",
      "Flames           -0.090771\n",
      "Flyers           -0.182290\n",
      "Golden Knights   -0.156863\n",
      "Hurricanes       -0.087336\n",
      "Islanders        -0.012362\n",
      "Jets             -0.089766\n",
      "Kings            -0.154718\n",
      "Lightning        -0.129366\n",
      "Maple Leafs      -0.146113\n",
      "Oilers           -0.082420\n",
      "Panthers         -0.103448\n",
      "Penguins         -0.139920\n",
      "Predators        -0.142373\n",
      "Rangers          -0.054774\n",
      "Red Wings        -0.033827\n",
      "Sabres           -0.052402\n",
      "Senators         -0.074720\n",
      "Sharks           -0.081395\n",
      "Stars            -0.106923\n",
      "Wild             -0.131651\n",
      "Name: won, dtype: float64 \n",
      "\n",
      "small \n",
      " teamName\n",
      "Blackhawks   -0.416667\n",
      "Bruins       -0.250000\n",
      "Canadiens    -0.500000\n",
      "Rangers      -0.500000\n",
      "Red Wings    -0.416667\n",
      "Senators     -0.500000\n",
      "Name: won, dtype: float64 \n",
      "\n",
      "vs \n",
      " Series([], Name: won, dtype: object) \n",
      "\n"
     ]
    }
   ],
   "source": [
    "for name, df in zip(df_names, dfs):\n",
    "    home_win = df[df.HoA == \"home\"].groupby(\"teamName\")['won'].mean().sort_index()\n",
    "    away_win = df[df.HoA == \"away\"].groupby(\"teamName\")['won'].mean().sort_index()\n",
    "    \n",
    "    away_minus_home = (away_win-home_win)\n",
    "    \n",
    "    print(name, \"\\n\", away_minus_home[away_minus_home <0], \"\\n\")"
   ]
  },
  {
   "cell_type": "code",
   "execution_count": null,
   "metadata": {
    "collapsed": true
   },
   "outputs": [],
   "source": []
  },
  {
   "cell_type": "code",
   "execution_count": null,
   "metadata": {
    "collapsed": true
   },
   "outputs": [],
   "source": []
  },
  {
   "cell_type": "code",
   "execution_count": null,
   "metadata": {
    "collapsed": true
   },
   "outputs": [],
   "source": []
  },
  {
   "cell_type": "markdown",
   "metadata": {},
   "source": [
    "### best_defense"
   ]
  },
  {
   "cell_type": "code",
   "execution_count": null,
   "metadata": {},
   "outputs": [],
   "source": [
    "vs_df"
   ]
  },
  {
   "cell_type": "code",
   "execution_count": null,
   "metadata": {},
   "outputs": [],
   "source": [
    "for name, df in zip(df_names, dfs):\n",
    "    print(name,\"\\n\", df.groupby('team_id')['goals'].mean().sort_values(ascending = False).head(1), \"\\n\")"
   ]
  },
  {
   "cell_type": "code",
   "execution_count": null,
   "metadata": {
    "collapsed": true
   },
   "outputs": [],
   "source": []
  }
 ],
 "metadata": {
  "kernelspec": {
   "display_name": "Python 3",
   "language": "python",
   "name": "python3"
  },
  "language_info": {
   "codemirror_mode": {
    "name": "ipython",
    "version": 3
   },
   "file_extension": ".py",
   "mimetype": "text/x-python",
   "name": "python",
   "nbconvert_exporter": "python",
   "pygments_lexer": "ipython3",
   "version": "3.6.3"
  }
 },
 "nbformat": 4,
 "nbformat_minor": 2
}
