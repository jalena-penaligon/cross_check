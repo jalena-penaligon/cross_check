{
 "cells": [
  {
   "cell_type": "code",
   "execution_count": 20,
   "metadata": {},
   "outputs": [
    {
     "name": "stdout",
     "output_type": "stream",
     "text": [
      "\u001b[31mgame.csv\u001b[m\u001b[m                        game_teams_stats_very_small.csv\r\n",
      "game_dummy.csv                  game_very_small.csv\r\n",
      "game_small.csv                  \u001b[31mteam_info.csv\u001b[m\u001b[m\r\n",
      "\u001b[31mgame_teams_stats.csv\u001b[m\u001b[m            team_info_very_small.csv\r\n",
      "game_teams_stats_small.csv\r\n"
     ]
    }
   ],
   "source": [
    "!ls ../data"
   ]
  },
  {
   "cell_type": "code",
   "execution_count": 3,
   "metadata": {},
   "outputs": [],
   "source": [
    "import pandas as pd\n",
    "import numpy as np"
   ]
  },
  {
   "cell_type": "code",
   "execution_count": 22,
   "metadata": {},
   "outputs": [],
   "source": [
    "root = \"../data/\"\n",
    "game = root+'game.csv'\n",
    "small_game = root+'game_small.csv'\n",
    "vs_game = root+'game_very_small.csv'\n",
    "\n",
    "game_dummy = root + 'game_dummy.csv'\n",
    "\n",
    "gt = root+'game_teams_stats.csv'\n",
    "small_gt = root+'game_teams_stats_small.csv'\n",
    "vs_gt = root+ 'game_teams_stats_very_small.csv'\n",
    "\n",
    "team = root+'team_info.csv'\n",
    "\n",
    "team_df = pd.read_csv(team)\n",
    "team_df.index = team_df.team_id\n",
    "team_ser = team_df['teamName']\n",
    "team_dict = team_ser.to_dict()\n",
    "\n",
    "game_df = pd.read_csv(game)\n",
    "small_game_df = pd.read_csv(small_game)\n",
    "vs_game_df = pd.read_csv(vs_game)\n",
    "\n",
    "for df in [game_df,small_game_df, vs_game_df]:\n",
    "    df['homeTeam'] = df['home_team_id'].map(team_dict)\n",
    "    df['awayTeam'] = df['away_team_id'].map(team_dict)\n",
    "    \n",
    "gt_df = pd.read_csv(gt)\n",
    "small_gt_df = pd.read_csv(small_gt)\n",
    "vs_gt_df = pd.read_csv(vs_gt)\n",
    "\n"
   ]
  },
  {
   "cell_type": "code",
   "execution_count": null,
   "metadata": {},
   "outputs": [],
   "source": []
  },
  {
   "cell_type": "code",
   "execution_count": 5,
   "metadata": {},
   "outputs": [
    {
     "data": {
      "text/html": [
       "<div>\n",
       "<style scoped>\n",
       "    .dataframe tbody tr th:only-of-type {\n",
       "        vertical-align: middle;\n",
       "    }\n",
       "\n",
       "    .dataframe tbody tr th {\n",
       "        vertical-align: top;\n",
       "    }\n",
       "\n",
       "    .dataframe thead th {\n",
       "        text-align: right;\n",
       "    }\n",
       "</style>\n",
       "<table border=\"1\" class=\"dataframe\">\n",
       "  <thead>\n",
       "    <tr style=\"text-align: right;\">\n",
       "      <th></th>\n",
       "      <th>Unnamed: 0</th>\n",
       "      <th>game_id</th>\n",
       "      <th>season</th>\n",
       "      <th>type</th>\n",
       "      <th>date_time</th>\n",
       "      <th>away_team_id</th>\n",
       "      <th>home_team_id</th>\n",
       "      <th>away_goals</th>\n",
       "      <th>home_goals</th>\n",
       "      <th>outcome</th>\n",
       "      <th>home_rink_side_start</th>\n",
       "      <th>venue</th>\n",
       "      <th>venue_link</th>\n",
       "      <th>venue_time_zone_id</th>\n",
       "      <th>venue_time_zone_offset</th>\n",
       "      <th>venue_time_zone_tz</th>\n",
       "      <th>homeTeam</th>\n",
       "      <th>awayTeam</th>\n",
       "    </tr>\n",
       "  </thead>\n",
       "  <tbody>\n",
       "    <tr>\n",
       "      <th>0</th>\n",
       "      <td>0</td>\n",
       "      <td>2012030221</td>\n",
       "      <td>20122013</td>\n",
       "      <td>P</td>\n",
       "      <td>2013-05-16</td>\n",
       "      <td>3</td>\n",
       "      <td>6</td>\n",
       "      <td>2</td>\n",
       "      <td>3</td>\n",
       "      <td>home win OT</td>\n",
       "      <td>left</td>\n",
       "      <td>TD Garden</td>\n",
       "      <td>/api/v1/venues/null</td>\n",
       "      <td>America/New_York</td>\n",
       "      <td>-4</td>\n",
       "      <td>EDT</td>\n",
       "      <td>Bruins</td>\n",
       "      <td>Rangers</td>\n",
       "    </tr>\n",
       "    <tr>\n",
       "      <th>1</th>\n",
       "      <td>1</td>\n",
       "      <td>2012030222</td>\n",
       "      <td>20122013</td>\n",
       "      <td>P</td>\n",
       "      <td>2013-05-19</td>\n",
       "      <td>3</td>\n",
       "      <td>6</td>\n",
       "      <td>2</td>\n",
       "      <td>5</td>\n",
       "      <td>home win REG</td>\n",
       "      <td>left</td>\n",
       "      <td>TD Garden</td>\n",
       "      <td>/api/v1/venues/null</td>\n",
       "      <td>America/New_York</td>\n",
       "      <td>-4</td>\n",
       "      <td>EDT</td>\n",
       "      <td>Bruins</td>\n",
       "      <td>Rangers</td>\n",
       "    </tr>\n",
       "  </tbody>\n",
       "</table>\n",
       "</div>"
      ],
      "text/plain": [
       "   Unnamed: 0     game_id    season type   date_time  away_team_id  \\\n",
       "0           0  2012030221  20122013    P  2013-05-16             3   \n",
       "1           1  2012030222  20122013    P  2013-05-19             3   \n",
       "\n",
       "   home_team_id  away_goals  home_goals       outcome home_rink_side_start  \\\n",
       "0             6           2           3   home win OT                 left   \n",
       "1             6           2           5  home win REG                 left   \n",
       "\n",
       "       venue           venue_link venue_time_zone_id  venue_time_zone_offset  \\\n",
       "0  TD Garden  /api/v1/venues/null   America/New_York                      -4   \n",
       "1  TD Garden  /api/v1/venues/null   America/New_York                      -4   \n",
       "\n",
       "  venue_time_zone_tz homeTeam awayTeam  \n",
       "0                EDT   Bruins  Rangers  \n",
       "1                EDT   Bruins  Rangers  "
      ]
     },
     "execution_count": 5,
     "metadata": {},
     "output_type": "execute_result"
    }
   ],
   "source": [
    "vs_game_df"
   ]
  },
  {
   "cell_type": "code",
   "execution_count": 42,
   "metadata": {},
   "outputs": [],
   "source": [
    "to_keep = ['game_id', 'team_id', 'HoA', 'won', 'settled_in', 'head_coach', 'goals',\n",
    "       'shots', 'hits', 'pim', 'powerPlayOpportunities', 'powerPlayGoals',\n",
    "       'faceOffWinPercentage', 'giveaways', 'takeaways', 'season', 'type',\n",
    "       'date_time','venue_time_zone_tz','teamName', \"home_goals\",\"away_goals\", 'homeTeam','awayTeam']"
   ]
  },
  {
   "cell_type": "code",
   "execution_count": null,
   "metadata": {},
   "outputs": [],
   "source": []
  },
  {
   "cell_type": "code",
   "execution_count": 43,
   "metadata": {},
   "outputs": [],
   "source": [
    "# gt_df.merge(game_df, on = \"game_id\"\n",
    "#            ).merge(team_df, on = \"team_id\"\n",
    "#            ).merge(team_df[['team_id','teamName']],\n",
    "#                    left_on = \"home_team_id\", right_on = \"team_id\",\n",
    "#                    suffixes = (\"Home\",\"_\")\n",
    "#            ).merge(team_df[['team_id','teamName']],\n",
    "#                    left_on = \"away_team_id\", right_on = \"team_id\",\n",
    "#                    suffixes = (\"Away\",\"_\"))\n"
   ]
  },
  {
   "cell_type": "code",
   "execution_count": 44,
   "metadata": {},
   "outputs": [
    {
     "data": {
      "text/html": [
       "<div>\n",
       "<style scoped>\n",
       "    .dataframe tbody tr th:only-of-type {\n",
       "        vertical-align: middle;\n",
       "    }\n",
       "\n",
       "    .dataframe tbody tr th {\n",
       "        vertical-align: top;\n",
       "    }\n",
       "\n",
       "    .dataframe thead th {\n",
       "        text-align: right;\n",
       "    }\n",
       "</style>\n",
       "<table border=\"1\" class=\"dataframe\">\n",
       "  <thead>\n",
       "    <tr style=\"text-align: right;\">\n",
       "      <th></th>\n",
       "      <th>game_id</th>\n",
       "      <th>season</th>\n",
       "      <th>type</th>\n",
       "      <th>date_time</th>\n",
       "      <th>away_team_id</th>\n",
       "      <th>home_team_id</th>\n",
       "      <th>away_goals</th>\n",
       "      <th>home_goals</th>\n",
       "      <th>outcome</th>\n",
       "      <th>home_rink_side_start</th>\n",
       "      <th>venue</th>\n",
       "      <th>venue_link</th>\n",
       "      <th>venue_time_zone_id</th>\n",
       "      <th>venue_time_zone_offset</th>\n",
       "      <th>venue_time_zone_tz</th>\n",
       "    </tr>\n",
       "  </thead>\n",
       "  <tbody>\n",
       "    <tr>\n",
       "      <th>0</th>\n",
       "      <td>2012030221</td>\n",
       "      <td>20122013</td>\n",
       "      <td>P</td>\n",
       "      <td>2013-05-16</td>\n",
       "      <td>3</td>\n",
       "      <td>6</td>\n",
       "      <td>2</td>\n",
       "      <td>3</td>\n",
       "      <td>home win OT</td>\n",
       "      <td>left</td>\n",
       "      <td>TD Garden</td>\n",
       "      <td>/api/v1/venues/null</td>\n",
       "      <td>America/New_York</td>\n",
       "      <td>-4</td>\n",
       "      <td>EDT</td>\n",
       "    </tr>\n",
       "    <tr>\n",
       "      <th>1</th>\n",
       "      <td>2012030222</td>\n",
       "      <td>20122013</td>\n",
       "      <td>P</td>\n",
       "      <td>2013-05-19</td>\n",
       "      <td>3</td>\n",
       "      <td>6</td>\n",
       "      <td>2</td>\n",
       "      <td>5</td>\n",
       "      <td>home win REG</td>\n",
       "      <td>left</td>\n",
       "      <td>TD Garden</td>\n",
       "      <td>/api/v1/venues/null</td>\n",
       "      <td>America/New_York</td>\n",
       "      <td>-4</td>\n",
       "      <td>EDT</td>\n",
       "    </tr>\n",
       "    <tr>\n",
       "      <th>2</th>\n",
       "      <td>2012030223</td>\n",
       "      <td>20122013</td>\n",
       "      <td>P</td>\n",
       "      <td>2013-05-21</td>\n",
       "      <td>6</td>\n",
       "      <td>3</td>\n",
       "      <td>2</td>\n",
       "      <td>1</td>\n",
       "      <td>away win REG</td>\n",
       "      <td>right</td>\n",
       "      <td>Madison Square Garden</td>\n",
       "      <td>/api/v1/venues/null</td>\n",
       "      <td>America/New_York</td>\n",
       "      <td>-4</td>\n",
       "      <td>EDT</td>\n",
       "    </tr>\n",
       "    <tr>\n",
       "      <th>3</th>\n",
       "      <td>2012020666</td>\n",
       "      <td>20122013</td>\n",
       "      <td>R</td>\n",
       "      <td>2013-04-21</td>\n",
       "      <td>27</td>\n",
       "      <td>16</td>\n",
       "      <td>3</td>\n",
       "      <td>2</td>\n",
       "      <td>away win SO</td>\n",
       "      <td>right</td>\n",
       "      <td>United Center</td>\n",
       "      <td>/api/v1/venues/null</td>\n",
       "      <td>America/Chicago</td>\n",
       "      <td>-5</td>\n",
       "      <td>CDT</td>\n",
       "    </tr>\n",
       "    <tr>\n",
       "      <th>4</th>\n",
       "      <td>2012020599</td>\n",
       "      <td>20122013</td>\n",
       "      <td>R</td>\n",
       "      <td>2013-04-11</td>\n",
       "      <td>12</td>\n",
       "      <td>15</td>\n",
       "      <td>1</td>\n",
       "      <td>3</td>\n",
       "      <td>home win REG</td>\n",
       "      <td>right</td>\n",
       "      <td>Verizon Center</td>\n",
       "      <td>/api/v1/venues/null</td>\n",
       "      <td>America/New_York</td>\n",
       "      <td>-4</td>\n",
       "      <td>EDT</td>\n",
       "    </tr>\n",
       "  </tbody>\n",
       "</table>\n",
       "</div>"
      ],
      "text/plain": [
       "      game_id    season type   date_time  away_team_id  home_team_id  \\\n",
       "0  2012030221  20122013    P  2013-05-16             3             6   \n",
       "1  2012030222  20122013    P  2013-05-19             3             6   \n",
       "2  2012030223  20122013    P  2013-05-21             6             3   \n",
       "3  2012020666  20122013    R  2013-04-21            27            16   \n",
       "4  2012020599  20122013    R  2013-04-11            12            15   \n",
       "\n",
       "   away_goals  home_goals       outcome home_rink_side_start  \\\n",
       "0           2           3   home win OT                 left   \n",
       "1           2           5  home win REG                 left   \n",
       "2           2           1  away win REG                right   \n",
       "3           3           2   away win SO                right   \n",
       "4           1           3  home win REG                right   \n",
       "\n",
       "                   venue           venue_link venue_time_zone_id  \\\n",
       "0              TD Garden  /api/v1/venues/null   America/New_York   \n",
       "1              TD Garden  /api/v1/venues/null   America/New_York   \n",
       "2  Madison Square Garden  /api/v1/venues/null   America/New_York   \n",
       "3          United Center  /api/v1/venues/null    America/Chicago   \n",
       "4         Verizon Center  /api/v1/venues/null   America/New_York   \n",
       "\n",
       "   venue_time_zone_offset venue_time_zone_tz  \n",
       "0                      -4                EDT  \n",
       "1                      -4                EDT  \n",
       "2                      -4                EDT  \n",
       "3                      -5                CDT  \n",
       "4                      -4                EDT  "
      ]
     },
     "execution_count": 44,
     "metadata": {},
     "output_type": "execute_result"
    }
   ],
   "source": [
    "gd = pd.read_csv(game_dummy)\n",
    "gd.head()"
   ]
  },
  {
   "cell_type": "code",
   "execution_count": 45,
   "metadata": {},
   "outputs": [
    {
     "name": "stderr",
     "output_type": "stream",
     "text": [
      "/anaconda3/lib/python3.7/site-packages/ipykernel_launcher.py:1: FutureWarning: 'team_id' is both an index level and a column label.\n",
      "Defaulting to column, but this will raise an ambiguity error in a future version\n",
      "  \"\"\"Entry point for launching an IPython kernel.\n"
     ]
    }
   ],
   "source": [
    "dummy = gt_df[gt_df.game_id.isin(gd.game_id)].merge(game_df, on = \"game_id\").merge(team_df, on = \"team_id\")[to_keep]"
   ]
  },
  {
   "cell_type": "code",
   "execution_count": 46,
   "metadata": {},
   "outputs": [
    {
     "data": {
      "text/html": [
       "<div>\n",
       "<style scoped>\n",
       "    .dataframe tbody tr th:only-of-type {\n",
       "        vertical-align: middle;\n",
       "    }\n",
       "\n",
       "    .dataframe tbody tr th {\n",
       "        vertical-align: top;\n",
       "    }\n",
       "\n",
       "    .dataframe thead th {\n",
       "        text-align: right;\n",
       "    }\n",
       "</style>\n",
       "<table border=\"1\" class=\"dataframe\">\n",
       "  <thead>\n",
       "    <tr style=\"text-align: right;\">\n",
       "      <th></th>\n",
       "      <th>game_id</th>\n",
       "      <th>team_id</th>\n",
       "      <th>HoA</th>\n",
       "      <th>won</th>\n",
       "      <th>settled_in</th>\n",
       "      <th>head_coach</th>\n",
       "      <th>goals</th>\n",
       "      <th>shots</th>\n",
       "      <th>hits</th>\n",
       "      <th>pim</th>\n",
       "      <th>...</th>\n",
       "      <th>takeaways</th>\n",
       "      <th>season</th>\n",
       "      <th>type</th>\n",
       "      <th>date_time</th>\n",
       "      <th>venue_time_zone_tz</th>\n",
       "      <th>teamName</th>\n",
       "      <th>home_goals</th>\n",
       "      <th>away_goals</th>\n",
       "      <th>homeTeam</th>\n",
       "      <th>awayTeam</th>\n",
       "    </tr>\n",
       "  </thead>\n",
       "  <tbody>\n",
       "    <tr>\n",
       "      <th>0</th>\n",
       "      <td>2012030221</td>\n",
       "      <td>3</td>\n",
       "      <td>away</td>\n",
       "      <td>False</td>\n",
       "      <td>OT</td>\n",
       "      <td>John Tortorella</td>\n",
       "      <td>2</td>\n",
       "      <td>35</td>\n",
       "      <td>44</td>\n",
       "      <td>8</td>\n",
       "      <td>...</td>\n",
       "      <td>7</td>\n",
       "      <td>20122013</td>\n",
       "      <td>P</td>\n",
       "      <td>2013-05-16</td>\n",
       "      <td>EDT</td>\n",
       "      <td>Rangers</td>\n",
       "      <td>3</td>\n",
       "      <td>2</td>\n",
       "      <td>Bruins</td>\n",
       "      <td>Rangers</td>\n",
       "    </tr>\n",
       "    <tr>\n",
       "      <th>1</th>\n",
       "      <td>2012030222</td>\n",
       "      <td>3</td>\n",
       "      <td>away</td>\n",
       "      <td>False</td>\n",
       "      <td>REG</td>\n",
       "      <td>John Tortorella</td>\n",
       "      <td>2</td>\n",
       "      <td>37</td>\n",
       "      <td>33</td>\n",
       "      <td>11</td>\n",
       "      <td>...</td>\n",
       "      <td>4</td>\n",
       "      <td>20122013</td>\n",
       "      <td>P</td>\n",
       "      <td>2013-05-19</td>\n",
       "      <td>EDT</td>\n",
       "      <td>Rangers</td>\n",
       "      <td>5</td>\n",
       "      <td>2</td>\n",
       "      <td>Bruins</td>\n",
       "      <td>Rangers</td>\n",
       "    </tr>\n",
       "    <tr>\n",
       "      <th>2</th>\n",
       "      <td>2012030223</td>\n",
       "      <td>3</td>\n",
       "      <td>home</td>\n",
       "      <td>False</td>\n",
       "      <td>REG</td>\n",
       "      <td>John Tortorella</td>\n",
       "      <td>1</td>\n",
       "      <td>24</td>\n",
       "      <td>37</td>\n",
       "      <td>2</td>\n",
       "      <td>...</td>\n",
       "      <td>9</td>\n",
       "      <td>20122013</td>\n",
       "      <td>P</td>\n",
       "      <td>2013-05-21</td>\n",
       "      <td>EDT</td>\n",
       "      <td>Rangers</td>\n",
       "      <td>1</td>\n",
       "      <td>2</td>\n",
       "      <td>Rangers</td>\n",
       "      <td>Bruins</td>\n",
       "    </tr>\n",
       "    <tr>\n",
       "      <th>3</th>\n",
       "      <td>2012030221</td>\n",
       "      <td>6</td>\n",
       "      <td>home</td>\n",
       "      <td>True</td>\n",
       "      <td>OT</td>\n",
       "      <td>Claude Julien</td>\n",
       "      <td>3</td>\n",
       "      <td>48</td>\n",
       "      <td>51</td>\n",
       "      <td>6</td>\n",
       "      <td>...</td>\n",
       "      <td>5</td>\n",
       "      <td>20122013</td>\n",
       "      <td>P</td>\n",
       "      <td>2013-05-16</td>\n",
       "      <td>EDT</td>\n",
       "      <td>Bruins</td>\n",
       "      <td>3</td>\n",
       "      <td>2</td>\n",
       "      <td>Bruins</td>\n",
       "      <td>Rangers</td>\n",
       "    </tr>\n",
       "    <tr>\n",
       "      <th>4</th>\n",
       "      <td>2012030222</td>\n",
       "      <td>6</td>\n",
       "      <td>home</td>\n",
       "      <td>True</td>\n",
       "      <td>REG</td>\n",
       "      <td>Claude Julien</td>\n",
       "      <td>5</td>\n",
       "      <td>32</td>\n",
       "      <td>36</td>\n",
       "      <td>19</td>\n",
       "      <td>...</td>\n",
       "      <td>6</td>\n",
       "      <td>20122013</td>\n",
       "      <td>P</td>\n",
       "      <td>2013-05-19</td>\n",
       "      <td>EDT</td>\n",
       "      <td>Bruins</td>\n",
       "      <td>5</td>\n",
       "      <td>2</td>\n",
       "      <td>Bruins</td>\n",
       "      <td>Rangers</td>\n",
       "    </tr>\n",
       "    <tr>\n",
       "      <th>5</th>\n",
       "      <td>2012030223</td>\n",
       "      <td>6</td>\n",
       "      <td>away</td>\n",
       "      <td>True</td>\n",
       "      <td>REG</td>\n",
       "      <td>Claude Julien</td>\n",
       "      <td>2</td>\n",
       "      <td>34</td>\n",
       "      <td>28</td>\n",
       "      <td>6</td>\n",
       "      <td>...</td>\n",
       "      <td>7</td>\n",
       "      <td>20122013</td>\n",
       "      <td>P</td>\n",
       "      <td>2013-05-21</td>\n",
       "      <td>EDT</td>\n",
       "      <td>Bruins</td>\n",
       "      <td>1</td>\n",
       "      <td>2</td>\n",
       "      <td>Rangers</td>\n",
       "      <td>Bruins</td>\n",
       "    </tr>\n",
       "    <tr>\n",
       "      <th>6</th>\n",
       "      <td>2012030185</td>\n",
       "      <td>26</td>\n",
       "      <td>away</td>\n",
       "      <td>True</td>\n",
       "      <td>OT</td>\n",
       "      <td>Darryl Sutter</td>\n",
       "      <td>3</td>\n",
       "      <td>25</td>\n",
       "      <td>30</td>\n",
       "      <td>2</td>\n",
       "      <td>...</td>\n",
       "      <td>7</td>\n",
       "      <td>20122013</td>\n",
       "      <td>P</td>\n",
       "      <td>2013-05-09</td>\n",
       "      <td>CDT</td>\n",
       "      <td>Kings</td>\n",
       "      <td>2</td>\n",
       "      <td>3</td>\n",
       "      <td>Blues</td>\n",
       "      <td>Kings</td>\n",
       "    </tr>\n",
       "    <tr>\n",
       "      <th>7</th>\n",
       "      <td>2012030185</td>\n",
       "      <td>19</td>\n",
       "      <td>home</td>\n",
       "      <td>False</td>\n",
       "      <td>OT</td>\n",
       "      <td>Ken Hitchcock</td>\n",
       "      <td>2</td>\n",
       "      <td>36</td>\n",
       "      <td>41</td>\n",
       "      <td>4</td>\n",
       "      <td>...</td>\n",
       "      <td>7</td>\n",
       "      <td>20122013</td>\n",
       "      <td>P</td>\n",
       "      <td>2013-05-09</td>\n",
       "      <td>CDT</td>\n",
       "      <td>Blues</td>\n",
       "      <td>2</td>\n",
       "      <td>3</td>\n",
       "      <td>Blues</td>\n",
       "      <td>Kings</td>\n",
       "    </tr>\n",
       "    <tr>\n",
       "      <th>8</th>\n",
       "      <td>2015020782</td>\n",
       "      <td>19</td>\n",
       "      <td>home</td>\n",
       "      <td>True</td>\n",
       "      <td>REG</td>\n",
       "      <td>Ken Hitchcock</td>\n",
       "      <td>4</td>\n",
       "      <td>24</td>\n",
       "      <td>20</td>\n",
       "      <td>16</td>\n",
       "      <td>...</td>\n",
       "      <td>6</td>\n",
       "      <td>20152016</td>\n",
       "      <td>R</td>\n",
       "      <td>2016-02-07</td>\n",
       "      <td>CDT</td>\n",
       "      <td>Blues</td>\n",
       "      <td>4</td>\n",
       "      <td>1</td>\n",
       "      <td>Blues</td>\n",
       "      <td>Wild</td>\n",
       "    </tr>\n",
       "    <tr>\n",
       "      <th>9</th>\n",
       "      <td>2017030111</td>\n",
       "      <td>1</td>\n",
       "      <td>away</td>\n",
       "      <td>False</td>\n",
       "      <td>REG</td>\n",
       "      <td>John Hynes</td>\n",
       "      <td>2</td>\n",
       "      <td>31</td>\n",
       "      <td>36</td>\n",
       "      <td>2</td>\n",
       "      <td>...</td>\n",
       "      <td>4</td>\n",
       "      <td>20172018</td>\n",
       "      <td>P</td>\n",
       "      <td>2018-04-12</td>\n",
       "      <td>EDT</td>\n",
       "      <td>Devils</td>\n",
       "      <td>5</td>\n",
       "      <td>2</td>\n",
       "      <td>Lightning</td>\n",
       "      <td>Devils</td>\n",
       "    </tr>\n",
       "    <tr>\n",
       "      <th>10</th>\n",
       "      <td>2015020058</td>\n",
       "      <td>1</td>\n",
       "      <td>home</td>\n",
       "      <td>False</td>\n",
       "      <td>SO</td>\n",
       "      <td>John Hynes</td>\n",
       "      <td>1</td>\n",
       "      <td>32</td>\n",
       "      <td>35</td>\n",
       "      <td>4</td>\n",
       "      <td>...</td>\n",
       "      <td>5</td>\n",
       "      <td>20152016</td>\n",
       "      <td>R</td>\n",
       "      <td>2015-10-16</td>\n",
       "      <td>EDT</td>\n",
       "      <td>Devils</td>\n",
       "      <td>1</td>\n",
       "      <td>2</td>\n",
       "      <td>Devils</td>\n",
       "      <td>Sharks</td>\n",
       "    </tr>\n",
       "    <tr>\n",
       "      <th>11</th>\n",
       "      <td>2017030111</td>\n",
       "      <td>14</td>\n",
       "      <td>home</td>\n",
       "      <td>True</td>\n",
       "      <td>REG</td>\n",
       "      <td>Jon Cooper</td>\n",
       "      <td>5</td>\n",
       "      <td>32</td>\n",
       "      <td>35</td>\n",
       "      <td>4</td>\n",
       "      <td>...</td>\n",
       "      <td>10</td>\n",
       "      <td>20172018</td>\n",
       "      <td>P</td>\n",
       "      <td>2018-04-12</td>\n",
       "      <td>EDT</td>\n",
       "      <td>Lightning</td>\n",
       "      <td>5</td>\n",
       "      <td>2</td>\n",
       "      <td>Lightning</td>\n",
       "      <td>Devils</td>\n",
       "    </tr>\n",
       "    <tr>\n",
       "      <th>12</th>\n",
       "      <td>2015030416</td>\n",
       "      <td>5</td>\n",
       "      <td>away</td>\n",
       "      <td>True</td>\n",
       "      <td>REG</td>\n",
       "      <td>Mike Sullivan</td>\n",
       "      <td>3</td>\n",
       "      <td>27</td>\n",
       "      <td>26</td>\n",
       "      <td>4</td>\n",
       "      <td>...</td>\n",
       "      <td>6</td>\n",
       "      <td>20152016</td>\n",
       "      <td>P</td>\n",
       "      <td>2016-06-13</td>\n",
       "      <td>PDT</td>\n",
       "      <td>Penguins</td>\n",
       "      <td>1</td>\n",
       "      <td>3</td>\n",
       "      <td>Sharks</td>\n",
       "      <td>Penguins</td>\n",
       "    </tr>\n",
       "    <tr>\n",
       "      <th>13</th>\n",
       "      <td>2015030416</td>\n",
       "      <td>28</td>\n",
       "      <td>home</td>\n",
       "      <td>False</td>\n",
       "      <td>REG</td>\n",
       "      <td>Peter DeBoer</td>\n",
       "      <td>1</td>\n",
       "      <td>19</td>\n",
       "      <td>43</td>\n",
       "      <td>4</td>\n",
       "      <td>...</td>\n",
       "      <td>8</td>\n",
       "      <td>20152016</td>\n",
       "      <td>P</td>\n",
       "      <td>2016-06-13</td>\n",
       "      <td>PDT</td>\n",
       "      <td>Sharks</td>\n",
       "      <td>1</td>\n",
       "      <td>3</td>\n",
       "      <td>Sharks</td>\n",
       "      <td>Penguins</td>\n",
       "    </tr>\n",
       "    <tr>\n",
       "      <th>14</th>\n",
       "      <td>2015020058</td>\n",
       "      <td>28</td>\n",
       "      <td>away</td>\n",
       "      <td>True</td>\n",
       "      <td>SO</td>\n",
       "      <td>Peter DeBoer</td>\n",
       "      <td>1</td>\n",
       "      <td>34</td>\n",
       "      <td>26</td>\n",
       "      <td>14</td>\n",
       "      <td>...</td>\n",
       "      <td>4</td>\n",
       "      <td>20152016</td>\n",
       "      <td>R</td>\n",
       "      <td>2015-10-16</td>\n",
       "      <td>EDT</td>\n",
       "      <td>Sharks</td>\n",
       "      <td>1</td>\n",
       "      <td>2</td>\n",
       "      <td>Devils</td>\n",
       "      <td>Sharks</td>\n",
       "    </tr>\n",
       "    <tr>\n",
       "      <th>15</th>\n",
       "      <td>2012020599</td>\n",
       "      <td>12</td>\n",
       "      <td>away</td>\n",
       "      <td>False</td>\n",
       "      <td>REG</td>\n",
       "      <td>Kirk Muller</td>\n",
       "      <td>1</td>\n",
       "      <td>44</td>\n",
       "      <td>25</td>\n",
       "      <td>15</td>\n",
       "      <td>...</td>\n",
       "      <td>12</td>\n",
       "      <td>20122013</td>\n",
       "      <td>R</td>\n",
       "      <td>2013-04-11</td>\n",
       "      <td>EDT</td>\n",
       "      <td>Hurricanes</td>\n",
       "      <td>3</td>\n",
       "      <td>1</td>\n",
       "      <td>Capitals</td>\n",
       "      <td>Hurricanes</td>\n",
       "    </tr>\n",
       "    <tr>\n",
       "      <th>16</th>\n",
       "      <td>2012020599</td>\n",
       "      <td>15</td>\n",
       "      <td>home</td>\n",
       "      <td>True</td>\n",
       "      <td>REG</td>\n",
       "      <td>Adam Oates</td>\n",
       "      <td>3</td>\n",
       "      <td>31</td>\n",
       "      <td>26</td>\n",
       "      <td>13</td>\n",
       "      <td>...</td>\n",
       "      <td>9</td>\n",
       "      <td>20122013</td>\n",
       "      <td>R</td>\n",
       "      <td>2013-04-11</td>\n",
       "      <td>EDT</td>\n",
       "      <td>Capitals</td>\n",
       "      <td>3</td>\n",
       "      <td>1</td>\n",
       "      <td>Capitals</td>\n",
       "      <td>Hurricanes</td>\n",
       "    </tr>\n",
       "    <tr>\n",
       "      <th>17</th>\n",
       "      <td>2012020666</td>\n",
       "      <td>27</td>\n",
       "      <td>away</td>\n",
       "      <td>True</td>\n",
       "      <td>SO</td>\n",
       "      <td>Dave Tippett</td>\n",
       "      <td>2</td>\n",
       "      <td>31</td>\n",
       "      <td>36</td>\n",
       "      <td>8</td>\n",
       "      <td>...</td>\n",
       "      <td>7</td>\n",
       "      <td>20122013</td>\n",
       "      <td>R</td>\n",
       "      <td>2013-04-21</td>\n",
       "      <td>CDT</td>\n",
       "      <td>Coyotes</td>\n",
       "      <td>2</td>\n",
       "      <td>3</td>\n",
       "      <td>Blackhawks</td>\n",
       "      <td>Coyotes</td>\n",
       "    </tr>\n",
       "    <tr>\n",
       "      <th>18</th>\n",
       "      <td>2012020666</td>\n",
       "      <td>16</td>\n",
       "      <td>home</td>\n",
       "      <td>False</td>\n",
       "      <td>SO</td>\n",
       "      <td>Joel Quenneville</td>\n",
       "      <td>2</td>\n",
       "      <td>38</td>\n",
       "      <td>20</td>\n",
       "      <td>10</td>\n",
       "      <td>...</td>\n",
       "      <td>15</td>\n",
       "      <td>20122013</td>\n",
       "      <td>R</td>\n",
       "      <td>2013-04-21</td>\n",
       "      <td>CDT</td>\n",
       "      <td>Blackhawks</td>\n",
       "      <td>2</td>\n",
       "      <td>3</td>\n",
       "      <td>Blackhawks</td>\n",
       "      <td>Coyotes</td>\n",
       "    </tr>\n",
       "    <tr>\n",
       "      <th>19</th>\n",
       "      <td>2014020706</td>\n",
       "      <td>30</td>\n",
       "      <td>away</td>\n",
       "      <td>True</td>\n",
       "      <td>REG</td>\n",
       "      <td>Mike Yeo</td>\n",
       "      <td>2</td>\n",
       "      <td>29</td>\n",
       "      <td>13</td>\n",
       "      <td>8</td>\n",
       "      <td>...</td>\n",
       "      <td>6</td>\n",
       "      <td>20142015</td>\n",
       "      <td>R</td>\n",
       "      <td>2015-01-28</td>\n",
       "      <td>MDT</td>\n",
       "      <td>Wild</td>\n",
       "      <td>1</td>\n",
       "      <td>2</td>\n",
       "      <td>Oilers</td>\n",
       "      <td>Wild</td>\n",
       "    </tr>\n",
       "    <tr>\n",
       "      <th>20</th>\n",
       "      <td>2015020782</td>\n",
       "      <td>30</td>\n",
       "      <td>away</td>\n",
       "      <td>False</td>\n",
       "      <td>REG</td>\n",
       "      <td>Mike Yeo</td>\n",
       "      <td>1</td>\n",
       "      <td>39</td>\n",
       "      <td>19</td>\n",
       "      <td>14</td>\n",
       "      <td>...</td>\n",
       "      <td>3</td>\n",
       "      <td>20152016</td>\n",
       "      <td>R</td>\n",
       "      <td>2016-02-07</td>\n",
       "      <td>CDT</td>\n",
       "      <td>Wild</td>\n",
       "      <td>4</td>\n",
       "      <td>1</td>\n",
       "      <td>Blues</td>\n",
       "      <td>Wild</td>\n",
       "    </tr>\n",
       "    <tr>\n",
       "      <th>21</th>\n",
       "      <td>2014020706</td>\n",
       "      <td>22</td>\n",
       "      <td>home</td>\n",
       "      <td>False</td>\n",
       "      <td>REG</td>\n",
       "      <td>Todd Nelson</td>\n",
       "      <td>1</td>\n",
       "      <td>24</td>\n",
       "      <td>17</td>\n",
       "      <td>6</td>\n",
       "      <td>...</td>\n",
       "      <td>7</td>\n",
       "      <td>20142015</td>\n",
       "      <td>R</td>\n",
       "      <td>2015-01-28</td>\n",
       "      <td>MDT</td>\n",
       "      <td>Oilers</td>\n",
       "      <td>1</td>\n",
       "      <td>2</td>\n",
       "      <td>Oilers</td>\n",
       "      <td>Wild</td>\n",
       "    </tr>\n",
       "    <tr>\n",
       "      <th>22</th>\n",
       "      <td>2017020104</td>\n",
       "      <td>23</td>\n",
       "      <td>away</td>\n",
       "      <td>True</td>\n",
       "      <td>REG</td>\n",
       "      <td>Travis Green</td>\n",
       "      <td>4</td>\n",
       "      <td>41</td>\n",
       "      <td>7</td>\n",
       "      <td>6</td>\n",
       "      <td>...</td>\n",
       "      <td>4</td>\n",
       "      <td>20172018</td>\n",
       "      <td>R</td>\n",
       "      <td>2017-10-20</td>\n",
       "      <td>EDT</td>\n",
       "      <td>Canucks</td>\n",
       "      <td>2</td>\n",
       "      <td>4</td>\n",
       "      <td>Sabres</td>\n",
       "      <td>Canucks</td>\n",
       "    </tr>\n",
       "    <tr>\n",
       "      <th>23</th>\n",
       "      <td>2017020104</td>\n",
       "      <td>7</td>\n",
       "      <td>home</td>\n",
       "      <td>False</td>\n",
       "      <td>REG</td>\n",
       "      <td>Phil Housley</td>\n",
       "      <td>2</td>\n",
       "      <td>22</td>\n",
       "      <td>17</td>\n",
       "      <td>8</td>\n",
       "      <td>...</td>\n",
       "      <td>3</td>\n",
       "      <td>20172018</td>\n",
       "      <td>R</td>\n",
       "      <td>2017-10-20</td>\n",
       "      <td>EDT</td>\n",
       "      <td>Sabres</td>\n",
       "      <td>2</td>\n",
       "      <td>4</td>\n",
       "      <td>Sabres</td>\n",
       "      <td>Canucks</td>\n",
       "    </tr>\n",
       "  </tbody>\n",
       "</table>\n",
       "<p>24 rows × 24 columns</p>\n",
       "</div>"
      ],
      "text/plain": [
       "       game_id  team_id   HoA    won settled_in        head_coach  goals  \\\n",
       "0   2012030221        3  away  False         OT   John Tortorella      2   \n",
       "1   2012030222        3  away  False        REG   John Tortorella      2   \n",
       "2   2012030223        3  home  False        REG   John Tortorella      1   \n",
       "3   2012030221        6  home   True         OT     Claude Julien      3   \n",
       "4   2012030222        6  home   True        REG     Claude Julien      5   \n",
       "5   2012030223        6  away   True        REG     Claude Julien      2   \n",
       "6   2012030185       26  away   True         OT     Darryl Sutter      3   \n",
       "7   2012030185       19  home  False         OT     Ken Hitchcock      2   \n",
       "8   2015020782       19  home   True        REG     Ken Hitchcock      4   \n",
       "9   2017030111        1  away  False        REG        John Hynes      2   \n",
       "10  2015020058        1  home  False         SO        John Hynes      1   \n",
       "11  2017030111       14  home   True        REG        Jon Cooper      5   \n",
       "12  2015030416        5  away   True        REG     Mike Sullivan      3   \n",
       "13  2015030416       28  home  False        REG      Peter DeBoer      1   \n",
       "14  2015020058       28  away   True         SO      Peter DeBoer      1   \n",
       "15  2012020599       12  away  False        REG       Kirk Muller      1   \n",
       "16  2012020599       15  home   True        REG        Adam Oates      3   \n",
       "17  2012020666       27  away   True         SO      Dave Tippett      2   \n",
       "18  2012020666       16  home  False         SO  Joel Quenneville      2   \n",
       "19  2014020706       30  away   True        REG          Mike Yeo      2   \n",
       "20  2015020782       30  away  False        REG          Mike Yeo      1   \n",
       "21  2014020706       22  home  False        REG       Todd Nelson      1   \n",
       "22  2017020104       23  away   True        REG      Travis Green      4   \n",
       "23  2017020104        7  home  False        REG      Phil Housley      2   \n",
       "\n",
       "    shots  hits  pim     ...      takeaways    season  type   date_time  \\\n",
       "0      35    44    8     ...              7  20122013     P  2013-05-16   \n",
       "1      37    33   11     ...              4  20122013     P  2013-05-19   \n",
       "2      24    37    2     ...              9  20122013     P  2013-05-21   \n",
       "3      48    51    6     ...              5  20122013     P  2013-05-16   \n",
       "4      32    36   19     ...              6  20122013     P  2013-05-19   \n",
       "5      34    28    6     ...              7  20122013     P  2013-05-21   \n",
       "6      25    30    2     ...              7  20122013     P  2013-05-09   \n",
       "7      36    41    4     ...              7  20122013     P  2013-05-09   \n",
       "8      24    20   16     ...              6  20152016     R  2016-02-07   \n",
       "9      31    36    2     ...              4  20172018     P  2018-04-12   \n",
       "10     32    35    4     ...              5  20152016     R  2015-10-16   \n",
       "11     32    35    4     ...             10  20172018     P  2018-04-12   \n",
       "12     27    26    4     ...              6  20152016     P  2016-06-13   \n",
       "13     19    43    4     ...              8  20152016     P  2016-06-13   \n",
       "14     34    26   14     ...              4  20152016     R  2015-10-16   \n",
       "15     44    25   15     ...             12  20122013     R  2013-04-11   \n",
       "16     31    26   13     ...              9  20122013     R  2013-04-11   \n",
       "17     31    36    8     ...              7  20122013     R  2013-04-21   \n",
       "18     38    20   10     ...             15  20122013     R  2013-04-21   \n",
       "19     29    13    8     ...              6  20142015     R  2015-01-28   \n",
       "20     39    19   14     ...              3  20152016     R  2016-02-07   \n",
       "21     24    17    6     ...              7  20142015     R  2015-01-28   \n",
       "22     41     7    6     ...              4  20172018     R  2017-10-20   \n",
       "23     22    17    8     ...              3  20172018     R  2017-10-20   \n",
       "\n",
       "    venue_time_zone_tz    teamName home_goals away_goals    homeTeam  \\\n",
       "0                  EDT     Rangers          3          2      Bruins   \n",
       "1                  EDT     Rangers          5          2      Bruins   \n",
       "2                  EDT     Rangers          1          2     Rangers   \n",
       "3                  EDT      Bruins          3          2      Bruins   \n",
       "4                  EDT      Bruins          5          2      Bruins   \n",
       "5                  EDT      Bruins          1          2     Rangers   \n",
       "6                  CDT       Kings          2          3       Blues   \n",
       "7                  CDT       Blues          2          3       Blues   \n",
       "8                  CDT       Blues          4          1       Blues   \n",
       "9                  EDT      Devils          5          2   Lightning   \n",
       "10                 EDT      Devils          1          2      Devils   \n",
       "11                 EDT   Lightning          5          2   Lightning   \n",
       "12                 PDT    Penguins          1          3      Sharks   \n",
       "13                 PDT      Sharks          1          3      Sharks   \n",
       "14                 EDT      Sharks          1          2      Devils   \n",
       "15                 EDT  Hurricanes          3          1    Capitals   \n",
       "16                 EDT    Capitals          3          1    Capitals   \n",
       "17                 CDT     Coyotes          2          3  Blackhawks   \n",
       "18                 CDT  Blackhawks          2          3  Blackhawks   \n",
       "19                 MDT        Wild          1          2      Oilers   \n",
       "20                 CDT        Wild          4          1       Blues   \n",
       "21                 MDT      Oilers          1          2      Oilers   \n",
       "22                 EDT     Canucks          2          4      Sabres   \n",
       "23                 EDT      Sabres          2          4      Sabres   \n",
       "\n",
       "      awayTeam  \n",
       "0      Rangers  \n",
       "1      Rangers  \n",
       "2       Bruins  \n",
       "3      Rangers  \n",
       "4      Rangers  \n",
       "5       Bruins  \n",
       "6        Kings  \n",
       "7        Kings  \n",
       "8         Wild  \n",
       "9       Devils  \n",
       "10      Sharks  \n",
       "11      Devils  \n",
       "12    Penguins  \n",
       "13    Penguins  \n",
       "14      Sharks  \n",
       "15  Hurricanes  \n",
       "16  Hurricanes  \n",
       "17     Coyotes  \n",
       "18     Coyotes  \n",
       "19        Wild  \n",
       "20        Wild  \n",
       "21        Wild  \n",
       "22     Canucks  \n",
       "23     Canucks  \n",
       "\n",
       "[24 rows x 24 columns]"
      ]
     },
     "execution_count": 46,
     "metadata": {},
     "output_type": "execute_result"
    }
   ],
   "source": [
    "dummy"
   ]
  },
  {
   "cell_type": "code",
   "execution_count": 95,
   "metadata": {},
   "outputs": [
    {
     "name": "stderr",
     "output_type": "stream",
     "text": [
      "/anaconda3/lib/python3.7/site-packages/ipykernel_launcher.py:1: FutureWarning: 'team_id' is both an index level and a column label.\n",
      "Defaulting to column, but this will raise an ambiguity error in a future version\n",
      "  \"\"\"Entry point for launching an IPython kernel.\n",
      "/anaconda3/lib/python3.7/site-packages/ipykernel_launcher.py:2: FutureWarning: 'team_id' is both an index level and a column label.\n",
      "Defaulting to column, but this will raise an ambiguity error in a future version\n",
      "  \n",
      "/anaconda3/lib/python3.7/site-packages/ipykernel_launcher.py:3: FutureWarning: 'team_id' is both an index level and a column label.\n",
      "Defaulting to column, but this will raise an ambiguity error in a future version\n",
      "  This is separate from the ipykernel package so we can avoid doing imports until\n"
     ]
    }
   ],
   "source": [
    "full_df = gt_df.merge(game_df, on = \"game_id\").merge(team_df, on = \"team_id\")[to_keep]\n",
    "small_df = small_gt_df.merge(small_game_df, on = \"game_id\").merge(team_df, on = \"team_id\")[to_keep]\n",
    "vs_df = vs_gt_df.merge(vs_game_df, on = \"game_id\").merge(team_df, on = \"team_id\")[to_keep]\n",
    "\n",
    "df_names = ['full','small', 'vs']\n",
    "dfs = [full_df,dummy, vs_df]\n",
    "\n",
    "df_names = [\"dummy\"]\n",
    "dfs = [dummy]\n",
    "\n",
    "for df in dfs:\n",
    "    df['opp_team'] = np.where(df['teamName'] == df['homeTeam'], df['awayTeam'],df['homeTeam'])\n",
    "    df['opp_goal'] = np.where(df.HoA == \"away\", df.home_goals, df.away_goals)\n",
    "    df['margin'] = df['goals'] - df['opp_goal']"
   ]
  },
  {
   "cell_type": "markdown",
   "metadata": {},
   "source": [
    "### highest_total_score"
   ]
  },
  {
   "cell_type": "code",
   "execution_count": 96,
   "metadata": {},
   "outputs": [
    {
     "name": "stdout",
     "output_type": "stream",
     "text": [
      "dummy \n",
      " game_id\n",
      "2017030111    7\n",
      "Name: goals, dtype: int64 \n",
      "\n"
     ]
    }
   ],
   "source": [
    "for name, df in zip(df_names, dfs):\n",
    "    print(name,\"\\n\", df.groupby('game_id')['goals'].sum().sort_values(ascending = False).head(1), '\\n')"
   ]
  },
  {
   "cell_type": "markdown",
   "metadata": {},
   "source": [
    "### lowest_total_score"
   ]
  },
  {
   "cell_type": "code",
   "execution_count": 97,
   "metadata": {},
   "outputs": [
    {
     "name": "stdout",
     "output_type": "stream",
     "text": [
      "dummy \n",
      " game_id\n",
      "2015020058    2\n",
      "Name: goals, dtype: int64 \n",
      "\n"
     ]
    }
   ],
   "source": [
    "for name, df in zip(df_names, dfs):\n",
    "    print(name,\"\\n\", df.groupby('game_id')['goals'].sum().sort_values(ascending = True).head(1), '\\n')"
   ]
  },
  {
   "cell_type": "markdown",
   "metadata": {},
   "source": [
    "### biggest_blowout"
   ]
  },
  {
   "cell_type": "code",
   "execution_count": 98,
   "metadata": {},
   "outputs": [
    {
     "name": "stdout",
     "output_type": "stream",
     "text": [
      "dummy \n",
      " game_id\n",
      "2017030111    3\n",
      "Name: goals, dtype: int64 \n",
      "\n"
     ]
    }
   ],
   "source": [
    "def find_diff(x):\n",
    "    if len(x) == 1: return 0\n",
    "    else: return abs(x[0]-x[1])\n",
    "    \n",
    "    \n",
    "for name, df in zip(df_names, dfs):\n",
    "    print(name,\"\\n\",df.groupby('game_id')['goals'].unique().apply(find_diff).sort_values(ascending = False).head(1), \"\\n\")"
   ]
  },
  {
   "cell_type": "markdown",
   "metadata": {},
   "source": [
    "### count_of_games_by_season"
   ]
  },
  {
   "cell_type": "code",
   "execution_count": 99,
   "metadata": {},
   "outputs": [
    {
     "name": "stdout",
     "output_type": "stream",
     "text": [
      "dummy \n",
      " season\n",
      "20122013    6.0\n",
      "20142015    1.0\n",
      "20152016    3.0\n",
      "20172018    2.0\n",
      "Name: goals, dtype: float64 \n",
      "\n"
     ]
    }
   ],
   "source": [
    "for name, df in zip(df_names, dfs):\n",
    "    print(name,\"\\n\",df.groupby('season')['goals'].count()/2, \"\\n\")"
   ]
  },
  {
   "cell_type": "markdown",
   "metadata": {},
   "source": [
    "### percentage_visitor_wins"
   ]
  },
  {
   "cell_type": "code",
   "execution_count": 100,
   "metadata": {},
   "outputs": [
    {
     "name": "stdout",
     "output_type": "stream",
     "text": [
      "dummy \n",
      " 0.5833333333333334 \n",
      "\n"
     ]
    }
   ],
   "source": [
    "for name, df in zip(df_names, dfs):\n",
    "    print(name,\"\\n\", df[df.HoA == \"away\"].won.mean(),\"\\n\")"
   ]
  },
  {
   "cell_type": "markdown",
   "metadata": {},
   "source": [
    "### percentage_home_wins"
   ]
  },
  {
   "cell_type": "code",
   "execution_count": 101,
   "metadata": {},
   "outputs": [
    {
     "name": "stdout",
     "output_type": "stream",
     "text": [
      "dummy \n",
      " 0.4166666666666667 \n",
      "\n"
     ]
    }
   ],
   "source": [
    "for name, df in zip(df_names, dfs):\n",
    "    print(name,\"\\n\", df[df.HoA == \"home\"].won.mean(),\"\\n\")"
   ]
  },
  {
   "cell_type": "markdown",
   "metadata": {},
   "source": [
    " ### average_goals_per_game"
   ]
  },
  {
   "cell_type": "code",
   "execution_count": 102,
   "metadata": {},
   "outputs": [
    {
     "name": "stdout",
     "output_type": "stream",
     "text": [
      "dummy \n",
      " 4.583333333333333 \n",
      "\n"
     ]
    }
   ],
   "source": [
    "for name, df in zip(df_names, dfs):\n",
    "    print(name,\"\\n\", df.groupby('game_id')['goals'].sum().mean(),\"\\n\")"
   ]
  },
  {
   "cell_type": "markdown",
   "metadata": {},
   "source": [
    "### average_goals_by_season"
   ]
  },
  {
   "cell_type": "code",
   "execution_count": 103,
   "metadata": {},
   "outputs": [
    {
     "name": "stdout",
     "output_type": "stream",
     "text": [
      "dummy \n",
      " season\n",
      "20122013    4.666667\n",
      "20142015    3.000000\n",
      "20152016    3.666667\n",
      "20172018    6.500000\n",
      "Name: goals, dtype: float64 \n",
      "\n"
     ]
    }
   ],
   "source": [
    "for name, df in zip(df_names, dfs):\n",
    "    print(name,\"\\n\",df.groupby('season')['goals'].sum() /( df.groupby('season')['goals'].count()/2), \"\\n\")"
   ]
  },
  {
   "cell_type": "markdown",
   "metadata": {},
   "source": [
    "# League Stats"
   ]
  },
  {
   "cell_type": "markdown",
   "metadata": {},
   "source": [
    "### count_of_teams"
   ]
  },
  {
   "cell_type": "code",
   "execution_count": 104,
   "metadata": {},
   "outputs": [
    {
     "name": "stdout",
     "output_type": "stream",
     "text": [
      "dummy \n",
      " 16 \n",
      "\n"
     ]
    }
   ],
   "source": [
    "for name, df in zip(df_names, dfs):\n",
    "    print(name,\"\\n\",df['team_id'].unique().shape[0],\"\\n\")"
   ]
  },
  {
   "cell_type": "markdown",
   "metadata": {},
   "source": [
    "### best_offense"
   ]
  },
  {
   "cell_type": "code",
   "execution_count": 105,
   "metadata": {},
   "outputs": [
    {
     "name": "stdout",
     "output_type": "stream",
     "text": [
      "dummy \n",
      " teamName\n",
      "Lightning    5.0\n",
      "Name: goals, dtype: float64 \n",
      "\n"
     ]
    }
   ],
   "source": [
    "for name, df in zip(df_names, dfs):\n",
    "    print(name,\"\\n\", df.groupby('teamName')['goals'].mean().sort_values(ascending = False).head(1), \"\\n\")"
   ]
  },
  {
   "cell_type": "markdown",
   "metadata": {},
   "source": [
    "### worst_offense"
   ]
  },
  {
   "cell_type": "code",
   "execution_count": 106,
   "metadata": {},
   "outputs": [
    {
     "name": "stdout",
     "output_type": "stream",
     "text": [
      "dummy \n",
      " teamName\n",
      "Hurricanes    1.0\n",
      "Name: goals, dtype: float64 \n",
      "\n"
     ]
    }
   ],
   "source": [
    "for name, df in zip(df_names, dfs):\n",
    "    print(name,\"\\n\", df.groupby('teamName')['goals'].mean().sort_values(ascending = True).head(1), \"\\n\")"
   ]
  },
  {
   "cell_type": "markdown",
   "metadata": {},
   "source": [
    "### worst_defense"
   ]
  },
  {
   "cell_type": "code",
   "execution_count": 107,
   "metadata": {},
   "outputs": [
    {
     "ename": "SyntaxError",
     "evalue": "unexpected EOF while parsing (<ipython-input-107-585b0c3cbd3c>, line 2)",
     "output_type": "error",
     "traceback": [
      "\u001b[0;36m  File \u001b[0;32m\"<ipython-input-107-585b0c3cbd3c>\"\u001b[0;36m, line \u001b[0;32m2\u001b[0m\n\u001b[0;31m    \u001b[0m\n\u001b[0m    ^\u001b[0m\n\u001b[0;31mSyntaxError\u001b[0m\u001b[0;31m:\u001b[0m unexpected EOF while parsing\n"
     ]
    }
   ],
   "source": [
    "for df in dfs:\n",
    "    "
   ]
  },
  {
   "cell_type": "code",
   "execution_count": 108,
   "metadata": {},
   "outputs": [
    {
     "data": {
      "text/html": [
       "<div>\n",
       "<style scoped>\n",
       "    .dataframe tbody tr th:only-of-type {\n",
       "        vertical-align: middle;\n",
       "    }\n",
       "\n",
       "    .dataframe tbody tr th {\n",
       "        vertical-align: top;\n",
       "    }\n",
       "\n",
       "    .dataframe thead th {\n",
       "        text-align: right;\n",
       "    }\n",
       "</style>\n",
       "<table border=\"1\" class=\"dataframe\">\n",
       "  <thead>\n",
       "    <tr style=\"text-align: right;\">\n",
       "      <th></th>\n",
       "      <th>game_id</th>\n",
       "      <th>team_id</th>\n",
       "      <th>HoA</th>\n",
       "      <th>won</th>\n",
       "      <th>settled_in</th>\n",
       "      <th>head_coach</th>\n",
       "      <th>goals</th>\n",
       "      <th>shots</th>\n",
       "      <th>hits</th>\n",
       "      <th>pim</th>\n",
       "      <th>...</th>\n",
       "      <th>takeaways</th>\n",
       "      <th>season</th>\n",
       "      <th>type</th>\n",
       "      <th>date_time</th>\n",
       "      <th>venue_time_zone_tz</th>\n",
       "      <th>teamName</th>\n",
       "      <th>home_goals</th>\n",
       "      <th>away_goals</th>\n",
       "      <th>homeTeam</th>\n",
       "      <th>awayTeam</th>\n",
       "    </tr>\n",
       "  </thead>\n",
       "  <tbody>\n",
       "    <tr>\n",
       "      <th>0</th>\n",
       "      <td>2012030221</td>\n",
       "      <td>3</td>\n",
       "      <td>away</td>\n",
       "      <td>False</td>\n",
       "      <td>OT</td>\n",
       "      <td>John Tortorella</td>\n",
       "      <td>2</td>\n",
       "      <td>35</td>\n",
       "      <td>44</td>\n",
       "      <td>8</td>\n",
       "      <td>...</td>\n",
       "      <td>7</td>\n",
       "      <td>20122013</td>\n",
       "      <td>P</td>\n",
       "      <td>2013-05-16</td>\n",
       "      <td>EDT</td>\n",
       "      <td>Rangers</td>\n",
       "      <td>3</td>\n",
       "      <td>2</td>\n",
       "      <td>Bruins</td>\n",
       "      <td>Rangers</td>\n",
       "    </tr>\n",
       "    <tr>\n",
       "      <th>1</th>\n",
       "      <td>2012030222</td>\n",
       "      <td>3</td>\n",
       "      <td>away</td>\n",
       "      <td>False</td>\n",
       "      <td>REG</td>\n",
       "      <td>John Tortorella</td>\n",
       "      <td>2</td>\n",
       "      <td>37</td>\n",
       "      <td>33</td>\n",
       "      <td>11</td>\n",
       "      <td>...</td>\n",
       "      <td>4</td>\n",
       "      <td>20122013</td>\n",
       "      <td>P</td>\n",
       "      <td>2013-05-19</td>\n",
       "      <td>EDT</td>\n",
       "      <td>Rangers</td>\n",
       "      <td>5</td>\n",
       "      <td>2</td>\n",
       "      <td>Bruins</td>\n",
       "      <td>Rangers</td>\n",
       "    </tr>\n",
       "    <tr>\n",
       "      <th>2</th>\n",
       "      <td>2012030221</td>\n",
       "      <td>6</td>\n",
       "      <td>home</td>\n",
       "      <td>True</td>\n",
       "      <td>OT</td>\n",
       "      <td>Claude Julien</td>\n",
       "      <td>3</td>\n",
       "      <td>48</td>\n",
       "      <td>51</td>\n",
       "      <td>6</td>\n",
       "      <td>...</td>\n",
       "      <td>5</td>\n",
       "      <td>20122013</td>\n",
       "      <td>P</td>\n",
       "      <td>2013-05-16</td>\n",
       "      <td>EDT</td>\n",
       "      <td>Bruins</td>\n",
       "      <td>3</td>\n",
       "      <td>2</td>\n",
       "      <td>Bruins</td>\n",
       "      <td>Rangers</td>\n",
       "    </tr>\n",
       "    <tr>\n",
       "      <th>3</th>\n",
       "      <td>2012030222</td>\n",
       "      <td>6</td>\n",
       "      <td>home</td>\n",
       "      <td>True</td>\n",
       "      <td>REG</td>\n",
       "      <td>Claude Julien</td>\n",
       "      <td>5</td>\n",
       "      <td>32</td>\n",
       "      <td>36</td>\n",
       "      <td>19</td>\n",
       "      <td>...</td>\n",
       "      <td>6</td>\n",
       "      <td>20122013</td>\n",
       "      <td>P</td>\n",
       "      <td>2013-05-19</td>\n",
       "      <td>EDT</td>\n",
       "      <td>Bruins</td>\n",
       "      <td>5</td>\n",
       "      <td>2</td>\n",
       "      <td>Bruins</td>\n",
       "      <td>Rangers</td>\n",
       "    </tr>\n",
       "  </tbody>\n",
       "</table>\n",
       "<p>4 rows × 24 columns</p>\n",
       "</div>"
      ],
      "text/plain": [
       "      game_id  team_id   HoA    won settled_in       head_coach  goals  shots  \\\n",
       "0  2012030221        3  away  False         OT  John Tortorella      2     35   \n",
       "1  2012030222        3  away  False        REG  John Tortorella      2     37   \n",
       "2  2012030221        6  home   True         OT    Claude Julien      3     48   \n",
       "3  2012030222        6  home   True        REG    Claude Julien      5     32   \n",
       "\n",
       "   hits  pim   ...     takeaways    season  type   date_time  \\\n",
       "0    44    8   ...             7  20122013     P  2013-05-16   \n",
       "1    33   11   ...             4  20122013     P  2013-05-19   \n",
       "2    51    6   ...             5  20122013     P  2013-05-16   \n",
       "3    36   19   ...             6  20122013     P  2013-05-19   \n",
       "\n",
       "   venue_time_zone_tz  teamName home_goals away_goals homeTeam awayTeam  \n",
       "0                 EDT   Rangers          3          2   Bruins  Rangers  \n",
       "1                 EDT   Rangers          5          2   Bruins  Rangers  \n",
       "2                 EDT    Bruins          3          2   Bruins  Rangers  \n",
       "3                 EDT    Bruins          5          2   Bruins  Rangers  \n",
       "\n",
       "[4 rows x 24 columns]"
      ]
     },
     "execution_count": 108,
     "metadata": {},
     "output_type": "execute_result"
    }
   ],
   "source": [
    "vs_df"
   ]
  },
  {
   "cell_type": "code",
   "execution_count": 109,
   "metadata": {},
   "outputs": [
    {
     "name": "stdout",
     "output_type": "stream",
     "text": [
      "dummy \n",
      " teamName\n",
      "Sabres    4.0\n",
      "Name: opp_goal, dtype: float64 \n",
      "\n"
     ]
    }
   ],
   "source": [
    "for name, df in zip(df_names, dfs):\n",
    "    print(name,\"\\n\", df.groupby('teamName')['opp_goal'].mean().sort_values(ascending = False).head(1), \"\\n\")"
   ]
  },
  {
   "cell_type": "markdown",
   "metadata": {},
   "source": [
    "### best_defense"
   ]
  },
  {
   "cell_type": "code",
   "execution_count": 110,
   "metadata": {},
   "outputs": [
    {
     "name": "stdout",
     "output_type": "stream",
     "text": [
      "dummy \n",
      " teamName\n",
      "Capitals    1.0\n",
      "Name: opp_goal, dtype: float64 \n",
      "\n"
     ]
    }
   ],
   "source": [
    "for name, df in zip(df_names, dfs):\n",
    "    print(name,\"\\n\", df.groupby('teamName')['opp_goal'].mean().sort_values(ascending = True).head(1), \"\\n\")"
   ]
  },
  {
   "cell_type": "markdown",
   "metadata": {},
   "source": [
    "### highest_scoring_home_team"
   ]
  },
  {
   "cell_type": "code",
   "execution_count": 111,
   "metadata": {},
   "outputs": [
    {
     "name": "stdout",
     "output_type": "stream",
     "text": [
      "dummy \n",
      " teamName\n",
      "Lightning    5\n",
      "Name: goals, dtype: int64 \n",
      "\n"
     ]
    }
   ],
   "source": [
    "for name, df in zip(df_names, dfs):\n",
    "    print(name,\"\\n\", df[df.HoA == \"home\"].groupby(\"teamName\")['goals'].mean().sort_values(ascending = False).head(1), \"\\n\") "
   ]
  },
  {
   "cell_type": "markdown",
   "metadata": {},
   "source": [
    "### lowest_scoring_home_team"
   ]
  },
  {
   "cell_type": "code",
   "execution_count": 112,
   "metadata": {},
   "outputs": [
    {
     "name": "stdout",
     "output_type": "stream",
     "text": [
      "dummy \n",
      " teamName\n",
      "Devils    1\n",
      "Name: goals, dtype: int64 \n",
      "\n"
     ]
    }
   ],
   "source": [
    "for name, df in zip(df_names, dfs):\n",
    "    print(name,\"\\n\", df[df.HoA == \"home\"].groupby(\"teamName\")['goals'].mean().sort_values(ascending = True).head(1), \"\\n\") "
   ]
  },
  {
   "cell_type": "markdown",
   "metadata": {},
   "source": [
    "### highest_scoring_visitor"
   ]
  },
  {
   "cell_type": "code",
   "execution_count": 113,
   "metadata": {},
   "outputs": [
    {
     "name": "stdout",
     "output_type": "stream",
     "text": [
      "dummy \n",
      " teamName\n",
      "Canucks    4.0\n",
      "Name: goals, dtype: float64 \n",
      "\n"
     ]
    }
   ],
   "source": [
    "for name, df in zip(df_names, dfs):\n",
    "    print(name,\"\\n\", df[df.HoA == \"away\"].groupby(\"teamName\")['goals'].mean().sort_values(ascending = False).head(1), \"\\n\") "
   ]
  },
  {
   "cell_type": "markdown",
   "metadata": {},
   "source": [
    "### lowest_scoring_visitor"
   ]
  },
  {
   "cell_type": "code",
   "execution_count": 114,
   "metadata": {},
   "outputs": [
    {
     "name": "stdout",
     "output_type": "stream",
     "text": [
      "dummy \n",
      " teamName\n",
      "Hurricanes    1.0\n",
      "Name: goals, dtype: float64 \n",
      "\n"
     ]
    }
   ],
   "source": [
    "for name, df in zip(df_names, dfs):\n",
    "    print(name,\"\\n\", df[df.HoA == \"away\"].groupby(\"teamName\")['goals'].mean().sort_values(ascending = True).head(1), \"\\n\") "
   ]
  },
  {
   "cell_type": "markdown",
   "metadata": {},
   "source": [
    "### winnigest_team"
   ]
  },
  {
   "cell_type": "code",
   "execution_count": 115,
   "metadata": {},
   "outputs": [
    {
     "name": "stdout",
     "output_type": "stream",
     "text": [
      "dummy \n",
      " teamName\n",
      "Penguins    1.0\n",
      "Name: won, dtype: float64 \n",
      "\n"
     ]
    }
   ],
   "source": [
    "for name, df in zip(df_names, dfs):\n",
    "    print(name,\"\\n\", df.groupby(\"teamName\")['won'].mean().sort_values(ascending = False).head(1), \"\\n\")"
   ]
  },
  {
   "cell_type": "markdown",
   "metadata": {},
   "source": [
    "### best_fans"
   ]
  },
  {
   "cell_type": "code",
   "execution_count": 116,
   "metadata": {},
   "outputs": [
    {
     "name": "stdout",
     "output_type": "stream",
     "text": [
      "dummy \n",
      " teamName\n",
      "Rangers    0.0\n",
      "Name: won, dtype: float64 \n",
      "\n"
     ]
    }
   ],
   "source": [
    "for name, df in zip(df_names, dfs):\n",
    "    home_win = df[df.HoA == \"home\"].groupby(\"teamName\")['won'].mean().sort_index()\n",
    "    away_win = df[df.HoA == \"away\"].groupby(\"teamName\")['won'].mean().sort_index()\n",
    "    \n",
    "    print(name, \"\\n\", (home_win-away_win).sort_values(ascending = False).head(1), \"\\n\")"
   ]
  },
  {
   "cell_type": "markdown",
   "metadata": {},
   "source": [
    "### worst_fans\n",
    "\n",
    "**should be empty arrays**"
   ]
  },
  {
   "cell_type": "code",
   "execution_count": 117,
   "metadata": {},
   "outputs": [
    {
     "name": "stdout",
     "output_type": "stream",
     "text": [
      "dummy \n",
      " teamName\n",
      "Sharks   -1.0\n",
      "Name: won, dtype: float64 \n",
      "\n"
     ]
    }
   ],
   "source": [
    "for name, df in zip(df_names, dfs):\n",
    "    home_win = df[df.HoA == \"home\"].groupby(\"teamName\")['won'].mean().sort_index()\n",
    "    away_win = df[df.HoA == \"away\"].groupby(\"teamName\")['won'].mean().sort_index()\n",
    "#     print(home_win)\n",
    "#     print(away_win)\n",
    "    home_minus_away = (home_win-away_win)\n",
    "    \n",
    "    print(name, \"\\n\", home_minus_away[home_minus_away <0], \"\\n\")"
   ]
  },
  {
   "cell_type": "markdown",
   "metadata": {},
   "source": [
    "# Team Statistics"
   ]
  },
  {
   "cell_type": "markdown",
   "metadata": {},
   "source": [
    "### team_info"
   ]
  },
  {
   "cell_type": "code",
   "execution_count": 118,
   "metadata": {},
   "outputs": [
    {
     "name": "stdout",
     "output_type": "stream",
     "text": [
      "dummy \n",
      " {'head_coach': {'Blackhawks': array(['Joel Quenneville'], dtype=object), 'Blues': array(['Ken Hitchcock'], dtype=object), 'Bruins': array(['Claude Julien'], dtype=object), 'Canucks': array(['Travis Green'], dtype=object), 'Capitals': array(['Adam Oates'], dtype=object), 'Coyotes': array(['Dave Tippett'], dtype=object), 'Devils': array(['John Hynes'], dtype=object), 'Hurricanes': array(['Kirk Muller'], dtype=object), 'Kings': array(['Darryl Sutter'], dtype=object), 'Lightning': array(['Jon Cooper'], dtype=object), 'Oilers': array(['Todd Nelson'], dtype=object), 'Penguins': array(['Mike Sullivan'], dtype=object), 'Rangers': array(['John Tortorella'], dtype=object), 'Sabres': array(['Phil Housley'], dtype=object), 'Sharks': array(['Peter DeBoer'], dtype=object), 'Wild': array(['Mike Yeo'], dtype=object)}, 'teamName': {'Blackhawks': array(['Blackhawks'], dtype=object), 'Blues': array(['Blues'], dtype=object), 'Bruins': array(['Bruins'], dtype=object), 'Canucks': array(['Canucks'], dtype=object), 'Capitals': array(['Capitals'], dtype=object), 'Coyotes': array(['Coyotes'], dtype=object), 'Devils': array(['Devils'], dtype=object), 'Hurricanes': array(['Hurricanes'], dtype=object), 'Kings': array(['Kings'], dtype=object), 'Lightning': array(['Lightning'], dtype=object), 'Oilers': array(['Oilers'], dtype=object), 'Penguins': array(['Penguins'], dtype=object), 'Rangers': array(['Rangers'], dtype=object), 'Sabres': array(['Sabres'], dtype=object), 'Sharks': array(['Sharks'], dtype=object), 'Wild': array(['Wild'], dtype=object)}} /n\n"
     ]
    }
   ],
   "source": [
    "for name, df in zip(df_names, dfs):\n",
    "    print(name,\"\\n\", pd.concat([df.groupby(\"teamName\")['head_coach'].unique(),df.groupby(\"teamName\")['teamName'].unique()], axis = 1).to_dict(), \"/n\")"
   ]
  },
  {
   "cell_type": "markdown",
   "metadata": {},
   "source": [
    "### best_season"
   ]
  },
  {
   "cell_type": "code",
   "execution_count": 119,
   "metadata": {},
   "outputs": [
    {
     "name": "stdout",
     "output_type": "stream",
     "text": [
      "dummy \n",
      "\n",
      "teamName: Blackhawks best season 20122013\n",
      "teamName: Blues best season 20152016\n",
      "teamName: Bruins best season 20122013\n",
      "teamName: Canucks best season 20172018\n",
      "teamName: Capitals best season 20122013\n",
      "teamName: Coyotes best season 20122013\n",
      "teamName: Devils best season 20172018\n",
      "teamName: Hurricanes best season 20122013\n",
      "teamName: Kings best season 20122013\n",
      "teamName: Lightning best season 20172018\n",
      "teamName: Oilers best season 20142015\n",
      "teamName: Penguins best season 20152016\n",
      "teamName: Rangers best season 20122013\n",
      "teamName: Sabres best season 20172018\n",
      "teamName: Sharks best season 20152016\n",
      "teamName: Wild best season 20142015\n",
      "\n",
      "\n"
     ]
    }
   ],
   "source": [
    "for name, df in zip(df_names, dfs):\n",
    "    data = df.groupby([\"teamName\", \"season\"])[\"won\"].mean().unstack().T\n",
    "    \n",
    "    print(name,\"\\n\")\n",
    "    for col in data:\n",
    "        print(\"teamName:\", col, \"best season\", data[col].sort_values(ascending = False).head(1).index[0])\n",
    "          \n",
    "    print(\"\\n\")"
   ]
  },
  {
   "cell_type": "markdown",
   "metadata": {},
   "source": [
    "### worst_season"
   ]
  },
  {
   "cell_type": "code",
   "execution_count": 120,
   "metadata": {
    "scrolled": true
   },
   "outputs": [
    {
     "name": "stdout",
     "output_type": "stream",
     "text": [
      "dummy \n",
      "\n",
      "teamName: Blackhawks worst season 20122013\n",
      "teamName: Blues worst season 20122013\n",
      "teamName: Bruins worst season 20122013\n",
      "teamName: Canucks worst season 20172018\n",
      "teamName: Capitals worst season 20122013\n",
      "teamName: Coyotes worst season 20122013\n",
      "teamName: Devils worst season 20152016\n",
      "teamName: Hurricanes worst season 20122013\n",
      "teamName: Kings worst season 20122013\n",
      "teamName: Lightning worst season 20172018\n",
      "teamName: Oilers worst season 20142015\n",
      "teamName: Penguins worst season 20152016\n",
      "teamName: Rangers worst season 20122013\n",
      "teamName: Sabres worst season 20172018\n",
      "teamName: Sharks worst season 20152016\n",
      "teamName: Wild worst season 20152016\n",
      "\n",
      "\n"
     ]
    }
   ],
   "source": [
    "for name, df in zip(df_names, dfs):\n",
    "    data = df.groupby([\"teamName\", \"season\"])[\"won\"].mean().unstack().T\n",
    "    \n",
    "    print(name,\"\\n\")\n",
    "    for col in data:\n",
    "        print(\"teamName:\", col, \"worst season\", data[col].sort_values(ascending = True).head(1).index[0])\n",
    "          \n",
    "    print(\"\\n\")"
   ]
  },
  {
   "cell_type": "markdown",
   "metadata": {},
   "source": [
    "### average_win_percentage"
   ]
  },
  {
   "cell_type": "code",
   "execution_count": 121,
   "metadata": {},
   "outputs": [
    {
     "name": "stdout",
     "output_type": "stream",
     "text": [
      "dummy \n",
      "\n",
      "teamName: Blackhawks avg win pct 0.0\n",
      "teamName: Blues avg win pct 0.5\n",
      "teamName: Bruins avg win pct 1.0\n",
      "teamName: Canucks avg win pct 1.0\n",
      "teamName: Capitals avg win pct 1.0\n",
      "teamName: Coyotes avg win pct 1.0\n",
      "teamName: Devils avg win pct 0.0\n",
      "teamName: Hurricanes avg win pct 0.0\n",
      "teamName: Kings avg win pct 1.0\n",
      "teamName: Lightning avg win pct 1.0\n",
      "teamName: Oilers avg win pct 0.0\n",
      "teamName: Penguins avg win pct 1.0\n",
      "teamName: Rangers avg win pct 0.0\n",
      "teamName: Sabres avg win pct 0.0\n",
      "teamName: Sharks avg win pct 0.5\n",
      "teamName: Wild avg win pct 0.5\n",
      "\n",
      "\n"
     ]
    }
   ],
   "source": [
    "for name, df in zip(df_names, dfs):\n",
    "    data = df.groupby([\"teamName\", \"season\"])[\"won\"].mean().unstack().T\n",
    "    \n",
    "    print(name,\"\\n\")\n",
    "    for col in data:\n",
    "        print(\"teamName:\", col, \"avg win pct\", round(data[col].mean(),4))\n",
    "          \n",
    "    print(\"\\n\")"
   ]
  },
  {
   "cell_type": "markdown",
   "metadata": {},
   "source": [
    "### most_goals_scored"
   ]
  },
  {
   "cell_type": "code",
   "execution_count": 122,
   "metadata": {},
   "outputs": [
    {
     "name": "stdout",
     "output_type": "stream",
     "text": [
      "dummy \n",
      "\n",
      "teamName: Blackhawks most_goals 2.0\n",
      "teamName: Blues most_goals 4.0\n",
      "teamName: Bruins most_goals 5.0\n",
      "teamName: Canucks most_goals 4.0\n",
      "teamName: Capitals most_goals 3.0\n",
      "teamName: Coyotes most_goals 2.0\n",
      "teamName: Devils most_goals 2.0\n",
      "teamName: Hurricanes most_goals 1.0\n",
      "teamName: Kings most_goals 3.0\n",
      "teamName: Lightning most_goals 5.0\n",
      "teamName: Oilers most_goals 1.0\n",
      "teamName: Penguins most_goals 3.0\n",
      "teamName: Rangers most_goals 2.0\n",
      "teamName: Sabres most_goals 2.0\n",
      "teamName: Sharks most_goals 1.0\n",
      "teamName: Wild most_goals 2.0\n",
      "\n",
      "\n"
     ]
    }
   ],
   "source": [
    "for name, df in zip(df_names, dfs):\n",
    "    data = df.groupby([\"teamName\", \"season\"])[\"goals\"].max().unstack().T\n",
    "    \n",
    "    print(name,\"\\n\")\n",
    "    for col in data:\n",
    "        print(\"teamName:\", col, \"most_goals\", data[col].sort_values(ascending = False).iloc[0])\n",
    "          \n",
    "    print(\"\\n\")"
   ]
  },
  {
   "cell_type": "markdown",
   "metadata": {},
   "source": [
    "### fewest_goals_scored"
   ]
  },
  {
   "cell_type": "code",
   "execution_count": 123,
   "metadata": {},
   "outputs": [
    {
     "name": "stdout",
     "output_type": "stream",
     "text": [
      "dummy \n",
      "\n",
      "teamName: Blackhawks fewest goals 2.0\n",
      "teamName: Blues fewest goals 2.0\n",
      "teamName: Bruins fewest goals 2.0\n",
      "teamName: Canucks fewest goals 4.0\n",
      "teamName: Capitals fewest goals 3.0\n",
      "teamName: Coyotes fewest goals 2.0\n",
      "teamName: Devils fewest goals 1.0\n",
      "teamName: Hurricanes fewest goals 1.0\n",
      "teamName: Kings fewest goals 3.0\n",
      "teamName: Lightning fewest goals 5.0\n",
      "teamName: Oilers fewest goals 1.0\n",
      "teamName: Penguins fewest goals 3.0\n",
      "teamName: Rangers fewest goals 1.0\n",
      "teamName: Sabres fewest goals 2.0\n",
      "teamName: Sharks fewest goals 1.0\n",
      "teamName: Wild fewest goals 1.0\n",
      "\n",
      "\n"
     ]
    }
   ],
   "source": [
    "for name, df in zip(df_names, dfs):\n",
    "    data = df.groupby([\"teamName\", \"season\"])[\"goals\"].min().unstack().T\n",
    "    \n",
    "    print(name,\"\\n\")\n",
    "    for col in data:\n",
    "        print(\"teamName:\", col, \"fewest goals\", data[col].sort_values(ascending = True).iloc[0])\n",
    "          \n",
    "    print(\"\\n\")"
   ]
  },
  {
   "cell_type": "markdown",
   "metadata": {},
   "source": [
    "### favorite_opponent\n",
    "\n",
    "name of opponent with lowest win pct agains team"
   ]
  },
  {
   "cell_type": "code",
   "execution_count": 124,
   "metadata": {},
   "outputs": [
    {
     "name": "stdout",
     "output_type": "stream",
     "text": [
      "dummy\n",
      "team_name:  Blackhawks fav_opp: Coyotes\n",
      "team_name:  Blues fav_opp: Wild\n",
      "team_name:  Bruins fav_opp: Rangers\n",
      "team_name:  Canucks fav_opp: Sabres\n",
      "team_name:  Capitals fav_opp: Hurricanes\n",
      "team_name:  Coyotes fav_opp: Blackhawks\n",
      "team_name:  Devils fav_opp: Sharks\n",
      "team_name:  Hurricanes fav_opp: Capitals\n",
      "team_name:  Kings fav_opp: Blues\n",
      "team_name:  Lightning fav_opp: Devils\n",
      "team_name:  Oilers fav_opp: Wild\n",
      "team_name:  Penguins fav_opp: Sharks\n",
      "team_name:  Rangers fav_opp: Bruins\n",
      "team_name:  Sabres fav_opp: Canucks\n",
      "team_name:  Sharks fav_opp: Devils\n",
      "team_name:  Wild fav_opp: Oilers\n",
      "\n",
      "\n",
      "\n"
     ]
    }
   ],
   "source": [
    "for df,name in zip(dfs,df_names):\n",
    "    print(name)\n",
    "    data = df.groupby([\"teamName\",\"opp_team\"])[\"won\"].mean().unstack().T\n",
    "\n",
    "    for col in data:\n",
    "        print(\"team_name: \", col, \"fav_opp:\", data[col].sort_values(ascending = False).index[0])\n",
    "        \n",
    "    print(\"\\n\\n\")"
   ]
  },
  {
   "cell_type": "markdown",
   "metadata": {},
   "source": [
    "### rival\n",
    "name of opponent with higest win pct against team"
   ]
  },
  {
   "cell_type": "code",
   "execution_count": 125,
   "metadata": {},
   "outputs": [
    {
     "name": "stdout",
     "output_type": "stream",
     "text": [
      "dummy\n",
      "team_name:  Blackhawks rival: Coyotes\n",
      "team_name:  Blues rival: Kings\n",
      "team_name:  Bruins rival: Rangers\n",
      "team_name:  Canucks rival: Sabres\n",
      "team_name:  Capitals rival: Hurricanes\n",
      "team_name:  Coyotes rival: Blackhawks\n",
      "team_name:  Devils rival: Lightning\n",
      "team_name:  Hurricanes rival: Capitals\n",
      "team_name:  Kings rival: Blues\n",
      "team_name:  Lightning rival: Devils\n",
      "team_name:  Oilers rival: Wild\n",
      "team_name:  Penguins rival: Sharks\n",
      "team_name:  Rangers rival: Bruins\n",
      "team_name:  Sabres rival: Canucks\n",
      "team_name:  Sharks rival: Penguins\n",
      "team_name:  Wild rival: Blues\n",
      "\n",
      "\n",
      "\n"
     ]
    }
   ],
   "source": [
    "for df,name in zip(dfs,df_names):\n",
    "    print(name)\n",
    "    data = df.groupby([\"teamName\",\"opp_team\"])[\"won\"].mean().unstack().T\n",
    "\n",
    "    for col in data:\n",
    "        print(\"team_name: \", col, \"rival:\", data[col].sort_values(ascending = True).index[0])\n",
    "        \n",
    "    print(\"\\n\\n\")"
   ]
  },
  {
   "cell_type": "markdown",
   "metadata": {},
   "source": [
    "### biggest_team_blowout\n",
    "biggest diff between team and opponent goals in WIN for given team"
   ]
  },
  {
   "cell_type": "code",
   "execution_count": 126,
   "metadata": {},
   "outputs": [
    {
     "ename": "KeyError",
     "evalue": "'Column not found: margin'",
     "output_type": "error",
     "traceback": [
      "\u001b[0;31m---------------------------------------------------------------------------\u001b[0m",
      "\u001b[0;31mKeyError\u001b[0m                                  Traceback (most recent call last)",
      "\u001b[0;32m<ipython-input-126-b69467fe37eb>\u001b[0m in \u001b[0;36m<module>\u001b[0;34m\u001b[0m\n\u001b[0;32m----> 1\u001b[0;31m \u001b[0mdata\u001b[0m \u001b[0;34m=\u001b[0m \u001b[0mfull_df\u001b[0m\u001b[0;34m[\u001b[0m\u001b[0mfull_df\u001b[0m\u001b[0;34m.\u001b[0m\u001b[0mwon\u001b[0m \u001b[0;34m==\u001b[0m \u001b[0;32mTrue\u001b[0m\u001b[0;34m]\u001b[0m\u001b[0;34m.\u001b[0m\u001b[0mgroupby\u001b[0m\u001b[0;34m(\u001b[0m\u001b[0;34m'teamName'\u001b[0m\u001b[0;34m)\u001b[0m\u001b[0;34m[\u001b[0m\u001b[0;34m'margin'\u001b[0m\u001b[0;34m]\u001b[0m\u001b[0;34m.\u001b[0m\u001b[0mmax\u001b[0m\u001b[0;34m(\u001b[0m\u001b[0;34m)\u001b[0m\u001b[0;34m\u001b[0m\u001b[0;34m\u001b[0m\u001b[0m\n\u001b[0m",
      "\u001b[0;32m/anaconda3/lib/python3.7/site-packages/pandas/core/base.py\u001b[0m in \u001b[0;36m__getitem__\u001b[0;34m(self, key)\u001b[0m\n\u001b[1;32m    265\u001b[0m         \u001b[0;32melse\u001b[0m\u001b[0;34m:\u001b[0m\u001b[0;34m\u001b[0m\u001b[0;34m\u001b[0m\u001b[0m\n\u001b[1;32m    266\u001b[0m             \u001b[0;32mif\u001b[0m \u001b[0mkey\u001b[0m \u001b[0;32mnot\u001b[0m \u001b[0;32min\u001b[0m \u001b[0mself\u001b[0m\u001b[0;34m.\u001b[0m\u001b[0mobj\u001b[0m\u001b[0;34m:\u001b[0m\u001b[0;34m\u001b[0m\u001b[0;34m\u001b[0m\u001b[0m\n\u001b[0;32m--> 267\u001b[0;31m                 \u001b[0;32mraise\u001b[0m \u001b[0mKeyError\u001b[0m\u001b[0;34m(\u001b[0m\u001b[0;34m\"Column not found: {key}\"\u001b[0m\u001b[0;34m.\u001b[0m\u001b[0mformat\u001b[0m\u001b[0;34m(\u001b[0m\u001b[0mkey\u001b[0m\u001b[0;34m=\u001b[0m\u001b[0mkey\u001b[0m\u001b[0;34m)\u001b[0m\u001b[0;34m)\u001b[0m\u001b[0;34m\u001b[0m\u001b[0;34m\u001b[0m\u001b[0m\n\u001b[0m\u001b[1;32m    268\u001b[0m             \u001b[0;32mreturn\u001b[0m \u001b[0mself\u001b[0m\u001b[0;34m.\u001b[0m\u001b[0m_gotitem\u001b[0m\u001b[0;34m(\u001b[0m\u001b[0mkey\u001b[0m\u001b[0;34m,\u001b[0m \u001b[0mndim\u001b[0m\u001b[0;34m=\u001b[0m\u001b[0;36m1\u001b[0m\u001b[0;34m)\u001b[0m\u001b[0;34m\u001b[0m\u001b[0;34m\u001b[0m\u001b[0m\n\u001b[1;32m    269\u001b[0m \u001b[0;34m\u001b[0m\u001b[0m\n",
      "\u001b[0;31mKeyError\u001b[0m: 'Column not found: margin'"
     ]
    }
   ],
   "source": [
    "data = full_df[full_df.won == True].groupby('teamName')['margin'].max()"
   ]
  },
  {
   "cell_type": "code",
   "execution_count": 127,
   "metadata": {},
   "outputs": [
    {
     "name": "stdout",
     "output_type": "stream",
     "text": [
      "dummy\n",
      "teamName\n",
      "Blues        3\n",
      "Bruins       3\n",
      "Canucks      2\n",
      "Capitals     2\n",
      "Coyotes      0\n",
      "Kings        1\n",
      "Lightning    3\n",
      "Penguins     2\n",
      "Sharks       0\n",
      "Wild         1\n",
      "Name: margin, dtype: int64\n",
      "\n",
      "\n",
      "\n"
     ]
    }
   ],
   "source": [
    "for df,name in zip(dfs,df_names):\n",
    "    print(name)\n",
    "    print(df[df.won == True].groupby('teamName')['margin'].max())\n",
    "    \n",
    "    print(\"\\n\\n\")"
   ]
  },
  {
   "cell_type": "markdown",
   "metadata": {},
   "source": [
    "### worst_loss\n",
    "biggest LOSS blowout"
   ]
  },
  {
   "cell_type": "code",
   "execution_count": 128,
   "metadata": {},
   "outputs": [
    {
     "name": "stdout",
     "output_type": "stream",
     "text": [
      "dummy\n",
      "teamName\n",
      "Blackhawks   -1\n",
      "Blues        -1\n",
      "Devils       -3\n",
      "Hurricanes   -2\n",
      "Oilers       -1\n",
      "Rangers      -3\n",
      "Sabres       -2\n",
      "Sharks       -2\n",
      "Wild         -3\n",
      "Name: margin, dtype: int64\n",
      "\n",
      "\n",
      "\n"
     ]
    }
   ],
   "source": [
    "for df,name in zip(dfs,df_names):\n",
    "    print(name)\n",
    "    print(df[df.won == False].groupby('teamName')['margin'].min())\n",
    "    \n",
    "    print(\"\\n\\n\")"
   ]
  },
  {
   "cell_type": "markdown",
   "metadata": {},
   "source": [
    "### head_to_head\n",
    "record (as hash-- win/loss) against specific opponent"
   ]
  },
  {
   "cell_type": "code",
   "execution_count": 129,
   "metadata": {
    "scrolled": false
   },
   "outputs": [
    {
     "name": "stdout",
     "output_type": "stream",
     "text": [
      "dummy\n",
      "{('Blackhawks', 'Coyotes'): {'wins': 0.0, 'losses': 1.0}, ('Blues', 'Kings'): {'wins': 0.0, 'losses': 1.0}, ('Blues', 'Wild'): {'wins': 1.0, 'losses': 0.0}, ('Bruins', 'Rangers'): {'wins': 3.0, 'losses': 0.0}, ('Canucks', 'Sabres'): {'wins': 1.0, 'losses': 0.0}, ('Capitals', 'Hurricanes'): {'wins': 1.0, 'losses': 0.0}, ('Coyotes', 'Blackhawks'): {'wins': 1.0, 'losses': 0.0}, ('Devils', 'Lightning'): {'wins': 0.0, 'losses': 1.0}, ('Devils', 'Sharks'): {'wins': 0.0, 'losses': 1.0}, ('Hurricanes', 'Capitals'): {'wins': 0.0, 'losses': 1.0}, ('Kings', 'Blues'): {'wins': 1.0, 'losses': 0.0}, ('Lightning', 'Devils'): {'wins': 1.0, 'losses': 0.0}, ('Oilers', 'Wild'): {'wins': 0.0, 'losses': 1.0}, ('Penguins', 'Sharks'): {'wins': 1.0, 'losses': 0.0}, ('Rangers', 'Bruins'): {'wins': 0.0, 'losses': 3.0}, ('Sabres', 'Canucks'): {'wins': 0.0, 'losses': 1.0}, ('Sharks', 'Devils'): {'wins': 1.0, 'losses': 0.0}, ('Sharks', 'Penguins'): {'wins': 0.0, 'losses': 1.0}, ('Wild', 'Blues'): {'wins': 0.0, 'losses': 1.0}, ('Wild', 'Oilers'): {'wins': 1.0, 'losses': 0.0}}\n",
      "\n",
      "\n",
      "\n"
     ]
    }
   ],
   "source": [
    "for df,name in zip(dfs,df_names):\n",
    "    print(name)\n",
    "    \n",
    "    data = df.groupby(['teamName','opp_team'])['won'].agg([len,sum])\n",
    "    data['wins'] = data['sum']\n",
    "    data['losses'] = data['len'] - data['sum']\n",
    "\n",
    "    print(data[['wins','losses']].T.to_dict())\n",
    "    \n",
    "    print(\"\\n\\n\")"
   ]
  },
  {
   "cell_type": "markdown",
   "metadata": {},
   "source": [
    "### seasonal_summary\n",
    "\n",
    "for each season that team has played, has hash with two keys \"preseason\" and \"postseason\" pointing to hash with win_percentage, total_goals_scored, total_goals_against, average_goals_scored, averate_goals_against"
   ]
  },
  {
   "cell_type": "code",
   "execution_count": 130,
   "metadata": {
    "scrolled": false
   },
   "outputs": [
    {
     "name": "stdout",
     "output_type": "stream",
     "text": [
      "dummy\n",
      "                          win_pct  tot_goals  avg_goals  tot_ga       gaa\n",
      "teamName   season   type                                                 \n",
      "Blackhawks 20122013 R       False          2   2.000000       3  3.000000\n",
      "Blues      20122013 P       False          2   2.000000       3  3.000000\n",
      "           20152016 R        True          4   4.000000       1  1.000000\n",
      "Bruins     20122013 P        True         10   3.333333       5  1.666667\n",
      "Canucks    20172018 R        True          4   4.000000       2  2.000000\n",
      "Capitals   20122013 R        True          3   3.000000       1  1.000000\n",
      "Coyotes    20122013 R        True          2   2.000000       2  2.000000\n",
      "Devils     20152016 R       False          1   1.000000       2  2.000000\n",
      "           20172018 P       False          2   2.000000       5  5.000000\n",
      "Hurricanes 20122013 R       False          1   1.000000       3  3.000000\n",
      "Kings      20122013 P        True          3   3.000000       2  2.000000\n",
      "Lightning  20172018 P        True          5   5.000000       2  2.000000\n",
      "Oilers     20142015 R       False          1   1.000000       2  2.000000\n",
      "Penguins   20152016 P        True          3   3.000000       1  1.000000\n",
      "Rangers    20122013 P       False          5   1.666667      10  3.333333\n",
      "Sabres     20172018 R       False          2   2.000000       4  4.000000\n",
      "Sharks     20152016 P       False          1   1.000000       3  3.000000\n",
      "                    R        True          1   1.000000       1  1.000000\n",
      "Wild       20142015 R        True          2   2.000000       1  1.000000\n",
      "           20152016 R       False          1   1.000000       4  4.000000\n",
      "\n",
      "\n",
      "\n"
     ]
    }
   ],
   "source": [
    "for df,name in zip(dfs,df_names):\n",
    "    print(name)\n",
    "    gb = df.groupby(['teamName','season',\"type\"])\n",
    "    wp = pd.DataFrame(gb['won'].mean())\n",
    "    wp.columns = ['win_pct']\n",
    "\n",
    "    gol = gb['goals'].agg([sum,np.mean])\n",
    "    gol.columns = [\"tot_goals\",\"avg_goals\"]\n",
    "\n",
    "    ga = gb['opp_goal'].agg([sum,np.mean])\n",
    "    ga.columns = [\"tot_ga\",\"gaa\"]\n",
    "    ga\n",
    "\n",
    "    print(pd.concat([wp,gol,ga], axis = 1))\n",
    "    print(\"\\n\\n\")"
   ]
  },
  {
   "cell_type": "markdown",
   "metadata": {},
   "source": [
    "# Season Statistics\n",
    "### biggest_bust\n",
    "\n",
    "biggest decrease between pre-season and regular season win pct  \n",
    "\n",
    "ONly possible on full data -- no regular season data in small and very_small data"
   ]
  },
  {
   "cell_type": "code",
   "execution_count": 131,
   "metadata": {
    "scrolled": false
   },
   "outputs": [
    {
     "name": "stdout",
     "output_type": "stream",
     "text": [
      "full\n",
      "Season: 20122013 Biggest bust team Canucks\n",
      "Season: 20132014 Biggest bust team Lightning\n",
      "Season: 20142015 Biggest bust team Jets\n",
      "Season: 20152016 Biggest bust team Kings\n",
      "Season: 20162017 Biggest bust team Blackhawks\n",
      "Season: 20172018 Biggest bust team Kings\n",
      "\n",
      "\n",
      "\n"
     ]
    }
   ],
   "source": [
    "\n",
    "print(\"full\")\n",
    "data = full_df.groupby(['teamName','season','type'])['won'].mean()\n",
    "to_df = []\n",
    "for idx in data.index:\n",
    "    to_df.append([*idx, data[idx]])\n",
    "data = pd.DataFrame(to_df, columns = [\"teamName\",\"season\",\"type\",\"wp\"])\n",
    "p_team= p_season= p_gtype= p_wp = 0\n",
    "diffs = []\n",
    "for idx in data.index:\n",
    "\n",
    "    team, season, g_type, wp = data.loc[idx,:]\n",
    "    if team == p_team:\n",
    "        if season == p_season:\n",
    "            if g_type == \"P\":\n",
    "                post_wp = wp\n",
    "                reg_wp = p_wp\n",
    "            else:\n",
    "                post_wp = p_wp\n",
    "                reg_wp = wp\n",
    "\n",
    "            diffs.append([team, season, post_wp-reg_wp])\n",
    "    p_team = team; p_season = season; p_gtype = g_type; p_wp = wp\n",
    "\n",
    "aggd = pd.DataFrame(diffs, columns = ['team','season', 'post_minus_reg_win_pct'])\n",
    "gb = aggd.groupby(['season', 'team'])['post_minus_reg_win_pct'].max().unstack().T\n",
    "\n",
    "for col in gb:\n",
    "    sort_pct = gb[col].sort_values(ascending= True)\n",
    "    print(\"Season:\", col, \"Biggest bust team\", sort_pct.index[0])\n",
    "\n",
    "print(\"\\n\\n\")\n"
   ]
  },
  {
   "cell_type": "markdown",
   "metadata": {},
   "source": [
    "### biggest_surprise\n",
    "biggest increase between pre-season and regular season"
   ]
  },
  {
   "cell_type": "code",
   "execution_count": 132,
   "metadata": {},
   "outputs": [
    {
     "name": "stdout",
     "output_type": "stream",
     "text": [
      "full\n",
      "Season: 20122013 Biggest surprise team Sharks\n",
      "Season: 20132014 Biggest surprise team Kings\n",
      "Season: 20142015 Biggest surprise team Blackhawks\n",
      "Season: 20152016 Biggest surprise team Lightning\n",
      "Season: 20162017 Biggest surprise team Predators\n",
      "Season: 20172018 Biggest surprise team Capitals\n",
      "\n",
      "\n",
      "\n"
     ]
    }
   ],
   "source": [
    "print(\"full\")\n",
    "data = full_df.groupby(['teamName','season','type'])['won'].mean()\n",
    "to_df = []\n",
    "for idx in data.index:\n",
    "    to_df.append([*idx, data[idx]])\n",
    "data = pd.DataFrame(to_df, columns = [\"teamName\",\"season\",\"type\",\"wp\"])\n",
    "p_team= p_season= p_gtype= p_wp = 0\n",
    "diffs = []\n",
    "for idx in data.index:\n",
    "\n",
    "    team, season, g_type, wp = data.loc[idx,:]\n",
    "    if team == p_team:\n",
    "        if season == p_season:\n",
    "            if g_type == \"P\":\n",
    "                post_wp = wp\n",
    "                reg_wp = p_wp\n",
    "            else:\n",
    "                post_wp = p_wp\n",
    "                reg_wp = wp\n",
    "\n",
    "            diffs.append([team, season, post_wp-reg_wp])\n",
    "    p_team = team; p_season = season; p_gtype = g_type; p_wp = wp\n",
    "\n",
    "aggd = pd.DataFrame(diffs, columns = ['team','season', 'post_minus_reg_win_pct'])\n",
    "gb = aggd.groupby(['season', 'team'])['post_minus_reg_win_pct'].max().unstack().T\n",
    "\n",
    "for col in gb:\n",
    "    sort_pct = gb[col].sort_values(ascending= False)\n",
    "    print(\"Season:\", col, \"Biggest surprise team\", sort_pct.index[0])\n",
    "\n",
    "print(\"\\n\\n\")"
   ]
  },
  {
   "cell_type": "markdown",
   "metadata": {},
   "source": [
    "### winningest_coach\n",
    "coach with best win pct for the season"
   ]
  },
  {
   "cell_type": "code",
   "execution_count": 133,
   "metadata": {
    "scrolled": true
   },
   "outputs": [
    {
     "name": "stdout",
     "output_type": "stream",
     "text": [
      "dummy\n",
      "season:  20122013 winingest_coach:  Dave Tippett\n",
      "season:  20142015 winingest_coach:  Mike Yeo\n",
      "season:  20152016 winingest_coach:  Mike Sullivan\n",
      "season:  20172018 winingest_coach:  Travis Green\n",
      "\n",
      "\n",
      "\n"
     ]
    }
   ],
   "source": [
    "for df,name in zip(dfs,df_names):\n",
    "    print(name)\n",
    "    data = df.groupby(['season','head_coach'])['won'].mean().unstack().T\n",
    "\n",
    "    for col in data:\n",
    "        print(\"season: \", col, \"winingest_coach: \", data[col].sort_values(ascending = False).index[0])\n",
    "        \n",
    "    print(\"\\n\\n\")"
   ]
  },
  {
   "cell_type": "markdown",
   "metadata": {},
   "source": [
    "### worst_coach\n",
    "worst win pct for season"
   ]
  },
  {
   "cell_type": "code",
   "execution_count": 134,
   "metadata": {},
   "outputs": [
    {
     "name": "stdout",
     "output_type": "stream",
     "text": [
      "dummy\n",
      "season:  20122013 worst_coach:  Joel Quenneville\n",
      "season:  20142015 worst_coach:  Todd Nelson\n",
      "season:  20152016 worst_coach:  John Hynes\n",
      "season:  20172018 worst_coach:  John Hynes\n",
      "\n",
      "\n",
      "\n"
     ]
    }
   ],
   "source": [
    "for df,name in zip(dfs,df_names):\n",
    "    print(name)\n",
    "    data = df.groupby(['season','head_coach'])['won'].mean().unstack().T\n",
    "\n",
    "    for col in data:\n",
    "        print(\"season: \", col, \"worst_coach: \", data[col].sort_values(ascending = True).index[0])\n",
    "        \n",
    "    print(\"\\n\\n\")"
   ]
  },
  {
   "cell_type": "markdown",
   "metadata": {},
   "source": [
    "### most accurate_team\n",
    "team with best ratio of shots to goal for season"
   ]
  },
  {
   "cell_type": "code",
   "execution_count": 135,
   "metadata": {},
   "outputs": [
    {
     "name": "stdout",
     "output_type": "stream",
     "text": [
      "dummy\n",
      "season:  20122013 best_shooting:  Kings\n",
      "season:  20142015 best_shooting:  Wild\n",
      "season:  20152016 best_shooting:  Blues\n",
      "season:  20172018 best_shooting:  Lightning\n",
      "\n",
      "\n",
      "\n"
     ]
    }
   ],
   "source": [
    "for df,name in zip(dfs,df_names):\n",
    "    print(name)\n",
    "    data = df.groupby(['season','teamName'])[['shots','goals']].sum()\n",
    "    data['shoot_pct'] = data['goals']/data['shots']\n",
    "    us = data['shoot_pct'].unstack().T\n",
    "\n",
    "    for col in us:\n",
    "        print(\"season: \", col, \"best_shooting: \", us[col].sort_values(ascending = False).index[0])\n",
    "\n",
    "    print(\"\\n\\n\")"
   ]
  },
  {
   "cell_type": "markdown",
   "metadata": {},
   "source": [
    "### least_accurate_team\n",
    "team with worst ratio of shots to goals for season"
   ]
  },
  {
   "cell_type": "code",
   "execution_count": 136,
   "metadata": {},
   "outputs": [
    {
     "name": "stdout",
     "output_type": "stream",
     "text": [
      "dummy\n",
      "season:  20122013 worst_shooting:  Hurricanes\n",
      "season:  20142015 worst_shooting:  Oilers\n",
      "season:  20152016 worst_shooting:  Wild\n",
      "season:  20172018 worst_shooting:  Devils\n",
      "\n",
      "\n",
      "\n"
     ]
    }
   ],
   "source": [
    "for df,name in zip(dfs,df_names):\n",
    "    print(name)\n",
    "    data = df.groupby(['season','teamName'])[['shots','goals']].sum()\n",
    "    data['shoot_pct'] = data['goals']/data['shots']\n",
    "    us = data['shoot_pct'].unstack().T\n",
    "\n",
    "    for col in us:\n",
    "        print(\"season: \", col, \"worst_shooting: \", us[col].sort_values(ascending = True).index[0])\n",
    "\n",
    "    print(\"\\n\\n\")"
   ]
  },
  {
   "cell_type": "markdown",
   "metadata": {},
   "source": [
    "### most_hits\n",
    "\n",
    "team with most hits in season"
   ]
  },
  {
   "cell_type": "code",
   "execution_count": 137,
   "metadata": {},
   "outputs": [
    {
     "name": "stdout",
     "output_type": "stream",
     "text": [
      "dummy\n",
      "season:  20122013 most_hits:  Bruins\n",
      "season:  20142015 most_hits:  Oilers\n",
      "season:  20152016 most_hits:  Sharks\n",
      "season:  20172018 most_hits:  Devils\n",
      "\n",
      "\n",
      "\n"
     ]
    }
   ],
   "source": [
    "for df,name in zip(dfs,df_names):\n",
    "    print(name)\n",
    "    us = df.groupby(['season','teamName'])['hits'].sum().unstack().T\n",
    "\n",
    "\n",
    "    for col in us:\n",
    "        print(\"season: \", col, \"most_hits: \", us[col].sort_values(ascending = False).index[0])\n",
    "\n",
    "    print(\"\\n\\n\")"
   ]
  },
  {
   "cell_type": "markdown",
   "metadata": {},
   "source": [
    "### least_hits\n",
    "team with least hits in season"
   ]
  },
  {
   "cell_type": "code",
   "execution_count": 138,
   "metadata": {
    "scrolled": true
   },
   "outputs": [
    {
     "name": "stdout",
     "output_type": "stream",
     "text": [
      "dummy\n",
      "season:  20122013 least_hits:  Blackhawks\n",
      "season:  20142015 least_hits:  Wild\n",
      "season:  20152016 least_hits:  Wild\n",
      "season:  20172018 least_hits:  Canucks\n",
      "\n",
      "\n",
      "\n"
     ]
    }
   ],
   "source": [
    "for df,name in zip(dfs,df_names):\n",
    "    print(name)\n",
    "    us = df.groupby(['season','teamName'])['hits'].sum().unstack().T\n",
    "\n",
    "\n",
    "    for col in us:\n",
    "        print(\"season: \", col, \"least_hits: \", us[col].sort_values(ascending = True).index[0])\n",
    "\n",
    "    print(\"\\n\\n\")"
   ]
  },
  {
   "cell_type": "markdown",
   "metadata": {},
   "source": [
    "### power_play_goal_pct\n",
    "pct of goals that were ppg for season (rounded to 100th)"
   ]
  },
  {
   "cell_type": "code",
   "execution_count": 139,
   "metadata": {},
   "outputs": [
    {
     "name": "stdout",
     "output_type": "stream",
     "text": [
      "dummy\n",
      "season\n",
      "20122013    0.214286\n",
      "20142015    0.000000\n",
      "20152016    0.545455\n",
      "20172018    0.153846\n",
      "Name: pct_ppg, dtype: float64\n",
      "\n",
      "\n",
      "\n"
     ]
    }
   ],
   "source": [
    "for df,name in zip(dfs,df_names):\n",
    "    print(name)\n",
    "\n",
    "    gb = df.groupby(\"season\")[['goals','powerPlayGoals']].sum()\n",
    "    gb['pct_ppg'] = gb['powerPlayGoals']/gb['goals']\n",
    "    print(gb['pct_ppg'])\n",
    "    \n",
    "    print(\"\\n\\n\")"
   ]
  }
 ],
 "metadata": {
  "kernelspec": {
   "display_name": "Python 3",
   "language": "python",
   "name": "python3"
  },
  "language_info": {
   "codemirror_mode": {
    "name": "ipython",
    "version": 3
   },
   "file_extension": ".py",
   "mimetype": "text/x-python",
   "name": "python",
   "nbconvert_exporter": "python",
   "pygments_lexer": "ipython3",
   "version": "3.7.1"
  }
 },
 "nbformat": 4,
 "nbformat_minor": 2
}
